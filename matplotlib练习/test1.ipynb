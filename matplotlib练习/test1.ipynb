def func(a):
    print('love you')
print('wodehaohaizi')
