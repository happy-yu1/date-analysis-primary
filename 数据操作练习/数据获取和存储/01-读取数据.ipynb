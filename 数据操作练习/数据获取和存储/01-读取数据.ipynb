{
 "cells": [
  {
   "cell_type": "code",
   "execution_count": 1,
   "metadata": {},
   "outputs": [
    {
     "data": {
      "text/plain": [
       "'C:\\\\Users\\\\Administrator.USER-20191004SY\\\\Desktop\\\\jupyter_projects\\\\pandas练习'"
      ]
     },
     "execution_count": 1,
     "metadata": {},
     "output_type": "execute_result"
    }
   ],
   "source": [
    "pwd  #可以查看当前文件所在的路径"
   ]
  },
  {
   "cell_type": "code",
   "execution_count": 2,
   "metadata": {},
   "outputs": [
    {
     "name": "stdout",
     "output_type": "stream",
     "text": [
      " 驱动器 C 中的卷没有标签。\n",
      " 卷的序列号是 CE2F-63AD\n",
      "\n",
      " C:\\Users\\Administrator.USER-20191004SY\\Desktop\\jupyter_projects\\pandas练习 的目录\n",
      "\n",
      "2019/12/12  21:33    <DIR>          .\n",
      "2019/12/12  21:33    <DIR>          ..\n",
      "2019/12/12  21:32    <DIR>          .ipynb_checkpoints\n",
      "2019/12/11  19:17             9,917 01--一维series.ipynb\n",
      "2019/12/12  21:16            94,998 02-二维DateFrame.ipynb\n",
      "2019/12/12  21:33               979 03-读取数据.ipynb\n",
      "2019/11/30  19:40             1,969 trainx.csv\n",
      "               4 个文件        107,863 字节\n",
      "               3 个目录 97,321,590,784 可用字节\n"
     ]
    }
   ],
   "source": [
    "ls"
   ]
  },
  {
   "cell_type": "code",
   "execution_count": null,
   "metadata": {},
   "outputs": [],
   "source": []
  }
 ],
 "metadata": {
  "kernelspec": {
   "display_name": "Python 3",
   "language": "python",
   "name": "python3"
  },
  "language_info": {
   "codemirror_mode": {
    "name": "ipython",
    "version": 3
   },
   "file_extension": ".py",
   "mimetype": "text/x-python",
   "name": "python",
   "nbconvert_exporter": "python",
   "pygments_lexer": "ipython3",
   "version": "3.7.3"
  }
 },
 "nbformat": 4,
 "nbformat_minor": 2
}
