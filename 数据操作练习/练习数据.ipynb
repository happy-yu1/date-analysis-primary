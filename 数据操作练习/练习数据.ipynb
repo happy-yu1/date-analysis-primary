{
 "cells": [
  {
   "cell_type": "code",
   "execution_count": 41,
   "metadata": {},
   "outputs": [],
   "source": [
    "import tushare as ts\n",
    "import pandas as pd \n",
    "import numpy as np \n",
    "pro=ts.pro_api('5f2dc9d17ebed3601a4fbea74148a25067d067138bf88515693e9b7d')\n",
    "df=pro.stock_basic(exchange='',list_status='L', fields='ts_code,symbol,name,area,industry,list_date')"
   ]
  },
  {
   "cell_type": "code",
   "execution_count": 26,
   "metadata": {},
   "outputs": [
    {
     "data": {
      "text/plain": [
       "array(['000001.SZ', '000002.SZ', '000004.SZ', ..., '688388.SH',\n",
       "       '688389.SH', '688399.SH'], dtype=object)"
      ]
     },
     "execution_count": 26,
     "metadata": {},
     "output_type": "execute_result"
    }
   ],
   "source": [
    "code=np.array(df['ts_code'])\n",
    "code"
   ]
  },
  {
   "cell_type": "code",
   "execution_count": 36,
   "metadata": {},
   "outputs": [
    {
     "data": {
      "text/html": [
       "<div>\n",
       "<style scoped>\n",
       "    .dataframe tbody tr th:only-of-type {\n",
       "        vertical-align: middle;\n",
       "    }\n",
       "\n",
       "    .dataframe tbody tr th {\n",
       "        vertical-align: top;\n",
       "    }\n",
       "\n",
       "    .dataframe thead th {\n",
       "        text-align: right;\n",
       "    }\n",
       "</style>\n",
       "<table border=\"1\" class=\"dataframe\">\n",
       "  <thead>\n",
       "    <tr style=\"text-align: right;\">\n",
       "      <th></th>\n",
       "      <th>ts_code</th>\n",
       "      <th>trade_date</th>\n",
       "      <th>turnover_rate</th>\n",
       "      <th>volume_ratio</th>\n",
       "      <th>pe</th>\n",
       "      <th>pb</th>\n",
       "    </tr>\n",
       "  </thead>\n",
       "  <tbody>\n",
       "    <tr>\n",
       "      <th>0</th>\n",
       "      <td>000001.SZ</td>\n",
       "      <td>20180726</td>\n",
       "      <td>0.4854</td>\n",
       "      <td>0.69</td>\n",
       "      <td>6.8492</td>\n",
       "      <td>0.7898</td>\n",
       "    </tr>\n",
       "  </tbody>\n",
       "</table>\n",
       "</div>"
      ],
      "text/plain": [
       "     ts_code trade_date  turnover_rate  volume_ratio      pe      pb\n",
       "0  000001.SZ   20180726         0.4854          0.69  6.8492  0.7898"
      ]
     },
     "execution_count": 36,
     "metadata": {},
     "output_type": "execute_result"
    }
   ],
   "source": [
    "\n",
    "for i in code:\n",
    "    \n",
    "     df1 = pro.daily_basic(ts_code=i,trade_date='20180726', fields='ts_code,trade_date,turnover_rate,volume_ratio,pe,pb')\n",
    "     df1\n",
    "     break"
   ]
  },
  {
   "cell_type": "code",
   "execution_count": null,
   "metadata": {},
   "outputs": [],
   "source": [
    "df1 = pro.daily_basic(ts_code=000001.SZ,trade_date='20180726', fields='ts_code,trade_date,turnover_rate,volume_ratio,pe,pb')\n",
    "df2=pro.daily_basic(ts_code=000002and.SZ,trade_date='20180726', fields='ts_code,trade_date,turnover_rate,volume_ratio,pe,pb') \n",
    "df1.merge()"
   ]
  },
  {
   "cell_type": "code",
   "execution_count": 52,
   "metadata": {},
   "outputs": [
    {
     "data": {
      "text/plain": [
       "dtype('<M8[ns]')"
      ]
     },
     "execution_count": 52,
     "metadata": {},
     "output_type": "execute_result"
    },
    {
     "data": {
      "text/html": [
       "<div>\n",
       "<style scoped>\n",
       "    .dataframe tbody tr th:only-of-type {\n",
       "        vertical-align: middle;\n",
       "    }\n",
       "\n",
       "    .dataframe tbody tr th {\n",
       "        vertical-align: top;\n",
       "    }\n",
       "\n",
       "    .dataframe thead th {\n",
       "        text-align: right;\n",
       "    }\n",
       "</style>\n",
       "<table border=\"1\" class=\"dataframe\">\n",
       "  <thead>\n",
       "    <tr style=\"text-align: right;\">\n",
       "      <th></th>\n",
       "      <th>ts_code</th>\n",
       "      <th>trade_date</th>\n",
       "      <th>turnover_rate</th>\n",
       "      <th>volume_ratio</th>\n",
       "      <th>pe</th>\n",
       "      <th>pb</th>\n",
       "    </tr>\n",
       "  </thead>\n",
       "  <tbody>\n",
       "    <tr>\n",
       "      <th>0</th>\n",
       "      <td>000001.SZ</td>\n",
       "      <td>2019-12-27</td>\n",
       "      <td>0.5373</td>\n",
       "      <td>2.00</td>\n",
       "      <td>13.0035</td>\n",
       "      <td>1.2036</td>\n",
       "    </tr>\n",
       "    <tr>\n",
       "      <th>1</th>\n",
       "      <td>000001.SZ</td>\n",
       "      <td>2019-12-26</td>\n",
       "      <td>0.1917</td>\n",
       "      <td>0.64</td>\n",
       "      <td>12.8784</td>\n",
       "      <td>1.1921</td>\n",
       "    </tr>\n",
       "    <tr>\n",
       "      <th>2</th>\n",
       "      <td>000001.SZ</td>\n",
       "      <td>2019-12-25</td>\n",
       "      <td>0.2138</td>\n",
       "      <td>0.63</td>\n",
       "      <td>12.7454</td>\n",
       "      <td>1.1798</td>\n",
       "    </tr>\n",
       "    <tr>\n",
       "      <th>3</th>\n",
       "      <td>000001.SZ</td>\n",
       "      <td>2019-12-24</td>\n",
       "      <td>0.2366</td>\n",
       "      <td>0.57</td>\n",
       "      <td>12.8236</td>\n",
       "      <td>1.1870</td>\n",
       "    </tr>\n",
       "    <tr>\n",
       "      <th>4</th>\n",
       "      <td>000001.SZ</td>\n",
       "      <td>2019-12-23</td>\n",
       "      <td>0.3689</td>\n",
       "      <td>0.87</td>\n",
       "      <td>12.6985</td>\n",
       "      <td>1.1754</td>\n",
       "    </tr>\n",
       "  </tbody>\n",
       "</table>\n",
       "</div>"
      ],
      "text/plain": [
       "     ts_code trade_date  turnover_rate  volume_ratio       pe      pb\n",
       "0  000001.SZ 2019-12-27         0.5373          2.00  13.0035  1.2036\n",
       "1  000001.SZ 2019-12-26         0.1917          0.64  12.8784  1.1921\n",
       "2  000001.SZ 2019-12-25         0.2138          0.63  12.7454  1.1798\n",
       "3  000001.SZ 2019-12-24         0.2366          0.57  12.8236  1.1870\n",
       "4  000001.SZ 2019-12-23         0.3689          0.87  12.6985  1.1754"
      ]
     },
     "execution_count": 52,
     "metadata": {},
     "output_type": "execute_result"
    }
   ],
   "source": [
    "df1 = pro.daily_basic(ts_code='000001.SZ',trade_date='', fields='ts_code,trade_date,turnover_rate,volume_ratio,pe,pb')\n",
    "df1['trade_date']=df1['trade_date'].astype('datetime64')\n",
    "df1['trade_date'].dtype\n",
    "df1.head()"
   ]
  },
  {
   "cell_type": "code",
   "execution_count": 66,
   "metadata": {
    "scrolled": true
   },
   "outputs": [],
   "source": [
    "df1=df1.set_index('trade_date').head()"
   ]
  },
  {
   "cell_type": "code",
   "execution_count": 67,
   "metadata": {},
   "outputs": [
    {
     "data": {
      "text/html": [
       "<div>\n",
       "<style scoped>\n",
       "    .dataframe tbody tr th:only-of-type {\n",
       "        vertical-align: middle;\n",
       "    }\n",
       "\n",
       "    .dataframe tbody tr th {\n",
       "        vertical-align: top;\n",
       "    }\n",
       "\n",
       "    .dataframe thead th {\n",
       "        text-align: right;\n",
       "    }\n",
       "</style>\n",
       "<table border=\"1\" class=\"dataframe\">\n",
       "  <thead>\n",
       "    <tr style=\"text-align: right;\">\n",
       "      <th></th>\n",
       "      <th>ts_code</th>\n",
       "      <th>turnover_rate</th>\n",
       "      <th>volume_ratio</th>\n",
       "      <th>pe</th>\n",
       "      <th>pb</th>\n",
       "    </tr>\n",
       "    <tr>\n",
       "      <th>trade_date</th>\n",
       "      <th></th>\n",
       "      <th></th>\n",
       "      <th></th>\n",
       "      <th></th>\n",
       "      <th></th>\n",
       "    </tr>\n",
       "  </thead>\n",
       "  <tbody>\n",
       "    <tr>\n",
       "      <th>2019-12-27</th>\n",
       "      <td>000001.SZ</td>\n",
       "      <td>0.5373</td>\n",
       "      <td>2.00</td>\n",
       "      <td>13.0035</td>\n",
       "      <td>1.2036</td>\n",
       "    </tr>\n",
       "    <tr>\n",
       "      <th>2019-12-26</th>\n",
       "      <td>000001.SZ</td>\n",
       "      <td>0.1917</td>\n",
       "      <td>0.64</td>\n",
       "      <td>12.8784</td>\n",
       "      <td>1.1921</td>\n",
       "    </tr>\n",
       "    <tr>\n",
       "      <th>2019-12-25</th>\n",
       "      <td>000001.SZ</td>\n",
       "      <td>0.2138</td>\n",
       "      <td>0.63</td>\n",
       "      <td>12.7454</td>\n",
       "      <td>1.1798</td>\n",
       "    </tr>\n",
       "    <tr>\n",
       "      <th>2019-12-24</th>\n",
       "      <td>000001.SZ</td>\n",
       "      <td>0.2366</td>\n",
       "      <td>0.57</td>\n",
       "      <td>12.8236</td>\n",
       "      <td>1.1870</td>\n",
       "    </tr>\n",
       "    <tr>\n",
       "      <th>2019-12-23</th>\n",
       "      <td>000001.SZ</td>\n",
       "      <td>0.3689</td>\n",
       "      <td>0.87</td>\n",
       "      <td>12.6985</td>\n",
       "      <td>1.1754</td>\n",
       "    </tr>\n",
       "  </tbody>\n",
       "</table>\n",
       "</div>"
      ],
      "text/plain": [
       "              ts_code  turnover_rate  volume_ratio       pe      pb\n",
       "trade_date                                                         \n",
       "2019-12-27  000001.SZ         0.5373          2.00  13.0035  1.2036\n",
       "2019-12-26  000001.SZ         0.1917          0.64  12.8784  1.1921\n",
       "2019-12-25  000001.SZ         0.2138          0.63  12.7454  1.1798\n",
       "2019-12-24  000001.SZ         0.2366          0.57  12.8236  1.1870\n",
       "2019-12-23  000001.SZ         0.3689          0.87  12.6985  1.1754"
      ]
     },
     "execution_count": 67,
     "metadata": {},
     "output_type": "execute_result"
    }
   ],
   "source": [
    "df1.head()"
   ]
  },
  {
   "cell_type": "code",
   "execution_count": 69,
   "metadata": {},
   "outputs": [
    {
     "data": {
      "text/html": [
       "<div>\n",
       "<style scoped>\n",
       "    .dataframe tbody tr th:only-of-type {\n",
       "        vertical-align: middle;\n",
       "    }\n",
       "\n",
       "    .dataframe tbody tr th {\n",
       "        vertical-align: top;\n",
       "    }\n",
       "\n",
       "    .dataframe thead th {\n",
       "        text-align: right;\n",
       "    }\n",
       "</style>\n",
       "<table border=\"1\" class=\"dataframe\">\n",
       "  <thead>\n",
       "    <tr style=\"text-align: right;\">\n",
       "      <th></th>\n",
       "      <th>ts_code</th>\n",
       "      <th>turnover_rate</th>\n",
       "      <th>volume_ratio</th>\n",
       "      <th>pe</th>\n",
       "      <th>pb</th>\n",
       "    </tr>\n",
       "    <tr>\n",
       "      <th>trade_date</th>\n",
       "      <th></th>\n",
       "      <th></th>\n",
       "      <th></th>\n",
       "      <th></th>\n",
       "      <th></th>\n",
       "    </tr>\n",
       "  </thead>\n",
       "  <tbody>\n",
       "    <tr>\n",
       "      <th>2019-12-27</th>\n",
       "      <td>000001.SZ</td>\n",
       "      <td>0.5373</td>\n",
       "      <td>2.00</td>\n",
       "      <td>13.0035</td>\n",
       "      <td>1.2036</td>\n",
       "    </tr>\n",
       "    <tr>\n",
       "      <th>2019-12-26</th>\n",
       "      <td>000001.SZ</td>\n",
       "      <td>0.1917</td>\n",
       "      <td>0.64</td>\n",
       "      <td>12.8784</td>\n",
       "      <td>1.1921</td>\n",
       "    </tr>\n",
       "    <tr>\n",
       "      <th>2019-12-25</th>\n",
       "      <td>000001.SZ</td>\n",
       "      <td>0.2138</td>\n",
       "      <td>0.63</td>\n",
       "      <td>12.7454</td>\n",
       "      <td>1.1798</td>\n",
       "    </tr>\n",
       "    <tr>\n",
       "      <th>2019-12-24</th>\n",
       "      <td>000001.SZ</td>\n",
       "      <td>0.2366</td>\n",
       "      <td>0.57</td>\n",
       "      <td>12.8236</td>\n",
       "      <td>1.1870</td>\n",
       "    </tr>\n",
       "    <tr>\n",
       "      <th>2019-12-23</th>\n",
       "      <td>000001.SZ</td>\n",
       "      <td>0.3689</td>\n",
       "      <td>0.87</td>\n",
       "      <td>12.6985</td>\n",
       "      <td>1.1754</td>\n",
       "    </tr>\n",
       "  </tbody>\n",
       "</table>\n",
       "</div>"
      ],
      "text/plain": [
       "              ts_code  turnover_rate  volume_ratio       pe      pb\n",
       "trade_date                                                         \n",
       "2019-12-27  000001.SZ         0.5373          2.00  13.0035  1.2036\n",
       "2019-12-26  000001.SZ         0.1917          0.64  12.8784  1.1921\n",
       "2019-12-25  000001.SZ         0.2138          0.63  12.7454  1.1798\n",
       "2019-12-24  000001.SZ         0.2366          0.57  12.8236  1.1870\n",
       "2019-12-23  000001.SZ         0.3689          0.87  12.6985  1.1754"
      ]
     },
     "execution_count": 69,
     "metadata": {},
     "output_type": "execute_result"
    }
   ],
   "source": [
    "df1['2019']"
   ]
  },
  {
   "cell_type": "code",
   "execution_count": null,
   "metadata": {},
   "outputs": [],
   "source": []
  }
 ],
 "metadata": {
  "kernelspec": {
   "display_name": "Python 3",
   "language": "python",
   "name": "python3"
  },
  "language_info": {
   "codemirror_mode": {
    "name": "ipython",
    "version": 3
   },
   "file_extension": ".py",
   "mimetype": "text/x-python",
   "name": "python",
   "nbconvert_exporter": "python",
   "pygments_lexer": "ipython3",
   "version": "3.7.3"
  },
  "toc": {
   "base_numbering": 1,
   "nav_menu": {},
   "number_sections": true,
   "sideBar": true,
   "skip_h1_title": false,
   "title_cell": "Table of Contents",
   "title_sidebar": "Contents",
   "toc_cell": false,
   "toc_position": {},
   "toc_section_display": true,
   "toc_window_display": false
  }
 },
 "nbformat": 4,
 "nbformat_minor": 2
}
