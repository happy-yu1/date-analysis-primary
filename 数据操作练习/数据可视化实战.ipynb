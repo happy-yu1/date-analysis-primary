{
 "cells": [
  {
   "cell_type": "code",
   "execution_count": 1,
   "metadata": {},
   "outputs": [],
   "source": [
    "import tushare as ts\n",
    "import numpy as np\n",
    "import pandas as pd\n",
    "import matplotlib.pyplot as plt"
   ]
  },
  {
   "cell_type": "markdown",
   "metadata": {},
   "source": [
    "### 1、gpd变化--折线图"
   ]
  },
  {
   "cell_type": "code",
   "execution_count": 87,
   "metadata": {},
   "outputs": [
    {
     "data": {
      "text/html": [
       "<div>\n",
       "<style scoped>\n",
       "    .dataframe tbody tr th:only-of-type {\n",
       "        vertical-align: middle;\n",
       "    }\n",
       "\n",
       "    .dataframe tbody tr th {\n",
       "        vertical-align: top;\n",
       "    }\n",
       "\n",
       "    .dataframe thead th {\n",
       "        text-align: right;\n",
       "    }\n",
       "</style>\n",
       "<table border=\"1\" class=\"dataframe\">\n",
       "  <thead>\n",
       "    <tr style=\"text-align: right;\">\n",
       "      <th></th>\n",
       "      <th>year</th>\n",
       "      <th>gdp</th>\n",
       "      <th>pc_gdp</th>\n",
       "      <th>gnp</th>\n",
       "      <th>pi</th>\n",
       "      <th>si</th>\n",
       "      <th>industry</th>\n",
       "      <th>cons_industry</th>\n",
       "      <th>ti</th>\n",
       "      <th>trans_industry</th>\n",
       "      <th>lbdy</th>\n",
       "    </tr>\n",
       "  </thead>\n",
       "  <tbody>\n",
       "    <tr>\n",
       "      <th>0</th>\n",
       "      <td>2018</td>\n",
       "      <td>919281.0</td>\n",
       "      <td>64644.0</td>\n",
       "      <td>NaN</td>\n",
       "      <td>64745.0</td>\n",
       "      <td>364835.0</td>\n",
       "      <td>305160.2</td>\n",
       "      <td>61808.0</td>\n",
       "      <td>489701.0</td>\n",
       "      <td>40550.2</td>\n",
       "      <td>100223.8</td>\n",
       "    </tr>\n",
       "    <tr>\n",
       "      <th>1</th>\n",
       "      <td>2017</td>\n",
       "      <td>820754.3</td>\n",
       "      <td>59201.0</td>\n",
       "      <td>NaN</td>\n",
       "      <td>62099.5</td>\n",
       "      <td>332742.7</td>\n",
       "      <td>278328.2</td>\n",
       "      <td>55313.8</td>\n",
       "      <td>425912.1</td>\n",
       "      <td>37172.6</td>\n",
       "      <td>92348.2</td>\n",
       "    </tr>\n",
       "    <tr>\n",
       "      <th>2</th>\n",
       "      <td>2016</td>\n",
       "      <td>740060.8</td>\n",
       "      <td>53680.0</td>\n",
       "      <td>NaN</td>\n",
       "      <td>60139.2</td>\n",
       "      <td>296547.7</td>\n",
       "      <td>247877.7</td>\n",
       "      <td>49702.9</td>\n",
       "      <td>383373.9</td>\n",
       "      <td>33058.8</td>\n",
       "      <td>84648.8</td>\n",
       "    </tr>\n",
       "    <tr>\n",
       "      <th>3</th>\n",
       "      <td>2015</td>\n",
       "      <td>685992.9</td>\n",
       "      <td>50028.0</td>\n",
       "      <td>NaN</td>\n",
       "      <td>57774.6</td>\n",
       "      <td>282040.3</td>\n",
       "      <td>236506.3</td>\n",
       "      <td>46626.7</td>\n",
       "      <td>346178.0</td>\n",
       "      <td>30487.8</td>\n",
       "      <td>78340.4</td>\n",
       "    </tr>\n",
       "    <tr>\n",
       "      <th>4</th>\n",
       "      <td>2014</td>\n",
       "      <td>641280.6</td>\n",
       "      <td>47005.0</td>\n",
       "      <td>NaN</td>\n",
       "      <td>55626.3</td>\n",
       "      <td>277571.8</td>\n",
       "      <td>233856.4</td>\n",
       "      <td>44880.5</td>\n",
       "      <td>308082.5</td>\n",
       "      <td>28500.9</td>\n",
       "      <td>73582.0</td>\n",
       "    </tr>\n",
       "  </tbody>\n",
       "</table>\n",
       "</div>"
      ],
      "text/plain": [
       "   year       gdp   pc_gdp  gnp       pi        si  industry  cons_industry  \\\n",
       "0  2018  919281.0  64644.0  NaN  64745.0  364835.0  305160.2        61808.0   \n",
       "1  2017  820754.3  59201.0  NaN  62099.5  332742.7  278328.2        55313.8   \n",
       "2  2016  740060.8  53680.0  NaN  60139.2  296547.7  247877.7        49702.9   \n",
       "3  2015  685992.9  50028.0  NaN  57774.6  282040.3  236506.3        46626.7   \n",
       "4  2014  641280.6  47005.0  NaN  55626.3  277571.8  233856.4        44880.5   \n",
       "\n",
       "         ti  trans_industry      lbdy  \n",
       "0  489701.0         40550.2  100223.8  \n",
       "1  425912.1         37172.6   92348.2  \n",
       "2  383373.9         33058.8   84648.8  \n",
       "3  346178.0         30487.8   78340.4  \n",
       "4  308082.5         28500.9   73582.0  "
      ]
     },
     "execution_count": 87,
     "metadata": {},
     "output_type": "execute_result"
    }
   ],
   "source": [
    "pro=ts.get_gdp_year()\n",
    "pro.head()"
   ]
  },
  {
   "cell_type": "code",
   "execution_count": 8,
   "metadata": {},
   "outputs": [],
   "source": [
    "\n",
    "year=pro.year[:19]\n",
    "gdp=pro.gdp[:19]/10"
   ]
  },
  {
   "cell_type": "code",
   "execution_count": 88,
   "metadata": {},
   "outputs": [
    {
     "data": {
      "text/plain": [
       "1    2017\n",
       "2    2016\n",
       "3    2015\n",
       "4    2014\n",
       "5    2013\n",
       "Name: year, dtype: int64"
      ]
     },
     "execution_count": 88,
     "metadata": {},
     "output_type": "execute_result"
    }
   ],
   "source": [
    "year.head()"
   ]
  },
  {
   "cell_type": "code",
   "execution_count": 89,
   "metadata": {},
   "outputs": [
    {
     "data": {
      "text/plain": [
       "0    91928.10\n",
       "1    82075.43\n",
       "2    74006.08\n",
       "3    68599.29\n",
       "4    64128.06\n",
       "Name: gdp, dtype: float64"
      ]
     },
     "execution_count": 89,
     "metadata": {},
     "output_type": "execute_result"
    }
   ],
   "source": [
    "gdp.head()"
   ]
  },
  {
   "cell_type": "code",
   "execution_count": 32,
   "metadata": {},
   "outputs": [
    {
     "data": {
      "image/png": "[encoded data removed]",
      "text/plain": [
       "<Figure size 1600x640 with 1 Axes>"
      ]
     },
     "metadata": {
      "needs_background": "light"
     },
     "output_type": "display_data"
    }
   ],
   "source": [
    "plt.figure(figsize=(20, 8), dpi=80)\n",
    "plt.plot(year,gdp,c='g',marker='x',linewidth=2,markersize=16)\n",
    "plt.ylabel('Billion RMB',fontsize=20)  #fontsize设置标签字体大小\n",
    "plt.title('GDP-2000~2018',fontsize=20)\n",
    "plt.tick_params(axis='both',labelsize=14)  #设置刻度大小"
   ]
  },
  {
   "cell_type": "markdown",
   "metadata": {},
   "source": [
    "### 2、三大产业对gdp的拉动情况--条形图\n",
    "### pi :第一产业拉动率(%)   si :第二产业拉动率(%)   ti :第三产业拉动率(%)"
   ]
  },
  {
   "cell_type": "code",
   "execution_count": 59,
   "metadata": {},
   "outputs": [
    {
     "data": {
      "text/html": [
       "<div>\n",
       "<style scoped>\n",
       "    .dataframe tbody tr th:only-of-type {\n",
       "        vertical-align: middle;\n",
       "    }\n",
       "\n",
       "    .dataframe tbody tr th {\n",
       "        vertical-align: top;\n",
       "    }\n",
       "\n",
       "    .dataframe thead th {\n",
       "        text-align: right;\n",
       "    }\n",
       "</style>\n",
       "<table border=\"1\" class=\"dataframe\">\n",
       "  <thead>\n",
       "    <tr style=\"text-align: right;\">\n",
       "      <th></th>\n",
       "      <th>year</th>\n",
       "      <th>gdp_yoy</th>\n",
       "      <th>pi</th>\n",
       "      <th>si</th>\n",
       "      <th>industry</th>\n",
       "      <th>ti</th>\n",
       "    </tr>\n",
       "  </thead>\n",
       "  <tbody>\n",
       "    <tr>\n",
       "      <th>1</th>\n",
       "      <td>2017</td>\n",
       "      <td>6.8</td>\n",
       "      <td>0.3</td>\n",
       "      <td>2.4</td>\n",
       "      <td>2.1</td>\n",
       "      <td>4.0</td>\n",
       "    </tr>\n",
       "    <tr>\n",
       "      <th>2</th>\n",
       "      <td>2016</td>\n",
       "      <td>6.7</td>\n",
       "      <td>0.3</td>\n",
       "      <td>2.6</td>\n",
       "      <td>2.1</td>\n",
       "      <td>3.9</td>\n",
       "    </tr>\n",
       "    <tr>\n",
       "      <th>3</th>\n",
       "      <td>2015</td>\n",
       "      <td>6.9</td>\n",
       "      <td>0.3</td>\n",
       "      <td>2.9</td>\n",
       "      <td>2.4</td>\n",
       "      <td>3.7</td>\n",
       "    </tr>\n",
       "    <tr>\n",
       "      <th>4</th>\n",
       "      <td>2014</td>\n",
       "      <td>7.3</td>\n",
       "      <td>0.3</td>\n",
       "      <td>3.5</td>\n",
       "      <td>2.9</td>\n",
       "      <td>3.5</td>\n",
       "    </tr>\n",
       "    <tr>\n",
       "      <th>5</th>\n",
       "      <td>2013</td>\n",
       "      <td>7.8</td>\n",
       "      <td>0.3</td>\n",
       "      <td>3.8</td>\n",
       "      <td>3.1</td>\n",
       "      <td>3.7</td>\n",
       "    </tr>\n",
       "    <tr>\n",
       "      <th>6</th>\n",
       "      <td>2012</td>\n",
       "      <td>7.9</td>\n",
       "      <td>0.4</td>\n",
       "      <td>3.9</td>\n",
       "      <td>3.3</td>\n",
       "      <td>3.5</td>\n",
       "    </tr>\n",
       "    <tr>\n",
       "      <th>7</th>\n",
       "      <td>2011</td>\n",
       "      <td>9.6</td>\n",
       "      <td>0.4</td>\n",
       "      <td>5.0</td>\n",
       "      <td>4.4</td>\n",
       "      <td>4.2</td>\n",
       "    </tr>\n",
       "    <tr>\n",
       "      <th>8</th>\n",
       "      <td>2010</td>\n",
       "      <td>10.6</td>\n",
       "      <td>0.4</td>\n",
       "      <td>6.1</td>\n",
       "      <td>5.3</td>\n",
       "      <td>4.2</td>\n",
       "    </tr>\n",
       "    <tr>\n",
       "      <th>9</th>\n",
       "      <td>2009</td>\n",
       "      <td>9.4</td>\n",
       "      <td>0.4</td>\n",
       "      <td>4.9</td>\n",
       "      <td>3.8</td>\n",
       "      <td>4.1</td>\n",
       "    </tr>\n",
       "  </tbody>\n",
       "</table>\n",
       "</div>"
      ],
      "text/plain": [
       "   year  gdp_yoy   pi   si  industry   ti\n",
       "1  2017      6.8  0.3  2.4       2.1  4.0\n",
       "2  2016      6.7  0.3  2.6       2.1  3.9\n",
       "3  2015      6.9  0.3  2.9       2.4  3.7\n",
       "4  2014      7.3  0.3  3.5       2.9  3.5\n",
       "5  2013      7.8  0.3  3.8       3.1  3.7\n",
       "6  2012      7.9  0.4  3.9       3.3  3.5\n",
       "7  2011      9.6  0.4  5.0       4.4  4.2\n",
       "8  2010     10.6  0.4  6.1       5.3  4.2\n",
       "9  2009      9.4  0.4  4.9       3.8  4.1"
      ]
     },
     "execution_count": 59,
     "metadata": {},
     "output_type": "execute_result"
    }
   ],
   "source": [
    "import tushare as ts\n",
    "\n",
    "pro=ts.get_gdp_pull()\n",
    "pro[1:10]"
   ]
  },
  {
   "cell_type": "code",
   "execution_count": 60,
   "metadata": {},
   "outputs": [],
   "source": [
    "years=pro.year[1:10]\n",
    "pull_pi=pro.pi[1:10]\n",
    "pull_si=pro.si[1:10]\n",
    "pull_ti=pro.ti[1:10]"
   ]
  },
  {
   "cell_type": "code",
   "execution_count": 85,
   "metadata": {},
   "outputs": [
    {
     "data": {
      "image/png": "[encoded data removed]",
      "text/plain": [
       "<Figure size 1600x640 with 1 Axes>"
      ]
     },
     "metadata": {
      "needs_background": "light"
     },
     "output_type": "display_data"
    }
   ],
   "source": [
    "plt.figure(figsize=(20, 8), dpi=80)\n",
    "\n",
    "\n",
    "plt.bar(list(years),pull_si,label='si')\n",
    "plt.bar(list(years),pull_ti,label='ti')\n",
    "plt.bar(list(years),pull_pi,label='pi')\n",
    "plt.legend()\n",
    "# plt.xticks（list(range(len(years))),list(years)）\n",
    "plt.show()\n"
   ]
  },
  {
   "cell_type": "code",
   "execution_count": null,
   "metadata": {},
   "outputs": [],
   "source": []
  }
 ],
 "metadata": {
  "kernelspec": {
   "display_name": "Python 3",
   "language": "python",
   "name": "python3"
  },
  "language_info": {
   "codemirror_mode": {
    "name": "ipython",
    "version": 3
   },
   "file_extension": ".py",
   "mimetype": "text/x-python",
   "name": "python",
   "nbconvert_exporter": "python",
   "pygments_lexer": "ipython3",
   "version": "3.7.3"
  }
 },
 "nbformat": 4,
 "nbformat_minor": 2
}
