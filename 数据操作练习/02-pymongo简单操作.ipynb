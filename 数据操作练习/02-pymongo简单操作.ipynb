{
 "cells": [
  {
   "cell_type": "markdown",
   "metadata": {},
   "source": [
    "### 1、连接上mongo客户端\n",
    "#### 后台需要连接上MongoDB，不然不行"
   ]
  },
  {
   "cell_type": "code",
   "execution_count": 1,
   "metadata": {},
   "outputs": [],
   "source": [
    "from pymongo import MongoClient"
   ]
  },
  {
   "cell_type": "code",
   "execution_count": 2,
   "metadata": {},
   "outputs": [],
   "source": [
    "client=MongoClient(host=\"localhost\",port=27017)"
   ]
  },
  {
   "cell_type": "code",
   "execution_count": 4,
   "metadata": {},
   "outputs": [
    {
     "data": {
      "text/plain": [
       "MongoClient(host=['localhost:27017'], document_class=dict, tz_aware=False, connect=True)"
      ]
     },
     "execution_count": 4,
     "metadata": {},
     "output_type": "execute_result"
    }
   ],
   "source": [
    "client   #显示现在登录的信息，connect=True表示已经连接上了"
   ]
  },
  {
   "cell_type": "markdown",
   "metadata": {},
   "source": [
    "#### 1.1一些默认值的介绍\n",
    "'arbiters',    # 查看仲裁者\n",
    " 'close',       # 关闭连接\n",
    " 'close_cursor', \n",
    " 'database_names',  # 查看所有数据库的名字，这里需要进行认证后查看，否则会报 OperationFailure: command listDatabases requires authentication\n",
    " 'get_database',    # 获取数据库，这里可以  \n",
    " \n",
    " 'is_primary',   # 是否为主节点\n",
    " 'list_database_names',  # 等同于 database_names()\n",
    " 'max_pool_size',        # 当前最大连接数"
   ]
  },
  {
   "cell_type": "code",
   "execution_count": 5,
   "metadata": {},
   "outputs": [
    {
     "data": {
      "text/plain": [
       "('localhost', 27017)"
      ]
     },
     "execution_count": 5,
     "metadata": {},
     "output_type": "execute_result"
    }
   ],
   "source": [
    "client.address  # 查看当前连接的地址"
   ]
  },
  {
   "cell_type": "code",
   "execution_count": 6,
   "metadata": {},
   "outputs": [
    {
     "data": {
      "text/plain": [
       "<bound method MongoClient.database_names of MongoClient(host=['localhost:27017'], document_class=dict, tz_aware=False, connect=True)>"
      ]
     },
     "execution_count": 6,
     "metadata": {},
     "output_type": "execute_result"
    }
   ],
   "source": [
    "client.database_names"
   ]
  },
  {
   "cell_type": "code",
   "execution_count": 7,
   "metadata": {},
   "outputs": [
    {
     "data": {
      "text/plain": [
       "100"
      ]
     },
     "execution_count": 7,
     "metadata": {},
     "output_type": "execute_result"
    }
   ],
   "source": [
    "client.max_pool_size  #表示当前连接数"
   ]
  },
  {
   "cell_type": "code",
   "execution_count": 8,
   "metadata": {},
   "outputs": [
    {
     "data": {
      "text/plain": [
       "Database(MongoClient(host=['localhost:27017'], document_class=dict, tz_aware=False, connect=True), 'admin')"
      ]
     },
     "execution_count": 8,
     "metadata": {},
     "output_type": "execute_result"
    }
   ],
   "source": [
    "client.admin"
   ]
  },
  {
   "cell_type": "markdown",
   "metadata": {},
   "source": [
    "### 2、简单尝试"
   ]
  },
  {
   "cell_type": "markdown",
   "metadata": {},
   "source": [
    "#### 2.1 增加一条数据"
   ]
  },
  {
   "cell_type": "code",
   "execution_count": 9,
   "metadata": {},
   "outputs": [],
   "source": [
    "db=client.test   #获取数据库"
   ]
  },
  {
   "cell_type": "code",
   "execution_count": 27,
   "metadata": {},
   "outputs": [],
   "source": [
    "col = db.test      # 获取集合"
   ]
  },
  {
   "cell_type": "code",
   "execution_count": 23,
   "metadata": {},
   "outputs": [],
   "source": [
    "item = {'user': 'tangluoyan', 'age': 24}   # 组织数据"
   ]
  },
  {
   "cell_type": "code",
   "execution_count": 24,
   "metadata": {},
   "outputs": [
    {
     "data": {
      "text/plain": [
       "ObjectId('5df38e97d812b994d9dbdee7')"
      ]
     },
     "execution_count": 24,
     "metadata": {},
     "output_type": "execute_result"
    }
   ],
   "source": [
    "result = col.insert_one(item).inserted_id\n",
    "result"
   ]
  },
  {
   "cell_type": "markdown",
   "metadata": {},
   "source": [
    "#### 2.2 增加多条数据"
   ]
  },
  {
   "cell_type": "code",
   "execution_count": 43,
   "metadata": {},
   "outputs": [],
   "source": [
    "items=[{'name':'888','age':23,'socre':78},\n",
    "   {'name':'li4','age':16,'socre':81},\n",
    "   {'name':'w5','age':27,'socre':48}]"
   ]
  },
  {
   "cell_type": "code",
   "execution_count": 44,
   "metadata": {},
   "outputs": [],
   "source": [
    "results = col.insert_many(items).inserted_ids"
   ]
  },
  {
   "cell_type": "code",
   "execution_count": 45,
   "metadata": {},
   "outputs": [
    {
     "data": {
      "text/plain": [
       "[ObjectId('5df39128d812b994d9dbdef1'),\n",
       " ObjectId('5df39128d812b994d9dbdef2'),\n",
       " ObjectId('5df39128d812b994d9dbdef3')]"
      ]
     },
     "execution_count": 45,
     "metadata": {},
     "output_type": "execute_result"
    }
   ],
   "source": [
    "results"
   ]
  },
  {
   "cell_type": "markdown",
   "metadata": {},
   "source": [
    "#### 2.3 查询匹配的第一个数据"
   ]
  },
  {
   "cell_type": "code",
   "execution_count": 46,
   "metadata": {},
   "outputs": [
    {
     "data": {
      "text/plain": [
       "[{'_id': ObjectId('5df38d3dd812b994d9dbdee3'),\n",
       "  'user': 'tangluoyan',\n",
       "  'age': 24},\n",
       " {'_id': ObjectId('5df38defd812b994d9dbdee4'),\n",
       "  'name': 'z3',\n",
       "  'age': 23,\n",
       "  'socre': 78},\n",
       " {'_id': ObjectId('5df38defd812b994d9dbdee5'),\n",
       "  'name': 'li4',\n",
       "  'age': 16,\n",
       "  'socre': 81},\n",
       " {'_id': ObjectId('5df38defd812b994d9dbdee6'),\n",
       "  'name': 'w5',\n",
       "  'age': 27,\n",
       "  'socre': 48},\n",
       " {'_id': ObjectId('5df38e97d812b994d9dbdee7'),\n",
       "  'user': 'tangluoyan',\n",
       "  'age': 24},\n",
       " {'_id': ObjectId('5df38ec6d812b994d9dbdee8'),\n",
       "  'name': 'z3',\n",
       "  'age': 23,\n",
       "  'socre': 78},\n",
       " {'_id': ObjectId('5df38ec6d812b994d9dbdee9'),\n",
       "  'name': 'li4',\n",
       "  'age': 16,\n",
       "  'socre': 81},\n",
       " {'_id': ObjectId('5df38ec6d812b994d9dbdeea'),\n",
       "  'name': 'w5',\n",
       "  'age': 27,\n",
       "  'socre': 48},\n",
       " {'_id': ObjectId('5df3904ed812b994d9dbdeeb'),\n",
       "  'name': '6666',\n",
       "  'age': 23,\n",
       "  'socre': 78},\n",
       " {'_id': ObjectId('5df3904ed812b994d9dbdeec'),\n",
       "  'name': 'li4',\n",
       "  'age': 16,\n",
       "  'socre': 81},\n",
       " {'_id': ObjectId('5df3904ed812b994d9dbdeed'),\n",
       "  'name': 'w5',\n",
       "  'age': 27,\n",
       "  'socre': 48},\n",
       " {'_id': ObjectId('5df39107d812b994d9dbdeee'),\n",
       "  'name': '7777',\n",
       "  'age': 23,\n",
       "  'socre': 78},\n",
       " {'_id': ObjectId('5df39107d812b994d9dbdeef'),\n",
       "  'name': 'li4',\n",
       "  'age': 16,\n",
       "  'socre': 81},\n",
       " {'_id': ObjectId('5df39107d812b994d9dbdef0'),\n",
       "  'name': 'w5',\n",
       "  'age': 27,\n",
       "  'socre': 48},\n",
       " {'_id': ObjectId('5df39128d812b994d9dbdef1'),\n",
       "  'name': '888',\n",
       "  'age': 23,\n",
       "  'socre': 78},\n",
       " {'_id': ObjectId('5df39128d812b994d9dbdef2'),\n",
       "  'name': 'li4',\n",
       "  'age': 16,\n",
       "  'socre': 81},\n",
       " {'_id': ObjectId('5df39128d812b994d9dbdef3'),\n",
       "  'name': 'w5',\n",
       "  'age': 27,\n",
       "  'socre': 48}]"
      ]
     },
     "execution_count": 46,
     "metadata": {},
     "output_type": "execute_result"
    }
   ],
   "source": [
    "first=list(col.find())\n",
    "first"
   ]
  },
  {
   "cell_type": "code",
   "execution_count": null,
   "metadata": {},
   "outputs": [],
   "source": []
  }
 ],
 "metadata": {
  "kernelspec": {
   "display_name": "Python 3",
   "language": "python",
   "name": "python3"
  },
  "language_info": {
   "codemirror_mode": {
    "name": "ipython",
    "version": 3
   },
   "file_extension": ".py",
   "mimetype": "text/x-python",
   "name": "python",
   "nbconvert_exporter": "python",
   "pygments_lexer": "ipython3",
   "version": "3.7.3"
  }
 },
 "nbformat": 4,
 "nbformat_minor": 2
}
