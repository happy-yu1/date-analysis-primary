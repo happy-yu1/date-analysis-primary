{
 "cells": [
  {
   "cell_type": "markdown",
   "metadata": {},
   "source": [
    "# fft.fft为傅里叶转换，fft.ifft为傅里叶反转"
   ]
  },
  {
   "cell_type": "code",
   "execution_count": 14,
   "metadata": {},
   "outputs": [],
   "source": [
    "import pandas as pd\n",
    "import numpy as np\n",
    "from numpy.fft import fft,ifft\n",
    "\n",
    "from PIL import Image   #导入图片库PIL中的Image"
   ]
  },
  {
   "cell_type": "markdown",
   "metadata": {},
   "source": [
    "# 打开图片"
   ]
  },
  {
   "cell_type": "code",
   "execution_count": 54,
   "metadata": {},
   "outputs": [],
   "source": [
    "a=Image.open('b.jpg')"
   ]
  },
  {
   "cell_type": "code",
   "execution_count": 16,
   "metadata": {},
   "outputs": [],
   "source": [
    "a.show()"
   ]
  },
  {
   "cell_type": "markdown",
   "metadata": {},
   "source": [
    "# 转换"
   ]
  },
  {
   "cell_type": "markdown",
   "metadata": {},
   "source": [
    "## 转换成int类型的数据\n",
    "用int8即可，因为图片的色彩分布是0~255，\n",
    "int8最大的是128，int16的话太大为128*128"
   ]
  },
  {
   "cell_type": "code",
   "execution_count": 47,
   "metadata": {},
   "outputs": [
    {
     "data": {
      "text/plain": [
       "array([127, 126, 121, ...,  66,  63,  56], dtype=int8)"
      ]
     },
     "execution_count": 47,
     "metadata": {},
     "output_type": "execute_result"
    }
   ],
   "source": [
    "a_data=np.frombuffer(a.tobytes(),dtype=np.int8)   #之前的fromstring 变成 frombuffer\n",
    "a_data"
   ]
  },
  {
   "cell_type": "markdown",
   "metadata": {},
   "source": [
    "## 傅里叶转换后的结果包含实数和虚数"
   ]
  },
  {
   "cell_type": "code",
   "execution_count": 48,
   "metadata": {},
   "outputs": [
    {
     "data": {
      "text/plain": [
       "array([ 5.42626941e+08-4.37111802e-10j, -4.38197864e+07-6.61855361e+04j,\n",
       "        3.37274932e+07-1.67969482e+08j, ...,\n",
       "        3.43226998e+07-2.64062905e+07j,  3.37274932e+07+1.67969482e+08j,\n",
       "       -4.38197864e+07+6.61855361e+04j])"
      ]
     },
     "execution_count": 48,
     "metadata": {},
     "output_type": "execute_result"
    }
   ],
   "source": [
    "a_data_fft=fft(a_data)\n",
    "a_data_fft"
   ]
  },
  {
   "cell_type": "markdown",
   "metadata": {},
   "source": [
    "## 去掉低频数据\n",
    "将低频数据变为0"
   ]
  },
  {
   "cell_type": "code",
   "execution_count": 28,
   "metadata": {},
   "outputs": [
    {
     "data": {
      "text/plain": [
       "100000.0"
      ]
     },
     "execution_count": 28,
     "metadata": {},
     "output_type": "execute_result"
    }
   ],
   "source": [
    "1e5  #前面的是数字1"
   ]
  },
  {
   "cell_type": "code",
   "execution_count": 49,
   "metadata": {},
   "outputs": [
    {
     "data": {
      "text/plain": [
       "array([ 5.42626941e+08-4.37111802e-10j, -4.38197864e+07-6.61855361e+04j,\n",
       "        3.37274932e+07-1.67969482e+08j, ...,\n",
       "        3.43226998e+07-2.64062905e+07j,  3.37274932e+07+1.67969482e+08j,\n",
       "       -4.38197864e+07+6.61855361e+04j])"
      ]
     },
     "execution_count": 49,
     "metadata": {},
     "output_type": "execute_result"
    }
   ],
   "source": [
    "np.where(np.abs(a_data_fft)<1e5,0,a_data_fft)"
   ]
  },
  {
   "cell_type": "markdown",
   "metadata": {},
   "source": [
    "## 进行傅里叶反转\n",
    "依然有实部和虚部"
   ]
  },
  {
   "cell_type": "code",
   "execution_count": 50,
   "metadata": {},
   "outputs": [
    {
     "data": {
      "text/plain": [
       "array([127.+1.17542008e-14j, 126.+4.46754837e-14j, 121.+2.80901702e-15j,\n",
       "       ...,  66.-3.01912759e-14j,  63.-7.22933217e-14j,\n",
       "        56.-2.98480845e-14j])"
      ]
     },
     "execution_count": 50,
     "metadata": {},
     "output_type": "execute_result"
    }
   ],
   "source": [
    "a_data_ifft=ifft(a_data_fft)\n",
    "a_data_ifft"
   ]
  },
  {
   "cell_type": "markdown",
   "metadata": {},
   "source": [
    "## 获取实部"
   ]
  },
  {
   "cell_type": "code",
   "execution_count": 51,
   "metadata": {},
   "outputs": [
    {
     "data": {
      "text/plain": [
       "array([127., 126., 121., ...,  66.,  63.,  56.])"
      ]
     },
     "execution_count": 51,
     "metadata": {},
     "output_type": "execute_result"
    }
   ],
   "source": [
    "a_data_real=np.real(a_data_ifft)\n",
    "a_data_real"
   ]
  },
  {
   "cell_type": "markdown",
   "metadata": {},
   "source": [
    "## 去掉小数部分"
   ]
  },
  {
   "cell_type": "code",
   "execution_count": 52,
   "metadata": {},
   "outputs": [
    {
     "data": {
      "text/plain": [
       "array([126, 126, 120, ...,  66,  63,  55], dtype=int8)"
      ]
     },
     "execution_count": 52,
     "metadata": {},
     "output_type": "execute_result"
    }
   ],
   "source": [
    "a_data_result=np.int8(a_data_real)\n",
    "a_data_result"
   ]
  },
  {
   "cell_type": "markdown",
   "metadata": {},
   "source": [
    "# 显示新图片\n",
    "新图片的模式mode，size大小按以前的图片来，"
   ]
  },
  {
   "cell_type": "code",
   "execution_count": null,
   "metadata": {},
   "outputs": [],
   "source": [
    "a_image=Image.frombytes(data=a_data_result,mode=a.mode,size=a.size)\n"
   ]
  },
  {
   "cell_type": "code",
   "execution_count": null,
   "metadata": {},
   "outputs": [],
   "source": [
    "a_image.show()"
   ]
  },
  {
   "cell_type": "code",
   "execution_count": null,
   "metadata": {},
   "outputs": [],
   "source": []
  },
  {
   "cell_type": "code",
   "execution_count": null,
   "metadata": {},
   "outputs": [],
   "source": []
  },
  {
   "cell_type": "code",
   "execution_count": null,
   "metadata": {},
   "outputs": [],
   "source": []
  },
  {
   "cell_type": "code",
   "execution_count": 12,
   "metadata": {
    "collapsed": true
   },
   "outputs": [
    {
     "data": {
      "text/html": [
       "<div>\n",
       "<style scoped>\n",
       "    .dataframe tbody tr th:only-of-type {\n",
       "        vertical-align: middle;\n",
       "    }\n",
       "\n",
       "    .dataframe tbody tr th {\n",
       "        vertical-align: top;\n",
       "    }\n",
       "\n",
       "    .dataframe thead th {\n",
       "        text-align: right;\n",
       "    }\n",
       "</style>\n",
       "<table border=\"1\" class=\"dataframe\">\n",
       "  <thead>\n",
       "    <tr style=\"text-align: right;\">\n",
       "      <th></th>\n",
       "      <th>hog inventory</th>\n",
       "    </tr>\n",
       "  </thead>\n",
       "  <tbody>\n",
       "    <tr>\n",
       "      <th>0</th>\n",
       "      <td>456.16</td>\n",
       "    </tr>\n",
       "    <tr>\n",
       "      <th>1</th>\n",
       "      <td>445.94</td>\n",
       "    </tr>\n",
       "    <tr>\n",
       "      <th>2</th>\n",
       "      <td>448.61</td>\n",
       "    </tr>\n",
       "    <tr>\n",
       "      <th>3</th>\n",
       "      <td>454.89</td>\n",
       "    </tr>\n",
       "    <tr>\n",
       "      <th>4</th>\n",
       "      <td>453.25</td>\n",
       "    </tr>\n",
       "  </tbody>\n",
       "</table>\n",
       "</div>"
      ],
      "text/plain": [
       "   hog inventory\n",
       "0         456.16\n",
       "1         445.94\n",
       "2         448.61\n",
       "3         454.89\n",
       "4         453.25"
      ]
     },
     "execution_count": 12,
     "metadata": {},
     "output_type": "execute_result"
    },
    {
     "data": {
      "text/plain": [
       "Index(['hog inventory'], dtype='object')"
      ]
     },
     "execution_count": 12,
     "metadata": {},
     "output_type": "execute_result"
    },
    {
     "data": {
      "text/plain": [
       "0     456.16\n",
       "1     445.94\n",
       "2     448.61\n",
       "3     454.89\n",
       "4     453.25\n",
       "5     447.20\n",
       "6     450.06\n",
       "7     458.16\n",
       "8     465.16\n",
       "9     469.21\n",
       "10    465.90\n",
       "11    469.00\n",
       "12    455.00\n",
       "13    443.30\n",
       "14    441.30\n",
       "15    436.00\n",
       "16    433.70\n",
       "17    436.70\n",
       "18    440.00\n",
       "19    441.80\n",
       "20    454.50\n",
       "21    454.40\n",
       "22    454.70\n",
       "23    453.80\n",
       "24    445.10\n",
       "25    444.10\n",
       "26    447.50\n",
       "27    449.20\n",
       "28    452.80\n",
       "29    456.40\n",
       "30    461.42\n",
       "31    465.57\n",
       "32    471.58\n",
       "33    475.16\n",
       "34    476.25\n",
       "35    473.34\n",
       "36    464.67\n",
       "37    458.46\n",
       "38    461.67\n",
       "39    463.06\n",
       "40    461.21\n",
       "41    462.13\n",
       "42    462.13\n",
       "43    466.29\n",
       "44    472.35\n",
       "45    472.82\n",
       "46    469.04\n",
       "47    462.94\n",
       "48    448.13\n",
       "49    439.62\n",
       "50    443.58\n",
       "51    446.69\n",
       "52    447.58\n",
       "53    452.06\n",
       "54    457.48\n",
       "55    461.60\n",
       "56    464.83\n",
       "57    467.62\n",
       "Name: hog inventory, dtype: float64"
      ]
     },
     "execution_count": 12,
     "metadata": {},
     "output_type": "execute_result"
    }
   ],
   "source": [
    "train_y=pd.read_csv('trainy.csv')\n",
    "train_y.head()\n",
    "train_y.columns\n",
    "train_y['hog inventory']"
   ]
  },
  {
   "cell_type": "code",
   "execution_count": null,
   "metadata": {},
   "outputs": [],
   "source": []
  }
 ],
 "metadata": {
  "kernelspec": {
   "display_name": "Python 3",
   "language": "python",
   "name": "python3"
  },
  "language_info": {
   "codemirror_mode": {
    "name": "ipython",
    "version": 3
   },
   "file_extension": ".py",
   "mimetype": "text/x-python",
   "name": "python",
   "nbconvert_exporter": "python",
   "pygments_lexer": "ipython3",
   "version": "3.7.3"
  },
  "toc": {
   "base_numbering": 1,
   "nav_menu": {},
   "number_sections": true,
   "sideBar": true,
   "skip_h1_title": false,
   "title_cell": "Table of Contents",
   "title_sidebar": "Contents",
   "toc_cell": false,
   "toc_position": {},
   "toc_section_display": true,
   "toc_window_display": false
  }
 },
 "nbformat": 4,
 "nbformat_minor": 2
}
