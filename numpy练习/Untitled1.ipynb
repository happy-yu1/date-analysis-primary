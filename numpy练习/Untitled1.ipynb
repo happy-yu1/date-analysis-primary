{
 "cells": [
  {
   "cell_type": "markdown",
   "metadata": {},
   "source": [
    "### 1、random子库的使用和简单函数"
   ]
  },
  {
   "cell_type": "code",
   "execution_count": 13,
   "metadata": {},
   "outputs": [
    {
     "data": {
      "text/plain": [
       "array([[[-0.17242821, -0.87785842],\n",
       "        [ 0.04221375,  0.58281521]],\n",
       "\n",
       "       [[-1.10061918,  1.14472371],\n",
       "        [ 0.90159072,  0.50249434]]])"
      ]
     },
     "execution_count": 13,
     "metadata": {},
     "output_type": "execute_result"
    }
   ],
   "source": [
    "import numpy as np\n",
    "t2=np.random.randn(2,2,2)\n",
    "t2"
   ]
  },
  {
   "cell_type": "code",
   "execution_count": 14,
   "metadata": {},
   "outputs": [
    {
     "data": {
      "text/plain": [
       "array([[[ 0.90085595, -0.68372786],\n",
       "        [-0.12289023, -0.93576943]],\n",
       "\n",
       "       [[-0.26788808,  0.53035547],\n",
       "        [-0.69166075, -0.39675353]]])"
      ]
     },
     "execution_count": 14,
     "metadata": {},
     "output_type": "execute_result"
    }
   ],
   "source": [
    "t2=np.random.randn(2,2,2)  #变了\n",
    "t2"
   ]
  },
  {
   "cell_type": "code",
   "execution_count": 15,
   "metadata": {},
   "outputs": [
    {
     "data": {
      "text/plain": [
       "array([[[ 1.62434536, -0.61175641],\n",
       "        [-0.52817175, -1.07296862]],\n",
       "\n",
       "       [[ 0.86540763, -2.3015387 ],\n",
       "        [ 1.74481176, -0.7612069 ]]])"
      ]
     },
     "execution_count": 15,
     "metadata": {},
     "output_type": "execute_result"
    }
   ],
   "source": [
    "np.random.seed(1)   \n",
    "t2=np.random.randn(2,2,2)\n",
    "t2"
   ]
  },
  {
   "cell_type": "code",
   "execution_count": 16,
   "metadata": {},
   "outputs": [
    {
     "data": {
      "text/plain": [
       "array([[[ 1.62434536, -0.61175641],\n",
       "        [-0.52817175, -1.07296862]],\n",
       "\n",
       "       [[ 0.86540763, -2.3015387 ],\n",
       "        [ 1.74481176, -0.7612069 ]]])"
      ]
     },
     "execution_count": 16,
     "metadata": {},
     "output_type": "execute_result"
    }
   ],
   "source": [
    "np.random.seed(1)    #加上np.random.seed（）---没有变\n",
    "t2=np.random.randn(2,2,2)\n",
    "t2"
   ]
  },
  {
   "cell_type": "code",
   "execution_count": 18,
   "metadata": {},
   "outputs": [
    {
     "data": {
      "text/plain": [
       "array([[[ 0.3190391 , -0.24937038],\n",
       "        [ 1.46210794, -2.06014071]],\n",
       "\n",
       "       [[-0.3224172 , -0.38405435],\n",
       "        [ 1.13376944, -1.09989127]]])"
      ]
     },
     "execution_count": 18,
     "metadata": {},
     "output_type": "execute_result"
    }
   ],
   "source": [
    "t2=np.random.randn(2,2,2)  #没有加np.random.seed（）---变了\n",
    "t2"
   ]
  },
  {
   "cell_type": "markdown",
   "metadata": {},
   "source": [
    "### 2、random子库的高级函数"
   ]
  },
  {
   "cell_type": "code",
   "execution_count": 21,
   "metadata": {},
   "outputs": [
    {
     "data": {
      "text/plain": [
       "array([[71, 22, 50, 58],\n",
       "       [ 4, 69, 25, 44],\n",
       "       [77, 27, 53, 81]])"
      ]
     },
     "execution_count": 21,
     "metadata": {},
     "output_type": "execute_result"
    }
   ],
   "source": [
    "t3=np.random.randint(1,100,(3,4))\n",
    "t3"
   ]
  },
  {
   "cell_type": "code",
   "execution_count": 24,
   "metadata": {},
   "outputs": [
    {
     "data": {
      "text/plain": [
       "array([[71, 22, 50, 58],\n",
       "       [77, 27, 53, 81],\n",
       "       [ 4, 69, 25, 44]])"
      ]
     },
     "execution_count": 24,
     "metadata": {},
     "output_type": "execute_result"
    }
   ],
   "source": [
    "np.random.shuffle(t3)     #  t3改变了，沿着0轴方向进行随机排序\n",
    "t3"
   ]
  },
  {
   "cell_type": "code",
   "execution_count": null,
   "metadata": {},
   "outputs": [],
   "source": []
  }
 ],
 "metadata": {
  "kernelspec": {
   "display_name": "Python 3",
   "language": "python",
   "name": "python3"
  },
  "language_info": {
   "codemirror_mode": {
    "name": "ipython",
    "version": 3
   },
   "file_extension": ".py",
   "mimetype": "text/x-python",
   "name": "python",
   "nbconvert_exporter": "python",
   "pygments_lexer": "ipython3",
   "version": "3.7.3"
  }
 },
 "nbformat": 4,
 "nbformat_minor": 2
}
