{
 "cells": [
  {
   "cell_type": "markdown",
   "metadata": {},
   "source": [
    "# 一级标题\n",
    "![] (Desktop/a.png)"
   ]
  },
  {
   "cell_type": "code",
   "execution_count": 9,
   "metadata": {},
   "outputs": [
    {
     "name": "stdout",
     "output_type": "stream",
     "text": [
      "11\n",
      "12\n",
      "13\n",
      "14\n"
     ]
    }
   ],
   "source": [
    "for i in range(11,15):\n",
    "    print(i)"
   ]
  },
  {
   "cell_type": "code",
   "execution_count": 10,
   "metadata": {},
   "outputs": [
    {
     "name": "stdout",
     "output_type": "stream",
     "text": [
      "14\n"
     ]
    }
   ],
   "source": [
    "print(i)"
   ]
  },
  {
   "cell_type": "markdown",
   "metadata": {},
   "source": [
    "公式$E=mc^2$"
   ]
  },
  {
   "cell_type": "markdown",
   "metadata": {},
   "source": [
    "公式换行\n",
    "$$x=\\frac{-b\\pm\\sqrt{b^2-4ac}}{2a}$$"
   ]
  },
  {
   "cell_type": "markdown",
   "metadata": {},
   "source": [
    "1. 上传照片\n",
    "上传照片时一般会将照片保存在同文件夹下，其他路径的容易出问题？\n",
    "\n",
    "    1.1 法一——上传本地照片\n",
    "\n",
    "![](./a.jpg)"
   ]
  },
  {
   "cell_type": "markdown",
   "metadata": {},
   "source": [
    "    1.2 法二——上传本地照片\n",
    "<img style=\"float:left;\" src=\"./a.jpg\" width = \"10%\">"
   ]
  },
  {
   "cell_type": "markdown",
   "metadata": {},
   "source": [
    "## 上传网上下载的图片，将以上路径改为图片网址即可\n",
    "<img style=\"float: center;\" src=\"http://i.qulishi.com/uploads/collect/201601/m_288543-ufvkpi.jpg\"  width = \"10%\">"
   ]
  },
  {
   "cell_type": "markdown",
   "metadata": {},
   "source": [
    "![](http://i.qulishi.com/uploads/collect/201601/m_288543-ufvkpi.jpg)   "
   ]
  },
  {
   "cell_type": "markdown",
   "metadata": {},
   "source": [
    "2. 上传链接\n",
    "[百度](https://www.baidu.com/)"
   ]
  },
  {
   "cell_type": "markdown",
   "metadata": {},
   "source": [
    "3. 生成列表\n",
    "    1. 用*号的方式（二级标题间要空一格tab件）\n",
    "        * 项目1\n",
    "        * 项目2\n",
    "            * 项目2.1\n",
    "            * 项目2.2\n",
    "    2. 用1.  2.  3.的方式"
   ]
  },
  {
   "cell_type": "markdown",
   "metadata": {},
   "source": [
    "4. 通过三个下划线___生成分割线\n",
    "hhhhh\n",
    "qqqqq\n",
    "___\n",
    "wwwww"
   ]
  },
  {
   "cell_type": "markdown",
   "metadata": {},
   "source": [
    "5. 删除线和引用\n",
    "    1. ~~我们都是小仙女们~~\n",
    "    2. >这是引用的内容\n"
   ]
  },
  {
   "cell_type": "markdown",
   "metadata": {},
   "source": [
    "6. 生成表格：用||的方式进行分割\n",
    "    1. |---|\n",
    "      "
   ]
  },
  {
   "cell_type": "markdown",
   "metadata": {},
   "source": [
    "|姓名|年龄|成绩|\n",
    "|----|-----|----|\n",
    "|张三|29|80|\n",
    "|----|-----|----|\n",
    "|李四|22|70|\n",
    "|----|-----|----|\n",
    "|王五|30|91|\n"
   ]
  },
  {
   "cell_type": "markdown",
   "metadata": {},
   "source": [
    "| 标题1 | 标题2 | 标题3 |\n",
    "| ----- | ---- | ---- |\n",
    "| 文本1 | 文本2 | 文本3 |\n",
    "| 文本4 | 文本5 | 文本6 |"
   ]
  },
  {
   "cell_type": "code",
   "execution_count": null,
   "metadata": {},
   "outputs": [],
   "source": []
  }
 ],
 "metadata": {
  "kernelspec": {
   "display_name": "Python 3",
   "language": "python",
   "name": "python3"
  },
  "language_info": {
   "codemirror_mode": {
    "name": "ipython",
    "version": 3
   },
   "file_extension": ".py",
   "mimetype": "text/x-python",
   "name": "python",
   "nbconvert_exporter": "python",
   "pygments_lexer": "ipython3",
   "version": "3.7.3"
  }
 },
 "nbformat": 4,
 "nbformat_minor": 2
}
