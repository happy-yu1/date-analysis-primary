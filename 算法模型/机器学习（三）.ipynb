{
 "cells": [
  {
   "cell_type": "code",
   "execution_count": 9,
   "metadata": {},
   "outputs": [],
   "source": [
    "import numpy as np\n",
    "import matplotlib.pyplot as plt\n",
    "from sklearn.model_selection import train_test_split\n",
    "from sklearn.model_selection import learning_curve\n",
    "from sklearn.datasets import load_digits\n",
    "from sklearn.svm import SVC\n",
    "from sklearn.metrics import mean_squared_error      # mean_squared_error为均方误差"
   ]
  },
  {
   "cell_type": "code",
   "execution_count": 10,
   "metadata": {},
   "outputs": [],
   "source": [
    "digits=load_digits()\n",
    "x=digits.data\n",
    "y=digits.target"
   ]
  },
  {
   "cell_type": "markdown",
   "metadata": {},
   "source": [
    "## 拟合"
   ]
  },
  {
   "cell_type": "markdown",
   "metadata": {},
   "source": [
    "### learning_curve为学习曲线\n",
    "learning_curve为学习曲线，查看模型的学习效果；通过学习曲线可以清晰的看出模型对数据的过拟合和欠拟合；\n",
    "\n",
    "len(X_train) 个训练样本，训练出 len(X_train) 个模型，第一次使用一个样本训练出第一个模型，第二次使用两个样本训练出第二个模型，… ，第 len(X_train) 次使用 len(X_train) 个样本训练出最后一个模型；\n",
    "\n",
    "每个模型对于训练这个模型所使用的部分训练数据集的预测值：y_train_predict = 模型.predict(X_train[ : i ])；\n",
    "\n",
    "每个模型对于训练这个模型所使用的部分训练数据集的均方误差：train_scores=mean_squared_error(y_train[ : i ], y_train_predict)；\n",
    "\n",
    "每个模型对于整个测试数据集的预测值：y_test_predict = 模型.predict(X_test)\n",
    "\n",
    "每个模型对于整个测试数据集的预测的均方误差：test_scores=mean_squared_error(y_test, y_test_predict)；\n",
    "\n",
    "绘制每次训练模型所用的样本数量与该模型对应的部分训练数据集的均方误差的平方根的关系曲线：plt.plot([i for i in range(1, len(X_train)+1)],np.sqrt(train_score), label=“train”)\n",
    "\n",
    "绘制每次训练模型所用的样本数量与该模型对应的测试数据集的预测的均方误差的关系曲线：plt.plot([i for i in range(1, len(X_train)+1)],np.sqrt(test_score), label=“test”)\n",
    "\n",
    "train_sizes参数：训练样本的相对的或绝对的数字，这些量的样本将会生成learning curve。如果dtype是float，他将会被视为最大数量训练集的一部分（这个由所选择的验证方法所决定）。否则，他将会被视为训练集的绝对尺寸。要注意的是，对于分类而言，样本的大小必须要充分大，达到对于每一个分类都至少包含一个样本的情况。\n",
    "\n",
    "train_sizes_abs：array, shape = (n_unique_ticks,), dtype int用于生成learning curve的训练集的样本数。由于重复的输入将会被删除，所以ticks可能会少于n_ticks。如：当train_sizes_abs取0.1时表示，将数据分为训练集A和测试集B后，从A中选择10%做训练"
   ]
  },
  {
   "cell_type": "markdown",
   "metadata": {},
   "source": [
    "### 刚刚好\n",
    "随着样本的增加，训练集的效果会变好，测试集的拟合好"
   ]
  },
  {
   "cell_type": "code",
   "execution_count": 11,
   "metadata": {},
   "outputs": [],
   "source": [
    "#gammma=0.001\n",
    "train_sizes_abs,train_scores,test_scores=learning_curve(SVC(gamma=0.001),x,y,cv=10,scoring='accuracy',train_sizes=[0.1,0.25,0.5,0.75,1])"
   ]
  },
  {
   "cell_type": "code",
   "execution_count": 12,
   "metadata": {},
   "outputs": [
    {
     "data": {
      "text/plain": [
       "(1797, 64)"
      ]
     },
     "execution_count": 12,
     "metadata": {},
     "output_type": "execute_result"
    },
    {
     "data": {
      "text/plain": [
       "array([ 161,  403,  806, 1209, 1612])"
      ]
     },
     "execution_count": 12,
     "metadata": {},
     "output_type": "execute_result"
    },
    {
     "data": {
      "text/plain": [
       "array([[1.        , 0.99378882, 0.99378882, 0.99378882, 0.99378882,\n",
       "        0.99378882, 0.99378882, 0.99378882, 0.99378882, 0.99378882],\n",
       "       [1.        , 0.99751861, 0.99751861, 0.99751861, 0.99751861,\n",
       "        0.99751861, 0.99751861, 0.99751861, 0.99751861, 0.99751861],\n",
       "       [1.        , 0.99875931, 0.99875931, 0.99875931, 0.99875931,\n",
       "        0.99875931, 0.99875931, 0.99875931, 0.99875931, 0.99875931],\n",
       "       [1.        , 0.99834574, 0.99917287, 0.99917287, 0.99917287,\n",
       "        0.99917287, 0.99917287, 0.99917287, 0.99917287, 0.99917287],\n",
       "       [0.99937965, 0.99875931, 0.99875931, 0.99875931, 0.99875931,\n",
       "        0.99875931, 0.99875931, 0.99875931, 0.99875931, 0.99937965]])"
      ]
     },
     "execution_count": 12,
     "metadata": {},
     "output_type": "execute_result"
    },
    {
     "data": {
      "text/plain": [
       "(5, 10)"
      ]
     },
     "execution_count": 12,
     "metadata": {},
     "output_type": "execute_result"
    },
    {
     "data": {
      "text/plain": [
       "array([[0.93513514, 0.91803279, 0.77348066, 0.69444444, 0.7877095 ,\n",
       "        0.78212291, 0.91061453, 0.85955056, 0.83615819, 0.82954545],\n",
       "       [0.91351351, 0.93989071, 0.87845304, 0.88888889, 0.91061453,\n",
       "        0.87709497, 0.97206704, 0.94382022, 0.93785311, 0.93181818],\n",
       "       [0.94054054, 0.9726776 , 0.93370166, 0.98888889, 0.97206704,\n",
       "        0.97765363, 0.97765363, 0.97191011, 0.94350282, 0.9375    ],\n",
       "       [0.94594595, 0.9726776 , 0.95027624, 0.98888889, 0.96089385,\n",
       "        0.98324022, 0.99441341, 0.98876404, 0.97175141, 0.95454545],\n",
       "       [0.95135135, 1.        , 0.95027624, 0.99444444, 0.98324022,\n",
       "        0.98882682, 0.99441341, 0.99438202, 0.96610169, 0.96022727]])"
      ]
     },
     "execution_count": 12,
     "metadata": {},
     "output_type": "execute_result"
    }
   ],
   "source": [
    "x.shape\n",
    "train_sizes_abs\n",
    "train_scores\n",
    "train_scores.shape\n",
    "test_scores"
   ]
  },
  {
   "cell_type": "code",
   "execution_count": 19,
   "metadata": {},
   "outputs": [
    {
     "data": {
      "text/plain": [
       "array([0.99440994, 0.99776675, 0.99888337, 0.99917287, 0.99888337])"
      ]
     },
     "execution_count": 19,
     "metadata": {},
     "output_type": "execute_result"
    },
    {
     "data": {
      "text/plain": [
       "array([0.83267942, 0.91940142, 0.96160959, 0.97113971, 0.97832635])"
      ]
     },
     "execution_count": 19,
     "metadata": {},
     "output_type": "execute_result"
    }
   ],
   "source": [
    "#在10折的交叉验证数据上进行平均\n",
    "train_scores_mean=train_scores.mean(axis=1)\n",
    "test_scores_mean=test_scores.mean(axis=1)\n",
    "train_scores_mean\n",
    "test_scores_mean"
   ]
  },
  {
   "cell_type": "code",
   "execution_count": 20,
   "metadata": {},
   "outputs": [
    {
     "data": {
      "text/plain": [
       "[<matplotlib.lines.Line2D at 0xc74a128>]"
      ]
     },
     "execution_count": 20,
     "metadata": {},
     "output_type": "execute_result"
    },
    {
     "data": {
      "text/plain": [
       "[<matplotlib.lines.Line2D at 0xc74ab70>]"
      ]
     },
     "execution_count": 20,
     "metadata": {},
     "output_type": "execute_result"
    },
    {
     "data": {
      "text/plain": [
       "Text(0.5, 0, 'training sample size')"
      ]
     },
     "execution_count": 20,
     "metadata": {},
     "output_type": "execute_result"
    },
    {
     "data": {
      "text/plain": [
       "Text(0, 0.5, 'accuracy')"
      ]
     },
     "execution_count": 20,
     "metadata": {},
     "output_type": "execute_result"
    },
    {
     "data": {
      "text/plain": [
       "<matplotlib.legend.Legend at 0x4db8240>"
      ]
     },
     "execution_count": 20,
     "metadata": {},
     "output_type": "execute_result"
    },
    {
     "data": {
      "image/png": "[encoded data removed]",
      "text/plain": [
       "<Figure size 432x288 with 1 Axes>"
      ]
     },
     "metadata": {
      "needs_background": "light"
     },
     "output_type": "display_data"
    }
   ],
   "source": [
    "#绘制学习曲线\n",
    "plt.plot(train_sizes_abs, train_scores_mean, 'o-', color='r', label='training')\n",
    "plt.plot(train_sizes_abs, test_scores_mean, '*-', color='g', label='testing')\n",
    "\n",
    "plt.xlabel('training sample size')\n",
    "plt.ylabel('accuracy')\n",
    "plt.legend(loc='best')\n",
    "\n",
    "#说明：随着样本个数的增多，拟合度越来越高"
   ]
  },
  {
   "cell_type": "markdown",
   "metadata": {},
   "source": [
    "### 过拟合\n",
    "gamma=0.1  时，会出现一开始时训练的效果就很好，但是用测试的结果不行"
   ]
  },
  {
   "cell_type": "code",
   "execution_count": 16,
   "metadata": {},
   "outputs": [
    {
     "data": {
      "text/plain": [
       "[<matplotlib.lines.Line2D at 0xc5953c8>]"
      ]
     },
     "execution_count": 16,
     "metadata": {},
     "output_type": "execute_result"
    },
    {
     "data": {
      "text/plain": [
       "[<matplotlib.lines.Line2D at 0xd264cf8>]"
      ]
     },
     "execution_count": 16,
     "metadata": {},
     "output_type": "execute_result"
    },
    {
     "data": {
      "text/plain": [
       "Text(0.5, 0, 'training sample size')"
      ]
     },
     "execution_count": 16,
     "metadata": {},
     "output_type": "execute_result"
    },
    {
     "data": {
      "text/plain": [
       "Text(0, 0.5, 'accuracy')"
      ]
     },
     "execution_count": 16,
     "metadata": {},
     "output_type": "execute_result"
    },
    {
     "data": {
      "text/plain": [
       "<matplotlib.legend.Legend at 0xc595c88>"
      ]
     },
     "execution_count": 16,
     "metadata": {},
     "output_type": "execute_result"
    },
    {
     "data": {
      "image/png": "[encoded data removed]",
      "text/plain": [
       "<Figure size 432x288 with 1 Axes>"
      ]
     },
     "metadata": {
      "needs_background": "light"
     },
     "output_type": "display_data"
    }
   ],
   "source": [
    "train_sizes_abs,train_scores,test_scores=learning_curve(SVC(gamma=0.1),x,y,cv=10,scoring='accuracy',train_sizes=[0.1,0.25,0.5,0.75,1])\n",
    "train_scores_mean=train_scores.mean(axis=1)\n",
    "test_scores_mean=test_scores.mean(axis=1)\n",
    "plt.plot(train_sizes_abs, train_scores_mean, 'o-', color='r', label='training')\n",
    "plt.plot(train_sizes_abs, test_scores_mean, '*-', color='g', label='testing')\n",
    "\n",
    "plt.xlabel('training sample size')\n",
    "plt.ylabel('accuracy')\n",
    "plt.legend(loc='best')"
   ]
  },
  {
   "cell_type": "markdown",
   "metadata": {},
   "source": [
    "## 验证"
   ]
  },
  {
   "cell_type": "markdown",
   "metadata": {},
   "source": [
    "### 验证曲线--validation_curve()\n",
    "在曲线图上可以观察到gamma为哪个值时，模型的效果最好"
   ]
  },
  {
   "cell_type": "code",
   "execution_count": 22,
   "metadata": {},
   "outputs": [],
   "source": [
    "from sklearn.model_selection import validation_curve\n",
    "from sklearn.datasets import load_digits\n",
    "from sklearn.svm import SVC\n",
    "import matplotlib.pyplot as plt\n",
    "import numpy as np"
   ]
  },
  {
   "cell_type": "code",
   "execution_count": 23,
   "metadata": {},
   "outputs": [],
   "source": [
    "# 加载数据\n",
    "digits = load_digits()\n",
    "X = digits.data\n",
    "y = digits.target"
   ]
  },
  {
   "cell_type": "markdown",
   "metadata": {},
   "source": [
    "logspace用于创建等比数列，开始点和结束点是10的幂，0代表10的0次方，9代表10的9次方\n",
    "\n",
    "a = np.logspace(0,0,10)会得到 array([ 1.,  1.,  1.,  1.,  1.,  1.,  1.,  1.,  1.,  1.])"
   ]
  },
  {
   "cell_type": "code",
   "execution_count": 27,
   "metadata": {},
   "outputs": [
    {
     "name": "stdout",
     "output_type": "stream",
     "text": [
      "[3.16227766e-07 1.00000000e-06 3.16227766e-06 1.00000000e-05\n",
      " 3.16227766e-05 1.00000000e-04 3.16227766e-04 1.00000000e-03\n",
      " 3.16227766e-03 1.00000000e-02]\n"
     ]
    }
   ],
   "source": [
    "#param_range = np.arange(1, 6) / 500.\n",
    "param_range = np.logspace(-6.5, -2, 10)\n",
    "print(param_range)\n",
    "\n",
    "train_scores, val_scores = validation_curve(\n",
    "    SVC(), X, y, param_name='gamma', param_range=param_range,\n",
    "    cv=5, scoring='accuracy')\n",
    "#SVC()是要评估的模型，param_name参数存放的是模型中要评估的参数，param_range为参数的取值范围\n",
    "\n",
    "# 在5折的交叉验证数据上进行平均\n",
    "train_scores_mean = np.mean(train_scores, axis=1)\n",
    "test_scores_mean = np.mean(val_scores, axis=1)"
   ]
  },
  {
   "cell_type": "code",
   "execution_count": 25,
   "metadata": {},
   "outputs": [
    {
     "data": {
      "text/plain": [
       "array([ 10.        ,  12.91549665,  16.68100537,  21.5443469 ,\n",
       "        27.82559402,  35.93813664,  46.41588834,  59.94842503,\n",
       "        77.42636827, 100.        ])"
      ]
     },
     "execution_count": 25,
     "metadata": {},
     "output_type": "execute_result"
    }
   ],
   "source": [
    "a = np.logspace(1,2,10)\n",
    "a"
   ]
  },
  {
   "cell_type": "code",
   "execution_count": 28,
   "metadata": {},
   "outputs": [
    {
     "data": {
      "text/plain": [
       "[<matplotlib.lines.Line2D at 0x53f32e8>]"
      ]
     },
     "execution_count": 28,
     "metadata": {},
     "output_type": "execute_result"
    },
    {
     "data": {
      "text/plain": [
       "[<matplotlib.lines.Line2D at 0x53e9048>]"
      ]
     },
     "execution_count": 28,
     "metadata": {},
     "output_type": "execute_result"
    },
    {
     "data": {
      "text/plain": [
       "Text(0.5, 0, 'gamma')"
      ]
     },
     "execution_count": 28,
     "metadata": {},
     "output_type": "execute_result"
    },
    {
     "data": {
      "text/plain": [
       "Text(0, 0.5, 'accuracy')"
      ]
     },
     "execution_count": 28,
     "metadata": {},
     "output_type": "execute_result"
    },
    {
     "data": {
      "text/plain": [
       "<matplotlib.legend.Legend at 0x53d02b0>"
      ]
     },
     "execution_count": 28,
     "metadata": {},
     "output_type": "execute_result"
    },
    {
     "data": {
      "image/png": "[encoded data removed]",
      "text/plain": [
       "<Figure size 432x288 with 1 Axes>"
      ]
     },
     "metadata": {
      "needs_background": "light"
     },
     "output_type": "display_data"
    }
   ],
   "source": [
    "# 绘制学习曲线\n",
    "plt.plot(param_range, train_scores_mean, 'o-', color='r', label='training')\n",
    "plt.plot(param_range, test_scores_mean, '*-', color='g', label='cross validation')\n",
    "\n",
    "plt.xlabel('gamma')\n",
    "plt.ylabel('accuracy')\n",
    "plt.legend(loc='best')\n",
    "plt.show()\n",
    "\n",
    "#说明：从图中可以看出，绿线从0.001以后开始下降，处于过拟合状态"
   ]
  },
  {
   "cell_type": "markdown",
   "metadata": {},
   "source": [
    "### 参数调整法--GridSearchCV（网格搜索法）\n",
    "此外还有交叉验证法"
   ]
  },
  {
   "cell_type": "code",
   "execution_count": 1,
   "metadata": {},
   "outputs": [],
   "source": [
    "import numpy as np\n",
    "from sklearn.model_selection import train_test_split\n",
    "from sklearn import datasets, svm\n",
    "from sklearn.model_selection import GridSearchCV\n",
    "from sklearn.metrics import accuracy_score"
   ]
  },
  {
   "cell_type": "code",
   "execution_count": 12,
   "metadata": {},
   "outputs": [],
   "source": [
    "iris = datasets.load_iris()\n",
    "X_train, X_test, y_train, y_test = train_test_split(iris.data, iris.target, test_size=0.2, random_state=0)"
   ]
  },
  {
   "cell_type": "markdown",
   "metadata": {},
   "source": [
    "svc函数中包含的参数主要有：C,kernel，gamma  等,线性回归（'kernel': ['linear']）没有gamma参数，\n",
    "\n",
    "径向基函数（'kernel': ['rbf']）时有gamma参数\n",
    "\n",
    "核函数有很多种，如线性核、多项式核、Sigmoid 核和 RBF（Radial Basis function）核"
   ]
  },
  {
   "cell_type": "markdown",
   "metadata": {},
   "source": [
    "#### 获取选择的最优模型--best_estimator_"
   ]
  },
  {
   "cell_type": "code",
   "execution_count": 3,
   "metadata": {},
   "outputs": [
    {
     "name": "stderr",
     "output_type": "stream",
     "text": [
      "C:\\ProgramData\\Anaconda3\\lib\\site-packages\\sklearn\\model_selection\\_search.py:813: DeprecationWarning: The default of the `iid` parameter will change from True to False in version 0.22 and will be removed in 0.24. This will change numeric results when test-set sizes are unequal.\n",
      "  DeprecationWarning)\n"
     ]
    },
    {
     "data": {
      "text/plain": [
       "GridSearchCV(cv=5, error_score='raise-deprecating',\n",
       "             estimator=SVC(C=1.0, cache_size=200, class_weight=None, coef0=0.0,\n",
       "                           decision_function_shape='ovr', degree=3,\n",
       "                           gamma='auto_deprecated', kernel='rbf', max_iter=-1,\n",
       "                           probability=False, random_state=None, shrinking=True,\n",
       "                           tol=0.001, verbose=False),\n",
       "             iid='warn', n_jobs=None,\n",
       "             param_grid=[{'C': [1, 10, 100, 1000], 'kernel': ['linear']},\n",
       "                         {'C': [1, 10, 100, 1000], 'gamma': [0.001, 0.0001],\n",
       "                          'kernel': ['rbf']}],\n",
       "             pre_dispatch='2*n_jobs', refit=True, return_train_score=False,\n",
       "             scoring=None, verbose=0)"
      ]
     },
     "execution_count": 3,
     "metadata": {},
     "output_type": "execute_result"
    },
    {
     "data": {
      "text/plain": [
       "SVC(C=10, cache_size=200, class_weight=None, coef0=0.0,\n",
       "    decision_function_shape='ovr', degree=3, gamma='auto_deprecated',\n",
       "    kernel='linear', max_iter=-1, probability=False, random_state=None,\n",
       "    shrinking=True, tol=0.001, verbose=False)"
      ]
     },
     "execution_count": 3,
     "metadata": {},
     "output_type": "execute_result"
    }
   ],
   "source": [
    "#会先做当（linear，1），（linear，10），（linear，100），（linear，1000）----->得到四个accuracy\n",
    "#再做当kernel=rbf时，（c=1，gamma=0.001），（c=1，gamma=0.0001），（c=10，gamma=0.001）……\n",
    "# 设置参数调整的范围及配置\n",
    "param_grid = [\n",
    "  {'C': [1, 10, 100, 1000], 'kernel': ['linear']},  #线性回归不需要设置gamma参数\n",
    "  {'C': [1, 10, 100, 1000], 'gamma': [0.001, 0.0001], 'kernel': ['rbf']},\n",
    "]\n",
    "\n",
    "svm_model = svm.SVC() #此时并没有输入任何的参数\n",
    "\n",
    "# 将超参数配置及模型放入GridSearch中进行自动搜索\n",
    "clf = GridSearchCV(svm_model, param_grid, cv=5)\n",
    "clf.fit(X_train, y_train)\n",
    "\n",
    "# 获取选择的最优模型\n",
    "best_model = clf.best_estimator_\n",
    "best_model"
   ]
  },
  {
   "cell_type": "markdown",
   "metadata": {},
   "source": [
    "#### 选取最优的参数--best_params_ "
   ]
  },
  {
   "cell_type": "code",
   "execution_count": 7,
   "metadata": {},
   "outputs": [
    {
     "data": {
      "text/plain": [
       "{'C': 10, 'kernel': 'linear'}"
      ]
     },
     "execution_count": 7,
     "metadata": {},
     "output_type": "execute_result"
    }
   ],
   "source": [
    "clf.best_params_      #此模型不需要gamma参数"
   ]
  },
  {
   "cell_type": "markdown",
   "metadata": {},
   "source": [
    "#### 用最优模型进行预测 "
   ]
  },
  {
   "cell_type": "code",
   "execution_count": 16,
   "metadata": {},
   "outputs": [
    {
     "data": {
      "text/plain": [
       "array([2, 1, 0, 2, 0, 2, 0, 1, 1, 1, 2, 1, 1, 1, 1, 0, 1, 1, 0, 0, 2, 1,\n",
       "       0, 0, 2, 0, 0, 1, 1, 0])"
      ]
     },
     "execution_count": 16,
     "metadata": {},
     "output_type": "execute_result"
    },
    {
     "data": {
      "text/plain": [
       "array([2, 1, 0, 2, 0, 2, 0, 1, 1, 1, 2, 1, 1, 1, 1, 0, 1, 1, 0, 0, 2, 1,\n",
       "       0, 0, 2, 0, 0, 1, 1, 0])"
      ]
     },
     "execution_count": 16,
     "metadata": {},
     "output_type": "execute_result"
    }
   ],
   "source": [
    "predict=best_model.predict(X_test)\n",
    "predict\n",
    "y_test"
   ]
  },
  {
   "cell_type": "code",
   "execution_count": 19,
   "metadata": {},
   "outputs": [
    {
     "data": {
      "text/plain": [
       "1.0"
      ]
     },
     "execution_count": 19,
     "metadata": {},
     "output_type": "execute_result"
    },
    {
     "data": {
      "text/plain": [
       "1.0"
      ]
     },
     "execution_count": 19,
     "metadata": {},
     "output_type": "execute_result"
    }
   ],
   "source": [
    "accuracy_score(y_test,predict)  # 法一\n",
    "best_model.score(X_test,y_test)    # 法二"
   ]
  },
  {
   "cell_type": "markdown",
   "metadata": {},
   "source": [
    "## 特征选择\n",
    "\n",
    "均用fit_transform进行拟合和处理"
   ]
  },
  {
   "cell_type": "markdown",
   "metadata": {},
   "source": [
    "### 去除方差较小的特征\n",
    "某维度的特征的方差小，说明所有样本中该特征差别小，则用该特征去区分样本的作用小\n",
    "\n",
    "threshold参数根据方差保留80%的向量,threshold表示训练集方差低于此阈值的要素将被删除\n",
    "举例来说，假设我们有一个具有布尔特征的数据集，并且我们希望在80％以上的样本中删除所有为1或0（打开或关闭）的特征。 布尔特征是伯努利随机变量（也就是当80%以上的样本的某个特征均为1或0时，该特征就要被删除）"
   ]
  },
  {
   "cell_type": "code",
   "execution_count": 25,
   "metadata": {},
   "outputs": [
    {
     "data": {
      "text/plain": [
       "array([[0, 1],\n",
       "       [1, 0],\n",
       "       [0, 0],\n",
       "       [1, 1],\n",
       "       [1, 0],\n",
       "       [1, 1]])"
      ]
     },
     "execution_count": 25,
     "metadata": {},
     "output_type": "execute_result"
    }
   ],
   "source": [
    "from sklearn.feature_selection import VarianceThreshold\n",
    "# 6个样本，3维的特征向量\n",
    "X = [[0, 0, 1], [0, 1, 0], [1, 0, 0], [0, 1, 1], [0, 1, 0], [0, 1, 1]]\n",
    "\n",
    "\n",
    "# 计算公式：var_thresh = p(1-p)\n",
    "sel = VarianceThreshold(threshold=(.8 * (1 - .8)))\n",
    "sel.fit_transform(X)"
   ]
  },
  {
   "cell_type": "markdown",
   "metadata": {},
   "source": [
    "###  基于单变量统计特征选择\n",
    "分布选择见：\n",
    "https://scikitlearn.org/stable/modules/generated/sklearn.feature_selection.SelectKBest.html#sklearn.feature_selection.SelectKBest"
   ]
  },
  {
   "cell_type": "code",
   "execution_count": 26,
   "metadata": {},
   "outputs": [
    {
     "name": "stdout",
     "output_type": "stream",
     "text": [
      "原始特征：\n",
      "(150, 4)\n",
      "[[5.1 3.5 1.4 0.2]\n",
      " [4.9 3.  1.4 0.2]\n",
      " [4.7 3.2 1.3 0.2]\n",
      " [4.6 3.1 1.5 0.2]\n",
      " [5.  3.6 1.4 0.2]]\n",
      "\n",
      "选取的特征：\n",
      "(150, 2)\n",
      "[[1.4 0.2]\n",
      " [1.4 0.2]\n",
      " [1.3 0.2]\n",
      " [1.5 0.2]\n",
      " [1.4 0.2]]\n"
     ]
    }
   ],
   "source": [
    "from sklearn.datasets import load_iris\n",
    "from sklearn.feature_selection import SelectKBest\n",
    "from sklearn.feature_selection import chi2   #卡方分布，用于分类问题，回归问题要用其他方法\n",
    "iris = load_iris()\n",
    "X, y = iris.data, iris.target\n",
    "print('原始特征：')\n",
    "print(X.shape)  #有四个特征\n",
    "print(X[:5, :])\n",
    "\n",
    "print()\n",
    "\n",
    "# 使用卡方分布选择2个维度的变量，k表示保留几个特征\n",
    "X_new = SelectKBest(chi2, k=2).fit_transform(X, y)  #通过卡方分布去拟合每个特征的分布，进而进行选择\n",
    "print('选取的特征：')\n",
    "print(X_new.shape)   #保留了两个特征\n",
    "print(X_new[:5, :])"
   ]
  },
  {
   "cell_type": "markdown",
   "metadata": {},
   "source": [
    "### 基于模型的特征选择\n",
    "常用的有随机森林、决策树等模型进行特征选择"
   ]
  },
  {
   "cell_type": "markdown",
   "metadata": {},
   "source": [
    "SelectFromModel是一种元转换器，可以与那些有coef_ 或者feature_importances_属性的模型一起使用。如果coef_ 或者feature_importances_小于阈值（参数threshold），我们就认为特征是不重要的。除了指定阈值以外，也可以使用启发式的方式。有效的启发式方法包括均值、中位数或者乘以系数，比如 0.1*均值,阈值默认为 feature importances 的均值，大于或等于均值的选择，小于的不选择"
   ]
  },
  {
   "cell_type": "code",
   "execution_count": 27,
   "metadata": {},
   "outputs": [
    {
     "name": "stdout",
     "output_type": "stream",
     "text": [
      "原始特征：\n",
      "(150, 4)\n",
      "[[5.1 3.5 1.4 0.2]\n",
      " [4.9 3.  1.4 0.2]\n",
      " [4.7 3.2 1.3 0.2]\n",
      " [4.6 3.1 1.5 0.2]\n",
      " [5.  3.6 1.4 0.2]]\n",
      "特征得分：\n",
      "[0.15844373 0.01812516 0.37447022 0.44896089]\n",
      "选取的特征：\n",
      "(150, 2)\n",
      "[[1.4 0.2]\n",
      " [1.4 0.2]\n",
      " [1.3 0.2]\n",
      " [1.5 0.2]\n",
      " [1.4 0.2]]\n"
     ]
    },
    {
     "name": "stderr",
     "output_type": "stream",
     "text": [
      "C:\\ProgramData\\Anaconda3\\lib\\site-packages\\sklearn\\ensemble\\forest.py:245: FutureWarning: The default value of n_estimators will change from 10 in version 0.20 to 100 in 0.22.\n",
      "  \"10 in version 0.20 to 100 in 0.22.\", FutureWarning)\n"
     ]
    }
   ],
   "source": [
    "from sklearn.ensemble import RandomForestClassifier\n",
    "from sklearn.datasets import load_iris\n",
    "from sklearn.feature_selection import SelectFromModel\n",
    "\n",
    "iris = load_iris()\n",
    "X, y = iris.data, iris.target\n",
    "print('原始特征：')\n",
    "print(X.shape)\n",
    "print(X[:5, :])\n",
    "\n",
    "clf = RandomForestClassifier()  #用来进行特征选择的模型，并不是之前用的逻辑回归、聚类等模型，二者目的是不同的\n",
    "clf = clf.fit(X, y)\n",
    "print('特征得分：')\n",
    "print(clf.feature_importances_  )  #可以拿到特征上对应的得分\n",
    "\n",
    "# 基于随机森林选择特征\n",
    "model = SelectFromModel(clf, prefit=True)\n",
    "X_new = model.transform(X)   #不用再拟合了，直接transform即可\n",
    "print('选取的特征：')\n",
    "print(X_new.shape)\n",
    "print(X_new[:5, :])"
   ]
  },
  {
   "cell_type": "code",
   "execution_count": 29,
   "metadata": {},
   "outputs": [
    {
     "name": "stdout",
     "output_type": "stream",
     "text": [
      "Help on class SelectFromModel in module sklearn.feature_selection.from_model:\n",
      "\n",
      "class SelectFromModel(sklearn.base.BaseEstimator, sklearn.feature_selection.base.SelectorMixin, sklearn.base.MetaEstimatorMixin)\n",
      " |  SelectFromModel(estimator, threshold=None, prefit=False, norm_order=1, max_features=None)\n",
      " |  \n",
      " |  Meta-transformer for selecting features based on importance weights.\n",
      " |  \n",
      " |  .. versionadded:: 0.17\n",
      " |  \n",
      " |  Parameters\n",
      " |  ----------\n",
      " |  estimator : object\n",
      " |      The base estimator from which the transformer is built.\n",
      " |      This can be both a fitted (if ``prefit`` is set to True)\n",
      " |      or a non-fitted estimator. The estimator must have either a\n",
      " |      ``feature_importances_`` or ``coef_`` attribute after fitting.\n",
      " |  \n",
      " |  threshold : string, float, optional default None\n",
      " |      The threshold value to use for feature selection. Features whose\n",
      " |      importance is greater or equal are kept while the others are\n",
      " |      discarded. If \"median\" (resp. \"mean\"), then the ``threshold`` value is\n",
      " |      the median (resp. the mean) of the feature importances. A scaling\n",
      " |      factor (e.g., \"1.25*mean\") may also be used. If None and if the\n",
      " |      estimator has a parameter penalty set to l1, either explicitly\n",
      " |      or implicitly (e.g, Lasso), the threshold used is 1e-5.\n",
      " |      Otherwise, \"mean\" is used by default.\n",
      " |  \n",
      " |  prefit : bool, default False\n",
      " |      Whether a prefit model is expected to be passed into the constructor\n",
      " |      directly or not. If True, ``transform`` must be called directly\n",
      " |      and SelectFromModel cannot be used with ``cross_val_score``,\n",
      " |      ``GridSearchCV`` and similar utilities that clone the estimator.\n",
      " |      Otherwise train the model using ``fit`` and then ``transform`` to do\n",
      " |      feature selection.\n",
      " |  \n",
      " |  norm_order : non-zero int, inf, -inf, default 1\n",
      " |      Order of the norm used to filter the vectors of coefficients below\n",
      " |      ``threshold`` in the case where the ``coef_`` attribute of the\n",
      " |      estimator is of dimension 2.\n",
      " |  \n",
      " |  max_features : int or None, optional\n",
      " |      The maximum number of features selected scoring above ``threshold``.\n",
      " |      To disable ``threshold`` and only select based on ``max_features``,\n",
      " |      set ``threshold=-np.inf``.\n",
      " |  \n",
      " |      .. versionadded:: 0.20\n",
      " |  \n",
      " |  Attributes\n",
      " |  ----------\n",
      " |  estimator_ : an estimator\n",
      " |      The base estimator from which the transformer is built.\n",
      " |      This is stored only when a non-fitted estimator is passed to the\n",
      " |      ``SelectFromModel``, i.e when prefit is False.\n",
      " |  \n",
      " |  threshold_ : float\n",
      " |      The threshold value used for feature selection.\n",
      " |  \n",
      " |  Method resolution order:\n",
      " |      SelectFromModel\n",
      " |      sklearn.base.BaseEstimator\n",
      " |      sklearn.feature_selection.base.SelectorMixin\n",
      " |      sklearn.base.TransformerMixin\n",
      " |      sklearn.base.MetaEstimatorMixin\n",
      " |      builtins.object\n",
      " |  \n",
      " |  Methods defined here:\n",
      " |  \n",
      " |  __init__(self, estimator, threshold=None, prefit=False, norm_order=1, max_features=None)\n",
      " |      Initialize self.  See help(type(self)) for accurate signature.\n",
      " |  \n",
      " |  fit(self, X, y=None, **fit_params)\n",
      " |      Fit the SelectFromModel meta-transformer.\n",
      " |      \n",
      " |      Parameters\n",
      " |      ----------\n",
      " |      X : array-like of shape (n_samples, n_features)\n",
      " |          The training input samples.\n",
      " |      \n",
      " |      y : array-like, shape (n_samples,)\n",
      " |          The target values (integers that correspond to classes in\n",
      " |          classification, real numbers in regression).\n",
      " |      \n",
      " |      **fit_params : Other estimator specific parameters\n",
      " |      \n",
      " |      Returns\n",
      " |      -------\n",
      " |      self : object\n",
      " |  \n",
      " |  partial_fit(self, X, y=None, **fit_params)\n",
      " |      Fit the SelectFromModel meta-transformer only once.\n",
      " |      \n",
      " |      Parameters\n",
      " |      ----------\n",
      " |      X : array-like of shape (n_samples, n_features)\n",
      " |          The training input samples.\n",
      " |      \n",
      " |      y : array-like, shape (n_samples,)\n",
      " |          The target values (integers that correspond to classes in\n",
      " |          classification, real numbers in regression).\n",
      " |      \n",
      " |      **fit_params : Other estimator specific parameters\n",
      " |      \n",
      " |      Returns\n",
      " |      -------\n",
      " |      self : object\n",
      " |  \n",
      " |  ----------------------------------------------------------------------\n",
      " |  Data descriptors defined here:\n",
      " |  \n",
      " |  threshold_\n",
      " |  \n",
      " |  ----------------------------------------------------------------------\n",
      " |  Data and other attributes defined here:\n",
      " |  \n",
      " |  __abstractmethods__ = frozenset()\n",
      " |  \n",
      " |  ----------------------------------------------------------------------\n",
      " |  Methods inherited from sklearn.base.BaseEstimator:\n",
      " |  \n",
      " |  __getstate__(self)\n",
      " |  \n",
      " |  __repr__(self, N_CHAR_MAX=700)\n",
      " |      Return repr(self).\n",
      " |  \n",
      " |  __setstate__(self, state)\n",
      " |  \n",
      " |  get_params(self, deep=True)\n",
      " |      Get parameters for this estimator.\n",
      " |      \n",
      " |      Parameters\n",
      " |      ----------\n",
      " |      deep : boolean, optional\n",
      " |          If True, will return the parameters for this estimator and\n",
      " |          contained subobjects that are estimators.\n",
      " |      \n",
      " |      Returns\n",
      " |      -------\n",
      " |      params : mapping of string to any\n",
      " |          Parameter names mapped to their values.\n",
      " |  \n",
      " |  set_params(self, **params)\n",
      " |      Set the parameters of this estimator.\n",
      " |      \n",
      " |      The method works on simple estimators as well as on nested objects\n",
      " |      (such as pipelines). The latter have parameters of the form\n",
      " |      ``<component>__<parameter>`` so that it's possible to update each\n",
      " |      component of a nested object.\n",
      " |      \n",
      " |      Returns\n",
      " |      -------\n",
      " |      self\n",
      " |  \n",
      " |  ----------------------------------------------------------------------\n",
      " |  Data descriptors inherited from sklearn.base.BaseEstimator:\n",
      " |  \n",
      " |  __dict__\n",
      " |      dictionary for instance variables (if defined)\n",
      " |  \n",
      " |  __weakref__\n",
      " |      list of weak references to the object (if defined)\n",
      " |  \n",
      " |  ----------------------------------------------------------------------\n",
      " |  Methods inherited from sklearn.feature_selection.base.SelectorMixin:\n",
      " |  \n",
      " |  get_support(self, indices=False)\n",
      " |      Get a mask, or integer index, of the features selected\n",
      " |      \n",
      " |      Parameters\n",
      " |      ----------\n",
      " |      indices : boolean (default False)\n",
      " |          If True, the return value will be an array of integers, rather\n",
      " |          than a boolean mask.\n",
      " |      \n",
      " |      Returns\n",
      " |      -------\n",
      " |      support : array\n",
      " |          An index that selects the retained features from a feature vector.\n",
      " |          If `indices` is False, this is a boolean array of shape\n",
      " |          [# input features], in which an element is True iff its\n",
      " |          corresponding feature is selected for retention. If `indices` is\n",
      " |          True, this is an integer array of shape [# output features] whose\n",
      " |          values are indices into the input feature vector.\n",
      " |  \n",
      " |  inverse_transform(self, X)\n",
      " |      Reverse the transformation operation\n",
      " |      \n",
      " |      Parameters\n",
      " |      ----------\n",
      " |      X : array of shape [n_samples, n_selected_features]\n",
      " |          The input samples.\n",
      " |      \n",
      " |      Returns\n",
      " |      -------\n",
      " |      X_r : array of shape [n_samples, n_original_features]\n",
      " |          `X` with columns of zeros inserted where features would have\n",
      " |          been removed by `transform`.\n",
      " |  \n",
      " |  transform(self, X)\n",
      " |      Reduce X to the selected features.\n",
      " |      \n",
      " |      Parameters\n",
      " |      ----------\n",
      " |      X : array of shape [n_samples, n_features]\n",
      " |          The input samples.\n",
      " |      \n",
      " |      Returns\n",
      " |      -------\n",
      " |      X_r : array of shape [n_samples, n_selected_features]\n",
      " |          The input samples with only the selected features.\n",
      " |  \n",
      " |  ----------------------------------------------------------------------\n",
      " |  Methods inherited from sklearn.base.TransformerMixin:\n",
      " |  \n",
      " |  fit_transform(self, X, y=None, **fit_params)\n",
      " |      Fit to data, then transform it.\n",
      " |      \n",
      " |      Fits transformer to X and y with optional parameters fit_params\n",
      " |      and returns a transformed version of X.\n",
      " |      \n",
      " |      Parameters\n",
      " |      ----------\n",
      " |      X : numpy array of shape [n_samples, n_features]\n",
      " |          Training set.\n",
      " |      \n",
      " |      y : numpy array of shape [n_samples]\n",
      " |          Target values.\n",
      " |      \n",
      " |      Returns\n",
      " |      -------\n",
      " |      X_new : numpy array of shape [n_samples, n_features_new]\n",
      " |          Transformed array.\n",
      "\n"
     ]
    }
   ],
   "source": [
    "help(SelectFromModel)"
   ]
  },
  {
   "cell_type": "code",
   "execution_count": null,
   "metadata": {},
   "outputs": [],
   "source": []
  },
  {
   "cell_type": "code",
   "execution_count": null,
   "metadata": {},
   "outputs": [],
   "source": []
  }
 ],
 "metadata": {
  "kernelspec": {
   "display_name": "Python 3",
   "language": "python",
   "name": "python3"
  },
  "language_info": {
   "codemirror_mode": {
    "name": "ipython",
    "version": 3
   },
   "file_extension": ".py",
   "mimetype": "text/x-python",
   "name": "python",
   "nbconvert_exporter": "python",
   "pygments_lexer": "ipython3",
   "version": "3.7.3"
  },
  "toc": {
   "base_numbering": 1,
   "nav_menu": {},
   "number_sections": true,
   "sideBar": true,
   "skip_h1_title": false,
   "title_cell": "Table of Contents",
   "title_sidebar": "Contents",
   "toc_cell": false,
   "toc_position": {},
   "toc_section_display": true,
   "toc_window_display": true
  }
 },
 "nbformat": 4,
 "nbformat_minor": 2
}
