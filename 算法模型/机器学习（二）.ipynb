{
 "cells": [
  {
   "cell_type": "code",
   "execution_count": 2,
   "metadata": {},
   "outputs": [],
   "source": [
    "import numpy as np\n",
    "from sklearn.model_selection import train_test_split"
   ]
  },
  {
   "cell_type": "code",
   "execution_count": 13,
   "metadata": {},
   "outputs": [],
   "source": [
    "x=np.random.randint(0,100,(10,4))  #等同于 x=np.random.randint(0,100,40).reshape(10,4)\n",
    "y=np.random.randint(0,3,10)\n",
    "y.sort()  #要对y进行排序\n",
    "#array([1, 0, 2, 1, 0, 0, 2, 2, 2, 1])---->array([0, 0, 0, 1, 1, 1, 1, 1, 2, 2])"
   ]
  },
  {
   "cell_type": "code",
   "execution_count": 15,
   "metadata": {},
   "outputs": [
    {
     "name": "stdout",
     "output_type": "stream",
     "text": [
      "样本：\n",
      "[[21  1 41 31]\n",
      " [26 19 28  3]\n",
      " [ 4 47 29  6]\n",
      " [ 6 19 32 44]\n",
      " [76  9 76  9]\n",
      " [ 3 12 58 65]\n",
      " [10 59 67  5]\n",
      " [98 91 86 82]\n",
      " [41 93 92 69]\n",
      " [34 99 44 58]]\n",
      "标签： [0 0 1 1 1 1 1 2 2 2]\n"
     ]
    }
   ],
   "source": [
    "print('样本：')\n",
    "print(x)\n",
    "print('标签：',y)"
   ]
  },
  {
   "cell_type": "markdown",
   "metadata": {},
   "source": [
    "## 分割数据集"
   ]
  },
  {
   "cell_type": "code",
   "execution_count": 19,
   "metadata": {},
   "outputs": [],
   "source": [
    "x_train, x_test, y_train, y_test = train_test_split(x, y, test_size=0.3,\n",
    "                                                        random_state=7)8"
   ]
  },
  {
   "cell_type": "code",
   "execution_count": 20,
   "metadata": {},
   "outputs": [
    {
     "name": "stdout",
     "output_type": "stream",
     "text": [
      "训练集：\n",
      "[[ 4 47 29  6]\n",
      " [26 19 28  3]\n",
      " [34 99 44 58]\n",
      " [98 91 86 82]\n",
      " [ 6 19 32 44]\n",
      " [10 59 67  5]\n",
      " [76  9 76  9]]\n",
      "[1 0 2 2 1 1 1]\n",
      "测试集：\n",
      "[[41 93 92 69]\n",
      " [ 3 12 58 65]\n",
      " [21  1 41 31]]\n",
      "[2 1 0]\n"
     ]
    }
   ],
   "source": [
    "print('训练集：')\n",
    "print(x_train)\n",
    "print(y_train)\n",
    "print('测试集：')\n",
    "print(x_test)\n",
    "print(y_test)"
   ]
  },
  {
   "cell_type": "markdown",
   "metadata": {},
   "source": [
    "## 特征归一化"
   ]
  },
  {
   "cell_type": "markdown",
   "metadata": {},
   "source": [
    "### 归一化对象---即所有样本组成的特征向量"
   ]
  },
  {
   "cell_type": "code",
   "execution_count": 23,
   "metadata": {},
   "outputs": [],
   "source": [
    "from sklearn import preprocessing\n",
    "x1=np.random.randint(0,1000,5).reshape(5,1)\n",
    "x2=np.random.randint(0,10,5).reshape(5,1)\n",
    "x3=np.random.randint(0,100000,5).reshape(5,1)"
   ]
  },
  {
   "cell_type": "markdown",
   "metadata": {},
   "source": [
    "### 将每个特征对应的向量进行横向合并"
   ]
  },
  {
   "cell_type": "code",
   "execution_count": 26,
   "metadata": {},
   "outputs": [
    {
     "data": {
      "text/plain": [
       "array([[  693,     1, 58507],\n",
       "       [  388,     9, 57695],\n",
       "       [    5,     2, 96277],\n",
       "       [  947,     7, 92625],\n",
       "       [  774,     7, 47905]])"
      ]
     },
     "execution_count": 26,
     "metadata": {},
     "output_type": "execute_result"
    }
   ],
   "source": [
    "X=np.concatenate([x1,x2,x3],axis=1) #将每个特征按列合并\n",
    "X"
   ]
  },
  {
   "cell_type": "markdown",
   "metadata": {},
   "source": [
    "### 归一化---scale()"
   ]
  },
  {
   "cell_type": "code",
   "execution_count": 27,
   "metadata": {},
   "outputs": [
    {
     "data": {
      "text/plain": [
       "array([[ 0.39648152, -1.34438724, -0.6089793 ],\n",
       "       [-0.52241562,  1.21635036, -0.64986391],\n",
       "       [-1.67630942, -1.02429504,  1.29275931],\n",
       "       [ 1.16172702,  0.57616596,  1.10887926],\n",
       "       [ 0.6405165 ,  0.57616596, -1.14279537]])"
      ]
     },
     "execution_count": 27,
     "metadata": {},
     "output_type": "execute_result"
    }
   ],
   "source": [
    "preprocessing.scale(X)"
   ]
  },
  {
   "cell_type": "markdown",
   "metadata": {},
   "source": [
    "## 用scale进行归一化处理的必要性"
   ]
  },
  {
   "cell_type": "markdown",
   "metadata": {},
   "source": [
    "### 图形展示"
   ]
  },
  {
   "cell_type": "code",
   "execution_count": 68,
   "metadata": {},
   "outputs": [],
   "source": [
    "from sklearn.datasets import make_classification\n",
    "import matplotlib.pyplot as plt"
   ]
  },
  {
   "cell_type": "code",
   "execution_count": 69,
   "metadata": {},
   "outputs": [],
   "source": [
    "x, y = make_classification( n_samples=300,\n",
    "                            n_features=2, #生成二维特征\n",
    "                            n_redundant=0,\n",
    "                            n_clusters_per_class=1,\n",
    "                            scale=100,\n",
    "                            n_informative=2,\n",
    "                            random_state=25)\n",
    "#y中的数字代表的是点的颜色，0是一种颜色，1是另外一种颜色，将样本进行颜色区分"
   ]
  },
  {
   "cell_type": "code",
   "execution_count": 41,
   "metadata": {},
   "outputs": [
    {
     "data": {
      "text/plain": [
       "array([[-132.00891296,  -55.55593836],\n",
       "       [ 186.60520886,  173.76271855]])"
      ]
     },
     "execution_count": 41,
     "metadata": {},
     "output_type": "execute_result"
    },
    {
     "data": {
      "text/plain": [
       "array([0, 1, 1, 1, 1, 0, 0, 1, 1, 0, 0, 1, 1, 0, 1, 1, 1, 1, 1, 1, 0, 0,\n",
       "       1, 0, 1, 1, 0, 0, 0, 1, 1, 1, 1, 1, 1, 1, 1, 1, 1, 0, 0, 1, 0, 1,\n",
       "       0, 0, 1, 0, 0, 1, 0, 0, 0, 0, 0, 0, 1, 1, 1, 0, 0, 0, 1, 1, 0, 0,\n",
       "       1, 1, 0, 0, 1, 0, 0, 1, 1, 1, 1, 1, 0, 0, 0, 0, 0, 1, 1, 1, 0, 1,\n",
       "       1, 0, 1, 1, 0, 0, 0, 0, 0, 1, 1, 1, 1, 1, 1, 0, 1, 0, 1, 0, 1, 0,\n",
       "       0, 1, 1, 0, 1, 1, 1, 0, 1, 0, 1, 0, 1, 1, 0, 1, 1, 1, 0, 0, 1, 0,\n",
       "       0, 1, 0, 0, 0, 0, 0, 0, 1, 1, 0, 0, 0, 0, 0, 0, 0, 1, 1, 0, 0, 1,\n",
       "       1, 1, 1, 1, 1, 0, 0, 0, 1, 1, 1, 0, 1, 1, 0, 0, 1, 1, 1, 1, 1, 0,\n",
       "       0, 0, 1, 0, 0, 1, 0, 0, 1, 0, 1, 0, 1, 1, 0, 1, 1, 0, 0, 1, 0, 1,\n",
       "       0, 0, 1, 1, 1, 0, 0, 0, 1, 0, 1, 1, 0, 1, 0, 0, 0, 0, 1, 0, 0, 0,\n",
       "       0, 0, 1, 0, 0, 0, 0, 0, 1, 0, 0, 1, 1, 1, 1, 1, 1, 0, 0, 1, 0, 1,\n",
       "       1, 0, 0, 0, 1, 0, 1, 0, 1, 0, 0, 0, 1, 1, 1, 0, 1, 0, 1, 0, 0, 1,\n",
       "       0, 0, 1, 0, 1, 1, 0, 1, 1, 0, 1, 0, 1, 1, 0, 1, 1, 0, 1, 1, 0, 1,\n",
       "       0, 0, 0, 0, 1, 1, 0, 1, 0, 1, 0, 0, 1, 1])"
      ]
     },
     "execution_count": 41,
     "metadata": {},
     "output_type": "execute_result"
    }
   ],
   "source": [
    "x[:2]\n",
    "y"
   ]
  },
  {
   "cell_type": "code",
   "execution_count": 47,
   "metadata": {},
   "outputs": [
    {
     "data": {
      "text/plain": [
       "<matplotlib.collections.PathCollection at 0x1154d8d0>"
      ]
     },
     "execution_count": 47,
     "metadata": {},
     "output_type": "execute_result"
    },
    {
     "data": {
      "image/png": "[encoded data removed]",
      "text/plain": [
       "<Figure size 432x288 with 1 Axes>"
      ]
     },
     "metadata": {
      "needs_background": "light"
     },
     "output_type": "display_data"
    }
   ],
   "source": [
    "plt.scatter(x[:,0],x[:,1],c=y)"
   ]
  },
  {
   "cell_type": "code",
   "execution_count": 52,
   "metadata": {
    "scrolled": true
   },
   "outputs": [
    {
     "data": {
      "text/plain": [
       "<matplotlib.collections.PathCollection at 0x13dc67b8>"
      ]
     },
     "execution_count": 52,
     "metadata": {},
     "output_type": "execute_result"
    },
    {
     "data": {
      "image/png": "[encoded data removed]",
      "text/plain": [
       "<Figure size 432x288 with 1 Axes>"
      ]
     },
     "metadata": {
      "needs_background": "light"
     },
     "output_type": "display_data"
    }
   ],
   "source": [
    "x9=[100,200,224,108]\n",
    "x8=[10,98,456,234]\n",
    "y=[0,1,2,3]\n",
    "plt.scatter(x8,x9,c=y)"
   ]
  },
  {
   "cell_type": "markdown",
   "metadata": {},
   "source": [
    "### 不进行归一化时"
   ]
  },
  {
   "cell_type": "code",
   "execution_count": 70,
   "metadata": {},
   "outputs": [
    {
     "name": "stderr",
     "output_type": "stream",
     "text": [
      "C:\\ProgramData\\Anaconda3\\lib\\site-packages\\sklearn\\svm\\base.py:193: FutureWarning: The default value of gamma will change from 'auto' to 'scale' in version 0.22 to account better for unscaled features. Set gamma explicitly to 'auto' or 'scale' to avoid this warning.\n",
      "  \"avoid this warning.\", FutureWarning)\n"
     ]
    },
    {
     "data": {
      "text/plain": [
       "SVC(C=1.0, cache_size=200, class_weight=None, coef0=0.0,\n",
       "    decision_function_shape='ovr', degree=3, gamma='auto_deprecated',\n",
       "    kernel='rbf', max_iter=-1, probability=False, random_state=None,\n",
       "    shrinking=True, tol=0.001, verbose=False)"
      ]
     },
     "execution_count": 70,
     "metadata": {},
     "output_type": "execute_result"
    },
    {
     "data": {
      "text/plain": [
       "0.5333333333333333"
      ]
     },
     "execution_count": 70,
     "metadata": {},
     "output_type": "execute_result"
    }
   ],
   "source": [
    "from sklearn import svm\n",
    "from sklearn.metrics import accuracy_score\n",
    "x, y = make_classification( n_samples=300,\n",
    "                            n_features=2, #生成二维特征\n",
    "                            n_redundant=0,\n",
    "                            n_clusters_per_class=1,\n",
    "                            scale=100,\n",
    "                            n_informative=2,\n",
    "                            random_state=25)\n",
    "x_train, x_test, y_train, y_test = train_test_split(x, y, test_size=0.3, random_state=7)\n",
    "                                                                                                  \n",
    "svm_model=svm.SVC()\n",
    "svm_model.fit(x_train,y_train)\n",
    "svm_model.score(x_test,y_test)\n",
    "\n",
    "# svm_model.score(x_test,y_test)的方法和先predict再accuracy_score一样\n",
    "#predict=svm_model.predict(x_test)\n",
    "#accurary=accuracy_score(y_test,predict)"
   ]
  },
  {
   "cell_type": "markdown",
   "metadata": {},
   "source": [
    "### 进行归一化--preprocessing\n",
    "归一化处理后，模型的精确度大大的提升"
   ]
  },
  {
   "cell_type": "code",
   "execution_count": 5,
   "metadata": {},
   "outputs": [],
   "source": [
    "from sklearn.datasets import make_classification      #第一步：生成样本集\n",
    "from sklearn.model_selection import train_test_split    #第二步：将样本集进行划分\n",
    "from sklearn import preprocessing                     # 第三步：将特征值进行归一化\n",
    "from sklearn import svm                          # 第四步：模型带入\n",
    "from sklearn.metrics import accuracy_score     # 分类问题使用准确率进行评分--accuracy_score\n",
    "\n",
    "x, y = make_classification( n_samples=300,\n",
    "                            n_features=2, #生成二维特征\n",
    "                            n_redundant=0,\n",
    "                            n_clusters_per_class=1,\n",
    "                            scale=100,\n",
    "                            n_informative=2,\n",
    "                            random_state=25)\n"
   ]
  },
  {
   "cell_type": "code",
   "execution_count": 6,
   "metadata": {},
   "outputs": [
    {
     "name": "stderr",
     "output_type": "stream",
     "text": [
      "C:\\ProgramData\\Anaconda3\\lib\\site-packages\\sklearn\\svm\\base.py:193: FutureWarning: The default value of gamma will change from 'auto' to 'scale' in version 0.22 to account better for unscaled features. Set gamma explicitly to 'auto' or 'scale' to avoid this warning.\n",
      "  \"avoid this warning.\", FutureWarning)\n"
     ]
    },
    {
     "data": {
      "text/plain": [
       "SVC(C=1.0, cache_size=200, class_weight=None, coef0=0.0,\n",
       "    decision_function_shape='ovr', degree=3, gamma='auto_deprecated',\n",
       "    kernel='rbf', max_iter=-1, probability=False, random_state=None,\n",
       "    shrinking=True, tol=0.001, verbose=False)"
      ]
     },
     "execution_count": 6,
     "metadata": {},
     "output_type": "execute_result"
    },
    {
     "data": {
      "text/plain": [
       "0.9777777777777777"
      ]
     },
     "execution_count": 6,
     "metadata": {},
     "output_type": "execute_result"
    }
   ],
   "source": [
    "x=preprocessing.scale(x)\n",
    "x_train, x_test, y_train, y_test = train_test_split(x, y, test_size=0.3,random_state=7)                                                    \n",
    "svm_model=svm.SVC()\n",
    "svm_model.fit(x_train,y_train)\n",
    "svm_model.score(x_test,y_test)"
   ]
  },
  {
   "cell_type": "markdown",
   "metadata": {},
   "source": [
    "## 模型选择\n",
    "https://scikit-learn.org/stable/tutorial/machine_learning_map/index.html\n",
    "\n",
    "可根据提示内容判断所需要的模型,不同模型有不同的评分标准：\n",
    "\n",
    "回归模型：用决定系数进行评分---\n",
    "\n",
    "分类模型：用准确率进行评分--accuracy_score"
   ]
  },
  {
   "cell_type": "code",
   "execution_count": 7,
   "metadata": {},
   "outputs": [
    {
     "data": {
      "text/plain": [
       "SVC(C=1.0, cache_size=200, class_weight=None, coef0=0.0,\n",
       "    decision_function_shape='ovr', degree=3, gamma='auto_deprecated',\n",
       "    kernel='rbf', max_iter=-1, probability=False, random_state=None,\n",
       "    shrinking=True, tol=0.001, verbose=False)"
      ]
     },
     "execution_count": 7,
     "metadata": {},
     "output_type": "execute_result"
    }
   ],
   "source": [
    "svm_model"
   ]
  },
  {
   "cell_type": "code",
   "execution_count": 8,
   "metadata": {},
   "outputs": [
    {
     "data": {
      "text/plain": [
       "{'C': 1.0,\n",
       " 'cache_size': 200,\n",
       " 'class_weight': None,\n",
       " 'coef0': 0.0,\n",
       " 'decision_function_shape': 'ovr',\n",
       " 'degree': 3,\n",
       " 'gamma': 'auto_deprecated',\n",
       " 'kernel': 'rbf',\n",
       " 'max_iter': -1,\n",
       " 'probability': False,\n",
       " 'random_state': None,\n",
       " 'shrinking': True,\n",
       " 'tol': 0.001,\n",
       " 'verbose': False}"
      ]
     },
     "execution_count": 8,
     "metadata": {},
     "output_type": "execute_result"
    }
   ],
   "source": [
    "svm_model.get_params()"
   ]
  },
  {
   "cell_type": "markdown",
   "metadata": {},
   "source": [
    "### 线性回归模型--以伦敦房价为例"
   ]
  },
  {
   "cell_type": "code",
   "execution_count": 10,
   "metadata": {},
   "outputs": [],
   "source": [
    "from sklearn import datasets"
   ]
  },
  {
   "cell_type": "code",
   "execution_count": 13,
   "metadata": {},
   "outputs": [
    {
     "data": {
      "text/plain": [
       "dict_keys(['data', 'target', 'feature_names', 'DESCR', 'filename'])"
      ]
     },
     "execution_count": 13,
     "metadata": {},
     "output_type": "execute_result"
    },
    {
     "data": {
      "text/plain": [
       "array(['CRIM', 'ZN', 'INDUS', 'CHAS', 'NOX', 'RM', 'AGE', 'DIS', 'RAD',\n",
       "       'TAX', 'PTRATIO', 'B', 'LSTAT'], dtype='<U7')"
      ]
     },
     "execution_count": 13,
     "metadata": {},
     "output_type": "execute_result"
    }
   ],
   "source": [
    "#获取波士顿房价\n",
    "boston_data=datasets.load_boston()\n",
    "boston_data.keys()\n",
    "boston_data.feature_names\n",
    "x=boston_data.data\n",
    "y=boston_data.target"
   ]
  },
  {
   "cell_type": "code",
   "execution_count": 14,
   "metadata": {},
   "outputs": [
    {
     "name": "stdout",
     "output_type": "stream",
     "text": [
      "samples:\n",
      "[[6.3200e-03 1.8000e+01 2.3100e+00 0.0000e+00 5.3800e-01 6.5750e+00\n",
      "  6.5200e+01 4.0900e+00 1.0000e+00 2.9600e+02 1.5300e+01 3.9690e+02\n",
      "  4.9800e+00]\n",
      " [2.7310e-02 0.0000e+00 7.0700e+00 0.0000e+00 4.6900e-01 6.4210e+00\n",
      "  7.8900e+01 4.9671e+00 2.0000e+00 2.4200e+02 1.7800e+01 3.9690e+02\n",
      "  9.1400e+00]]\n",
      "标签：\n",
      "[24.  21.6]\n"
     ]
    }
   ],
   "source": [
    "print('samples:')\n",
    "print(x[:2])\n",
    "print('标签：')\n",
    "print(y[:2])"
   ]
  },
  {
   "cell_type": "code",
   "execution_count": 15,
   "metadata": {},
   "outputs": [],
   "source": [
    "from sklearn.linear_model import LinearRegression\n",
    "lr_model=LinearRegression()"
   ]
  },
  {
   "cell_type": "code",
   "execution_count": 16,
   "metadata": {},
   "outputs": [
    {
     "data": {
      "text/plain": [
       "LinearRegression(copy_X=True, fit_intercept=True, n_jobs=None, normalize=False)"
      ]
     },
     "execution_count": 16,
     "metadata": {},
     "output_type": "execute_result"
    }
   ],
   "source": [
    "from sklearn.model_selection import train_test_split    #第二步：将样本集进行划分\n",
    "x_train, x_test, y_train, y_test = train_test_split(x, y, test_size=0.3,random_state=7)                                                    \n",
    "lr_model.fit(x_train,y_train)"
   ]
  },
  {
   "cell_type": "code",
   "execution_count": 17,
   "metadata": {},
   "outputs": [
    {
     "data": {
      "text/plain": [
       "0.6508417720329539"
      ]
     },
     "execution_count": 17,
     "metadata": {},
     "output_type": "execute_result"
    }
   ],
   "source": [
    "lr_model.score(x_test,y_test)"
   ]
  },
  {
   "cell_type": "markdown",
   "metadata": {},
   "source": [
    "## 交叉验证--cross_val_score"
   ]
  },
  {
   "cell_type": "code",
   "execution_count": 1,
   "metadata": {},
   "outputs": [],
   "source": [
    "from sklearn import datasets\n",
    "from sklearn.model_selection import train_test_split,cross_val_score\n",
    "from sklearn.neighbors import KNeighborsClassifier\n",
    "import matplotlib.pyplot as plt"
   ]
  },
  {
   "cell_type": "code",
   "execution_count": 2,
   "metadata": {},
   "outputs": [],
   "source": [
    "iris=datasets.load_iris()\n",
    "x=iris.data\n",
    "y=iris.target"
   ]
  },
  {
   "cell_type": "markdown",
   "metadata": {},
   "source": [
    "### KNeighborsClassifier(n)进行试验"
   ]
  },
  {
   "cell_type": "code",
   "execution_count": 3,
   "metadata": {},
   "outputs": [
    {
     "data": {
      "text/plain": [
       "KNeighborsClassifier(algorithm='auto', leaf_size=30, metric='minkowski',\n",
       "                     metric_params=None, n_jobs=None, n_neighbors=10, p=2,\n",
       "                     weights='uniform')"
      ]
     },
     "execution_count": 3,
     "metadata": {},
     "output_type": "execute_result"
    },
    {
     "data": {
      "text/plain": [
       "0.9555555555555556"
      ]
     },
     "execution_count": 3,
     "metadata": {},
     "output_type": "execute_result"
    }
   ],
   "source": [
    "#若选择n=10\n",
    "x_train, x_test, y_train, y_test = train_test_split(x, y, test_size=0.3,random_state=7) \n",
    "kc_model=KNeighborsClassifier(n_neighbors=10)\n",
    "kc_model.fit(x_train,y_train)\n",
    "kc_model.score(x_test,y_test)"
   ]
  },
  {
   "cell_type": "markdown",
   "metadata": {},
   "source": [
    "### 交叉验证KNeighborsClassifier（n）中的超参数n"
   ]
  },
  {
   "cell_type": "code",
   "execution_count": 4,
   "metadata": {},
   "outputs": [
    {
     "data": {
      "text/plain": [
       "[<matplotlib.lines.Line2D at 0xbb64b70>]"
      ]
     },
     "execution_count": 4,
     "metadata": {},
     "output_type": "execute_result"
    },
    {
     "data": {
      "image/png": "[encoded data removed]",
      "text/plain": [
       "<Figure size 432x288 with 1 Axes>"
      ]
     },
     "metadata": {
      "needs_background": "light"
     },
     "output_type": "display_data"
    }
   ],
   "source": [
    "k_range=range(1,31)\n",
    "cv_scores=[]\n",
    "for n in k_range:\n",
    "    knn=KNeighborsClassifier(n_neighbors=n)\n",
    "    scores=cross_val_score(knn,x_train,y_train,cv=10,scoring='accuracy')  \n",
    "#cv=10说明将训练集分为10份，分别作为验证集，scoring='accuracy'表示按照精确度作为评分方法\n",
    "#scores为n=i时，每次验证的结果，是一个列表\n",
    "    cv_scores.append(scores.mean())\n",
    "plt.plot(k_range,cv_scores)   #第29个的最大"
   ]
  },
  {
   "cell_type": "code",
   "execution_count": 10,
   "metadata": {},
   "outputs": [
    {
     "data": {
      "text/plain": [
       "KNeighborsClassifier(algorithm='auto', leaf_size=30, metric='minkowski',\n",
       "                     metric_params=None, n_jobs=None, n_neighbors=29, p=2,\n",
       "                     weights='uniform')"
      ]
     },
     "execution_count": 10,
     "metadata": {},
     "output_type": "execute_result"
    },
    {
     "data": {
      "text/plain": [
       "0.8666666666666667"
      ]
     },
     "execution_count": 10,
     "metadata": {},
     "output_type": "execute_result"
    }
   ],
   "source": [
    "best_model=KNeighborsClassifier(n_neighbors=29)\n",
    "best_model.fit(x_train,y_train)\n",
    "best_model.score(x_test,y_test)"
   ]
  },
  {
   "cell_type": "markdown",
   "metadata": {},
   "source": [
    "## 主成分分析"
   ]
  },
  {
   "cell_type": "markdown",
   "metadata": {},
   "source": [
    "### 导入数据"
   ]
  },
  {
   "cell_type": "code",
   "execution_count": 1,
   "metadata": {},
   "outputs": [],
   "source": [
    "import matplotlib.pyplot as plt\n",
    "import numpy as np\n",
    "\n",
    "from sklearn import datasets"
   ]
  },
  {
   "cell_type": "code",
   "execution_count": 2,
   "metadata": {},
   "outputs": [],
   "source": [
    "digits=datasets.load_digits()\n",
    "X_digits, y_digits = digits.data, digits.target"
   ]
  },
  {
   "cell_type": "code",
   "execution_count": 9,
   "metadata": {},
   "outputs": [
    {
     "data": {
      "text/plain": [
       "array([[ 0.,  0.,  5., 13.,  9.,  1.,  0.,  0.,  0.,  0., 13., 15., 10.,\n",
       "        15.,  5.,  0.,  0.,  3., 15.,  2.,  0., 11.,  8.,  0.,  0.,  4.,\n",
       "        12.,  0.,  0.,  8.,  8.,  0.,  0.,  5.,  8.,  0.,  0.,  9.,  8.,\n",
       "         0.,  0.,  4., 11.,  0.,  1., 12.,  7.,  0.,  0.,  2., 14.,  5.,\n",
       "        10., 12.,  0.,  0.,  0.,  0.,  6., 13., 10.,  0.,  0.,  0.],\n",
       "       [ 0.,  0.,  0., 12., 13.,  5.,  0.,  0.,  0.,  0.,  0., 11., 16.,\n",
       "         9.,  0.,  0.,  0.,  0.,  3., 15., 16.,  6.,  0.,  0.,  0.,  7.,\n",
       "        15., 16., 16.,  2.,  0.,  0.,  0.,  0.,  1., 16., 16.,  3.,  0.,\n",
       "         0.,  0.,  0.,  1., 16., 16.,  6.,  0.,  0.,  0.,  0.,  1., 16.,\n",
       "        16.,  6.,  0.,  0.,  0.,  0.,  0., 11., 16., 10.,  0.,  0.]])"
      ]
     },
     "execution_count": 9,
     "metadata": {},
     "output_type": "execute_result"
    }
   ],
   "source": [
    "X_digits[:2]"
   ]
  },
  {
   "cell_type": "code",
   "execution_count": 10,
   "metadata": {},
   "outputs": [
    {
     "data": {
      "text/plain": [
       "array([0, 1, 2, ..., 8, 9, 8])"
      ]
     },
     "execution_count": 10,
     "metadata": {},
     "output_type": "execute_result"
    }
   ],
   "source": [
    "y_digits"
   ]
  },
  {
   "cell_type": "code",
   "execution_count": 18,
   "metadata": {
    "scrolled": true
   },
   "outputs": [
    {
     "data": {
      "text/plain": [
       "(1797, 8, 8)"
      ]
     },
     "execution_count": 18,
     "metadata": {},
     "output_type": "execute_result"
    },
    {
     "data": {
      "text/plain": [
       "array([[[ 0.,  0.,  5., ...,  1.,  0.,  0.],\n",
       "        [ 0.,  0., 13., ..., 15.,  5.,  0.],\n",
       "        [ 0.,  3., 15., ..., 11.,  8.,  0.],\n",
       "        ...,\n",
       "        [ 0.,  4., 11., ..., 12.,  7.,  0.],\n",
       "        [ 0.,  2., 14., ..., 12.,  0.,  0.],\n",
       "        [ 0.,  0.,  6., ...,  0.,  0.,  0.]],\n",
       "\n",
       "       [[ 0.,  0.,  0., ...,  5.,  0.,  0.],\n",
       "        [ 0.,  0.,  0., ...,  9.,  0.,  0.],\n",
       "        [ 0.,  0.,  3., ...,  6.,  0.,  0.],\n",
       "        ...,\n",
       "        [ 0.,  0.,  1., ...,  6.,  0.,  0.],\n",
       "        [ 0.,  0.,  1., ...,  6.,  0.,  0.],\n",
       "        [ 0.,  0.,  0., ..., 10.,  0.,  0.]],\n",
       "\n",
       "       [[ 0.,  0.,  0., ..., 12.,  0.,  0.],\n",
       "        [ 0.,  0.,  3., ..., 14.,  0.,  0.],\n",
       "        [ 0.,  0.,  8., ..., 16.,  0.,  0.],\n",
       "        ...,\n",
       "        [ 0.,  9., 16., ...,  0.,  0.,  0.],\n",
       "        [ 0.,  3., 13., ..., 11.,  5.,  0.],\n",
       "        [ 0.,  0.,  0., ..., 16.,  9.,  0.]],\n",
       "\n",
       "       ...,\n",
       "\n",
       "       [[ 0.,  0.,  1., ...,  1.,  0.,  0.],\n",
       "        [ 0.,  0., 13., ...,  2.,  1.,  0.],\n",
       "        [ 0.,  0., 16., ..., 16.,  5.,  0.],\n",
       "        ...,\n",
       "        [ 0.,  0., 16., ..., 15.,  0.,  0.],\n",
       "        [ 0.,  0., 15., ..., 16.,  0.,  0.],\n",
       "        [ 0.,  0.,  2., ...,  6.,  0.,  0.]],\n",
       "\n",
       "       [[ 0.,  0.,  2., ...,  0.,  0.,  0.],\n",
       "        [ 0.,  0., 14., ..., 15.,  1.,  0.],\n",
       "        [ 0.,  4., 16., ..., 16.,  7.,  0.],\n",
       "        ...,\n",
       "        [ 0.,  0.,  0., ..., 16.,  2.,  0.],\n",
       "        [ 0.,  0.,  4., ..., 16.,  2.,  0.],\n",
       "        [ 0.,  0.,  5., ..., 12.,  0.,  0.]],\n",
       "\n",
       "       [[ 0.,  0., 10., ...,  1.,  0.,  0.],\n",
       "        [ 0.,  2., 16., ...,  1.,  0.,  0.],\n",
       "        [ 0.,  0., 15., ..., 15.,  0.,  0.],\n",
       "        ...,\n",
       "        [ 0.,  4., 16., ..., 16.,  6.,  0.],\n",
       "        [ 0.,  8., 16., ..., 16.,  8.,  0.],\n",
       "        [ 0.,  1.,  8., ..., 12.,  1.,  0.]]])"
      ]
     },
     "execution_count": 18,
     "metadata": {},
     "output_type": "execute_result"
    }
   ],
   "source": [
    "digits.images.shape\n",
    "digits.images"
   ]
  },
  {
   "cell_type": "markdown",
   "metadata": {},
   "source": [
    "###  定义图形展示函数"
   ]
  },
  {
   "cell_type": "code",
   "execution_count": 20,
   "metadata": {},
   "outputs": [
    {
     "data": {
      "text/plain": [
       "(8, 8)"
      ]
     },
     "execution_count": 20,
     "metadata": {},
     "output_type": "execute_result"
    },
    {
     "data": {
      "text/plain": [
       "array([[ 0.,  0.,  0., 12., 13.,  5.,  0.,  0.],\n",
       "       [ 0.,  0.,  0., 11., 16.,  9.,  0.,  0.],\n",
       "       [ 0.,  0.,  3., 15., 16.,  6.,  0.,  0.],\n",
       "       [ 0.,  7., 15., 16., 16.,  2.,  0.,  0.],\n",
       "       [ 0.,  0.,  1., 16., 16.,  3.,  0.,  0.],\n",
       "       [ 0.,  0.,  1., 16., 16.,  6.,  0.,  0.],\n",
       "       [ 0.,  0.,  1., 16., 16.,  6.,  0.,  0.],\n",
       "       [ 0.,  0.,  0., 11., 16., 10.,  0.,  0.]])"
      ]
     },
     "execution_count": 20,
     "metadata": {},
     "output_type": "execute_result"
    }
   ],
   "source": [
    "digits.images[1].shape\n",
    "digits.images[1]"
   ]
  },
  {
   "cell_type": "code",
   "execution_count": 66,
   "metadata": {},
   "outputs": [
    {
     "data": {
      "text/plain": [
       "array([0, 1, 2, ..., 8, 9, 8])"
      ]
     },
     "execution_count": 66,
     "metadata": {},
     "output_type": "execute_result"
    },
    {
     "data": {
      "text/plain": [
       "(1797,)"
      ]
     },
     "execution_count": 66,
     "metadata": {},
     "output_type": "execute_result"
    },
    {
     "data": {
      "text/plain": [
       "array([0, 1, 2, 3, 4, 5, 6, 7, 8, 9, 0, 1, 2, 3, 4, 5, 6, 7, 8, 9])"
      ]
     },
     "execution_count": 66,
     "metadata": {},
     "output_type": "execute_result"
    }
   ],
   "source": [
    "digits.target\n",
    "digits.target.shape\n",
    "digits.target[:20]"
   ]
  },
  {
   "cell_type": "code",
   "execution_count": 41,
   "metadata": {},
   "outputs": [
    {
     "data": {
      "image/png": "[encoded data removed]",
      "text/plain": [
       "<Figure size 720x325.44 with 10 Axes>"
      ]
     },
     "metadata": {},
     "output_type": "display_data"
    }
   ],
   "source": [
    "n_row, n_col = 2, 5\n",
    "\n",
    "def plot_digits(images, y, max_n=10):\n",
    "    \"\"\"\n",
    "        显示手写数字的图像\n",
    "    \"\"\"\n",
    "    # 设置图像尺寸\n",
    "    fig = plt.figure(figsize=(2. * n_col, 2.26 * n_row))\n",
    "    i=0\n",
    "    while i < max_n and i < images.shape[0]:\n",
    "        p = fig.add_subplot(n_row, n_col, i + 1, xticks=[], yticks=[])  #去除了刻度\n",
    "#         p = plt.subplot(n_row, n_col, i + 1,xticks=[], yticks=[])   #亦可\n",
    "        p.imshow(images[i], cmap=plt.cm.bone, interpolation='nearest')\n",
    "        # 添加标签\n",
    "        p.text(0, -1, str(y[i]))  \n",
    "        i = i + 1\n",
    "plot_digits(digits.images,digits.target)"
   ]
  },
  {
   "cell_type": "code",
   "execution_count": 12,
   "metadata": {},
   "outputs": [],
   "source": [
    "#只展示两个主成分：X_pca[:, 0]为第一个主成分，X_pca[:, 1]第二个主成分\n",
    "def plot_pca_scatter():   \n",
    "    \"\"\"\n",
    "        主成分显示\n",
    "    \"\"\"\n",
    "    colors = ['black', 'blue', 'purple', 'yellow', 'white', 'red', 'lime', 'cyan', 'orange', 'gray']\n",
    "    for i in range(len(colors)):\n",
    "        # 只显示前两个主成分在二维坐标系中\n",
    "        # 如果想显示前三个主成分，可以放在三维坐标系中。有兴趣的可以自己尝试下\n",
    "        px = X_pca[:, 0][y_digits == i]\n",
    "        py = X_pca[:, 1][y_digits == i]\n",
    "        plt.scatter(px, py, c=colors[i])   #描述的是一个点\n",
    "    plt.legend(digits.target_names)\n",
    "    plt.xlabel('First Principal Component')\n",
    "    plt.ylabel('Second Principal Component')"
   ]
  },
  {
   "cell_type": "markdown",
   "metadata": {},
   "source": [
    "### 导入pca"
   ]
  },
  {
   "cell_type": "code",
   "execution_count": 3,
   "metadata": {},
   "outputs": [],
   "source": [
    "from sklearn.decomposition import PCA"
   ]
  },
  {
   "cell_type": "code",
   "execution_count": 5,
   "metadata": {},
   "outputs": [],
   "source": [
    "n_components=10  #表示提取前10个主成分\n",
    "pca=PCA(n_components=n_components)"
   ]
  },
  {
   "cell_type": "code",
   "execution_count": 8,
   "metadata": {},
   "outputs": [
    {
     "data": {
      "text/plain": [
       "(1797, 64)"
      ]
     },
     "execution_count": 8,
     "metadata": {},
     "output_type": "execute_result"
    },
    {
     "data": {
      "text/plain": [
       "(1797, 10)"
      ]
     },
     "execution_count": 8,
     "metadata": {},
     "output_type": "execute_result"
    },
    {
     "data": {
      "text/plain": [
       "array([[ -1.25957408,  21.27501937,  -9.4629427 , ...,   2.55620944,\n",
       "         -0.5885992 ,   3.6107657 ],\n",
       "       [  7.95749667, -20.76864701,   4.43959297, ...,  -4.61713577,\n",
       "          3.57600555,  -1.09604303],\n",
       "       [  6.99229878,  -9.95619912,   2.95847037, ..., -16.40525603,\n",
       "          0.73594272,   4.24073971],\n",
       "       ...,\n",
       "       [ 10.80127512,  -6.96025932,   5.59948565, ...,  -7.41734468,\n",
       "         -3.95620335, -13.03972416],\n",
       "       [ -4.87246724,  12.4240112 , -10.17106931, ...,  -4.36342653,\n",
       "          3.95576541, -13.0533645 ],\n",
       "       [ -0.34424285,   6.36541362,  10.77353505, ...,   0.66885052,\n",
       "         -4.09479184, -12.52922692]])"
      ]
     },
     "execution_count": 8,
     "metadata": {},
     "output_type": "execute_result"
    }
   ],
   "source": [
    "x_pca=pca.fit_transform(X_digits)\n",
    "X_digits.shape   #原本有64个特征\n",
    "x_pca.shape      #现有10个新特征\n",
    "x_pca"
   ]
  },
  {
   "cell_type": "code",
   "execution_count": 15,
   "metadata": {},
   "outputs": [
    {
     "data": {
      "image/png": "[encoded data removed]",
      "text/plain": [
       "<Figure size 432x288 with 1 Axes>"
      ]
     },
     "metadata": {
      "needs_background": "light"
     },
     "output_type": "display_data"
    }
   ],
   "source": [
    "n_components=10  #表示提取前10个主成分\n",
    "pca=PCA(n_components=n_components)\n",
    "X_pca=pca.fit_transform(X_digits)\n",
    "plot_pca_scatter()"
   ]
  },
  {
   "cell_type": "markdown",
   "metadata": {},
   "source": [
    "### 展示主成分\n",
    "components_ : 主成分的投影坐标，代表了数据的最大方差的方向，根据explainedvariance由大到小排列。维度是m*n，其中m是降维后的维度,n是原始数据的维度."
   ]
  },
  {
   "cell_type": "code",
   "execution_count": 44,
   "metadata": {},
   "outputs": [
    {
     "data": {
      "text/plain": [
       "(10, 64)"
      ]
     },
     "execution_count": 44,
     "metadata": {},
     "output_type": "execute_result"
    },
    {
     "data": {
      "text/plain": [
       "array([[-4.20158827e-17, -1.73094765e-02, -2.23428824e-01,\n",
       "        -1.35913282e-01, -3.30322855e-02, -9.66340336e-02,\n",
       "        -8.32945069e-03,  2.26899616e-03, -3.20517469e-04,\n",
       "        -1.19308999e-01, -2.44451651e-01,  1.48512723e-01,\n",
       "        -4.67319661e-02, -2.17740750e-01, -1.48137132e-02,\n",
       "         4.47779015e-03, -4.94142076e-05, -7.95420615e-02,\n",
       "         8.33952286e-02,  2.15915338e-01, -1.72126729e-01,\n",
       "        -1.63712137e-01,  2.86444360e-02,  4.23251753e-03,\n",
       "         9.85486676e-05,  6.42318842e-02,  2.54093308e-01,\n",
       "        -3.56771405e-02, -2.09462603e-01, -4.31311410e-02,\n",
       "         5.13119306e-02,  2.13422721e-04, -0.00000000e+00,\n",
       "         1.59950900e-01,  3.68690776e-01,  1.64406843e-01,\n",
       "         8.52007990e-02,  3.72982799e-02,  2.15867445e-02,\n",
       "        -0.00000000e+00,  1.28865588e-03,  1.06945285e-01,\n",
       "         3.03067400e-01,  2.47813077e-01,  2.09637313e-01,\n",
       "         1.22324844e-02, -3.69458778e-02,  1.61484970e-03,\n",
       "         6.93023879e-04, -8.35143722e-03, -5.58598934e-02,\n",
       "         9.30534008e-02,  1.07387687e-01, -1.37734508e-01,\n",
       "        -6.32879924e-02,  9.61667751e-04,  9.55083626e-06,\n",
       "        -1.40786903e-02, -2.35675476e-01, -1.41225597e-01,\n",
       "        -9.15962914e-03, -8.94184222e-02, -3.65977290e-02,\n",
       "        -1.14684925e-02],\n",
       "       [-6.91029642e-18, -1.01064766e-02, -4.90848096e-02,\n",
       "        -9.43326226e-03, -5.36015968e-02, -1.17755126e-01,\n",
       "        -6.21281686e-02, -7.93575830e-03, -1.63219089e-04,\n",
       "        -2.10170118e-02,  6.03485614e-02, -5.33770126e-03,\n",
       "        -9.19769125e-02, -5.19210297e-02, -5.89355771e-02,\n",
       "        -3.33285701e-03, -4.22885728e-05,  3.62454326e-02,\n",
       "         1.98257499e-01, -4.86386036e-02, -2.25574772e-01,\n",
       "        -4.50554566e-03,  2.67695018e-02, -2.08753898e-04,\n",
       "        -5.66236342e-05,  7.71234530e-02,  1.88447181e-01,\n",
       "        -1.37952772e-01, -2.61042861e-01,  4.98352079e-02,\n",
       "         6.51112586e-02,  4.03189784e-05,  0.00000000e+00,\n",
       "         8.81559795e-02,  8.71738288e-02, -2.70860204e-01,\n",
       "        -2.85291824e-01,  1.66461698e-01,  1.27860449e-01,\n",
       "         0.00000000e+00,  2.89438393e-04,  5.08303655e-02,\n",
       "         1.30274354e-01, -2.68906254e-01, -3.01575639e-01,\n",
       "         2.40258890e-01,  2.17555344e-01,  1.32725597e-03,\n",
       "         2.86740616e-04,  1.05548212e-02,  1.53370641e-01,\n",
       "        -1.19535289e-01, -9.72509340e-02,  2.85869637e-01,\n",
       "         1.48776170e-01,  5.42259340e-04, -3.34025578e-05,\n",
       "        -1.00791194e-02, -7.02723035e-02,  1.71108878e-02,\n",
       "         1.94296620e-01,  1.76697324e-01,  1.94546125e-02,\n",
       "        -6.69694506e-03],\n",
       "       [-9.60066751e-17,  1.83420986e-02,  1.26475591e-01,\n",
       "         1.32154807e-01, -1.34015733e-01, -2.64939053e-01,\n",
       "        -1.16643860e-01, -1.68423077e-02,  3.93972986e-04,\n",
       "         7.94373344e-02,  8.74385510e-02,  6.55910093e-02,\n",
       "        -7.89716325e-04, -2.80101779e-01, -1.59704289e-01,\n",
       "        -1.51615426e-02,  2.12612375e-04,  4.24414711e-02,\n",
       "         4.72704480e-03,  7.38150809e-02,  9.65405584e-02,\n",
       "        -3.07581160e-01, -1.48011284e-01, -6.33136457e-03,\n",
       "         5.01581928e-05, -4.41789148e-02, -7.25662241e-02,\n",
       "         7.13385134e-02, -8.05259120e-03, -3.53008253e-01,\n",
       "        -1.48326912e-01, -2.18495195e-04, -0.00000000e+00,\n",
       "        -5.45018081e-02, -3.36021161e-02,  1.41335059e-01,\n",
       "         1.50105863e-02, -2.57974028e-01, -9.38406614e-02,\n",
       "        -0.00000000e+00, -3.19973586e-04, -2.41496994e-02,\n",
       "         1.21723440e-01,  1.71361692e-01, -8.57777586e-02,\n",
       "        -1.44627728e-01,  7.01064669e-02,  2.92248174e-03,\n",
       "        -1.29038558e-04,  1.86136912e-02,  2.34991436e-01,\n",
       "         1.69857992e-01, -5.39963287e-02,  8.48974830e-02,\n",
       "         2.22787396e-01,  2.18621358e-02, -1.39801782e-05,\n",
       "         1.75833216e-02,  1.23158374e-01,  9.83530328e-02,\n",
       "         1.38485154e-01,  2.32084096e-01,  1.67026473e-01,\n",
       "         3.48042940e-02],\n",
       "       [-3.02850450e-17,  2.00128011e-02,  1.77425914e-01,\n",
       "         1.95679926e-01,  3.20892075e-02,  9.51338785e-02,\n",
       "         7.18347535e-02,  9.20573522e-03,  5.96144356e-05,\n",
       "         7.48800996e-02,  3.07557796e-01,  3.70441383e-02,\n",
       "        -1.53700295e-01,  2.71640261e-02,  4.54379414e-02,\n",
       "         2.41691246e-03,  1.12280505e-04,  1.23904434e-01,\n",
       "         2.19811414e-01, -2.75644751e-01, -2.78362524e-01,\n",
       "        -5.73540739e-02,  2.24824179e-02, -1.50751060e-03,\n",
       "         8.94428618e-05,  9.83632246e-02,  1.16326350e-01,\n",
       "        -1.92183171e-01, -2.15996934e-01, -8.19895051e-02,\n",
       "         5.52871438e-02, -5.87216027e-05, -0.00000000e+00,\n",
       "         5.23200167e-02,  9.79136138e-02,  1.04812103e-02,\n",
       "        -1.32053835e-01, -1.60844026e-01,  9.95958712e-03,\n",
       "        -0.00000000e+00, -4.99071914e-04,  6.27281746e-03,\n",
       "         5.21394984e-02,  5.89644779e-02, -2.56236022e-02,\n",
       "        -1.94298607e-01, -8.43545297e-02, -2.28962887e-03,\n",
       "        -4.06689070e-04,  1.06455433e-02,  1.07331844e-01,\n",
       "         1.32073353e-01, -3.17379420e-02, -2.25620552e-01,\n",
       "        -1.39552328e-01, -1.59984176e-02, -1.20716627e-05,\n",
       "         2.10068066e-02,  2.03250720e-01,  2.08230972e-01,\n",
       "        -2.24550362e-01, -3.07659378e-01, -9.93883950e-02,\n",
       "        -2.44734050e-02],\n",
       "       [ 8.92183164e-18,  1.40798987e-02,  8.28304066e-02,\n",
       "        -6.56051724e-02, -1.53894374e-02,  1.66983249e-01,\n",
       "         9.48826150e-02,  4.39294165e-03,  9.68793937e-05,\n",
       "         5.23099096e-02,  4.44263231e-02, -4.56700788e-03,\n",
       "        -1.33898380e-01, -2.15372434e-01,  3.54001800e-02,\n",
       "         9.41554889e-03,  1.81465120e-04,  9.86935087e-02,\n",
       "         2.18719405e-01,  1.46359439e-01, -1.31936067e-01,\n",
       "        -3.62161212e-01, -1.77444455e-02,  5.91908480e-03,\n",
       "         1.57259155e-04,  1.12925580e-01,  3.14997504e-01,\n",
       "         3.07677550e-01,  2.76318491e-02, -1.68645576e-01,\n",
       "        -9.77610388e-02,  1.76623731e-04,  0.00000000e+00,\n",
       "        -3.89451979e-02, -7.45849184e-02,  4.64733680e-03,\n",
       "         7.29083359e-02,  1.68480817e-02, -1.05790306e-01,\n",
       "         0.00000000e+00, -4.06250191e-04, -9.92272489e-02,\n",
       "        -3.99403108e-01, -2.30084114e-01,  1.02589855e-01,\n",
       "         1.19984226e-01, -4.12331763e-02, -5.31711990e-04,\n",
       "        -7.50733545e-04, -2.54603421e-02, -2.60680842e-01,\n",
       "        -1.95895280e-01,  1.23528458e-01,  4.59197507e-02,\n",
       "        -1.76839911e-02,  7.18081064e-03, -9.38617185e-05,\n",
       "         1.24619283e-02,  7.09077394e-02,  2.21423999e-02,\n",
       "         5.05596158e-02, -3.56147482e-02, -1.59290742e-02,\n",
       "         2.24353004e-02],\n",
       "       [-5.34935380e-17, -9.63198850e-03, -8.09373772e-02,\n",
       "         1.27331151e-02, -1.47690182e-02,  3.14145879e-02,\n",
       "         5.29787117e-02,  1.36588343e-02, -2.53941768e-04,\n",
       "        -1.25118237e-02, -4.97928221e-02, -9.44094628e-02,\n",
       "        -2.84595532e-01, -1.36720241e-01,  4.21703448e-02,\n",
       "         8.34595344e-03, -2.95679340e-05, -3.26265693e-02,\n",
       "        -1.38244267e-01, -3.02198532e-01, -2.53837165e-01,\n",
       "        -1.16099969e-01, -3.78337291e-03,  3.57311864e-03,\n",
       "        -4.49862417e-05, -3.82880522e-02, -1.04884517e-01,\n",
       "        -1.62791595e-01,  2.74972066e-02,  5.08064302e-02,\n",
       "        -1.28936353e-02,  2.33217368e-06, -0.00000000e+00,\n",
       "        -3.39436988e-02,  3.39247251e-02,  1.92610885e-01,\n",
       "         2.84572710e-01,  2.54845729e-01,  5.24989751e-02,\n",
       "        -0.00000000e+00, -9.22204810e-04, -6.43686645e-02,\n",
       "        -1.34078224e-01,  5.09332115e-02, -1.00719636e-01,\n",
       "        -9.81224748e-02,  1.82181710e-01,  5.87657128e-03,\n",
       "        -1.41152502e-03, -5.74835004e-02, -2.38099720e-01,\n",
       "        -2.36401742e-02, -3.87875129e-01, -1.77000705e-01,\n",
       "         2.65523241e-01,  1.80022361e-02, -9.46257710e-05,\n",
       "        -1.16159192e-02, -7.07063978e-02, -2.07842735e-02,\n",
       "        -1.07017146e-01,  1.64505414e-01,  1.43995906e-01,\n",
       "         1.50538124e-02],\n",
       "       [ 7.09496166e-17, -2.48331946e-03, -3.69959937e-02,\n",
       "        -2.23127898e-02, -1.13291984e-01, -1.19676949e-01,\n",
       "         1.70860398e-03,  1.10547011e-02, -3.07788041e-04,\n",
       "        -1.09534606e-03, -4.36713541e-02,  1.03827033e-01,\n",
       "         3.31451462e-03, -1.19233099e-01,  1.50391472e-02,\n",
       "         1.03790233e-02,  9.94528829e-05,  3.56948692e-02,\n",
       "         2.14444287e-02, -2.21141939e-02, -7.24047056e-02,\n",
       "        -1.85328192e-02,  4.49817402e-02,  1.78142936e-03,\n",
       "        -2.22458293e-06,  3.37059089e-02, -1.77054808e-01,\n",
       "        -4.70571197e-01, -2.06284525e-01,  1.79187462e-02,\n",
       "        -3.33842666e-03, -1.83230786e-06,  0.00000000e+00,\n",
       "         1.30404618e-02, -2.97280302e-01, -3.86150638e-01,\n",
       "         3.21164517e-02, -2.89122351e-02, -3.52888845e-02,\n",
       "         0.00000000e+00,  8.34894417e-04,  1.20997827e-02,\n",
       "        -2.11581516e-01,  2.67670011e-02,  3.30722585e-01,\n",
       "        -4.65878256e-02, -8.96702601e-02, -1.82878414e-03,\n",
       "         4.58770993e-04, -2.19341779e-02, -1.60771573e-01,\n",
       "         1.46207152e-01,  3.20731679e-01, -7.11676590e-03,\n",
       "         8.13221412e-02,  3.76681775e-02,  7.87003546e-05,\n",
       "        -9.27005869e-04, -7.01050733e-02,  3.59547269e-02,\n",
       "         4.23682938e-02,  7.18482527e-02,  2.17555007e-01,\n",
       "         1.08656113e-01],\n",
       "       [ 5.27036687e-17,  2.26189946e-02,  2.06904729e-01,\n",
       "         1.00451102e-01, -1.22700976e-01, -3.16293944e-01,\n",
       "        -9.19486787e-02, -5.35568198e-03, -5.22832868e-04,\n",
       "         5.02485783e-02, -3.66074747e-02, -7.65034291e-02,\n",
       "         7.64881069e-02, -3.70280381e-01, -1.43201829e-01,\n",
       "         1.69947790e-03, -1.55528208e-04, -7.85269658e-02,\n",
       "        -2.60730593e-01,  7.71256007e-03,  1.94674008e-01,\n",
       "        -2.23398863e-01, -2.07682857e-02,  5.91083123e-03,\n",
       "        -1.09033161e-05, -1.51741224e-02, -1.09819329e-01,\n",
       "        -3.19129348e-02,  5.55548869e-02,  1.19003152e-01,\n",
       "         1.39558031e-01,  2.88796057e-04, -0.00000000e+00,\n",
       "         1.36213122e-01,  8.26269265e-02, -1.17022004e-01,\n",
       "        -8.20512508e-02,  3.13777440e-01,  1.73421562e-01,\n",
       "        -0.00000000e+00,  1.67604930e-03,  9.71354283e-02,\n",
       "        -5.72958702e-02, -3.72078275e-02, -7.47949245e-02,\n",
       "         6.01607212e-02,  4.34013274e-02, -8.00709406e-04,\n",
       "         7.01610582e-04,  2.62640944e-02, -1.00894438e-01,\n",
       "        -1.30643819e-01,  6.23686474e-02, -8.51804364e-02,\n",
       "        -1.08708798e-01, -1.02912030e-02, -1.80933993e-04,\n",
       "         2.00748207e-02,  2.25791667e-01,  3.88394162e-02,\n",
       "        -1.23400481e-01, -3.11522022e-01, -1.46127571e-01,\n",
       "        -1.55305235e-02],\n",
       "       [ 2.03508031e-17, -1.70398953e-02, -9.86511103e-02,\n",
       "        -4.01100351e-02, -1.88323628e-01, -2.06434819e-01,\n",
       "        -3.03804498e-02,  5.64861778e-03, -2.36577820e-04,\n",
       "        -2.42202466e-02, -5.50473901e-03,  3.69390881e-02,\n",
       "         3.69019023e-02, -9.16784553e-02, -5.07461448e-02,\n",
       "         4.44532986e-03,  4.87269683e-04,  9.40767263e-02,\n",
       "         2.49699687e-01,  1.44190677e-01,  1.37195981e-01,\n",
       "         1.41401187e-01,  2.41871390e-02,  1.83861880e-03,\n",
       "         3.44840126e-04,  7.14153284e-02,  2.48312156e-01,\n",
       "         1.64273851e-01,  1.46405475e-01,  2.91272811e-01,\n",
       "         1.18145606e-01,  2.93992190e-04,  0.00000000e+00,\n",
       "        -3.49805318e-02, -8.09898917e-02, -1.24179578e-01,\n",
       "        -2.91512063e-01, -1.00112743e-01,  8.59586373e-02,\n",
       "         0.00000000e+00, -9.29363342e-04, -8.43056861e-02,\n",
       "        -1.85461027e-01,  5.42639297e-02, -1.33426162e-01,\n",
       "        -4.14611828e-01,  2.25786367e-02,  4.01788442e-03,\n",
       "        -5.27658717e-04, -3.76251300e-02, -9.12719654e-02,\n",
       "         7.92958011e-02, -1.85417752e-01, -2.92779398e-01,\n",
       "         5.95706770e-02,  1.54269072e-02,  2.55028449e-06,\n",
       "        -1.73975163e-02, -1.27265348e-01, -8.18922123e-02,\n",
       "        -9.01839426e-02,  5.84809237e-02,  1.17713299e-01,\n",
       "         2.83679899e-02],\n",
       "       [-4.39124806e-17,  2.48607305e-02,  4.78813220e-03,\n",
       "        -2.21519184e-01,  3.01989353e-02,  2.19180021e-01,\n",
       "         1.16695714e-01,  1.80996395e-02, -1.40919676e-05,\n",
       "         4.84043006e-03, -2.62639792e-01, -1.65050675e-01,\n",
       "        -4.18593569e-02, -1.80650895e-02,  1.02183043e-01,\n",
       "         1.58538788e-02,  1.17189800e-04, -7.43465356e-02,\n",
       "        -3.54603796e-01,  7.13590081e-02, -6.19393757e-02,\n",
       "        -2.09806313e-01,  5.20570650e-02,  3.38072541e-03,\n",
       "        -5.54418966e-05, -7.20405933e-02, -1.47577877e-01,\n",
       "         2.40208717e-02, -2.83666656e-01, -2.12161860e-01,\n",
       "         6.34005100e-02,  4.87842826e-05, -0.00000000e+00,\n",
       "        -2.66318733e-02, -2.48462544e-02, -1.65576127e-01,\n",
       "        -3.65387361e-01, -2.63652146e-01, -3.67031024e-02,\n",
       "        -0.00000000e+00,  1.05338168e-03,  4.22352702e-02,\n",
       "        -1.72497592e-04, -9.12076406e-02, -1.24688673e-01,\n",
       "        -2.08983939e-01, -5.79761868e-02, -1.36389483e-03,\n",
       "         1.69679304e-03,  4.52635040e-02,  3.65770325e-02,\n",
       "        -1.73052805e-01, -1.24942025e-01, -1.31382268e-01,\n",
       "        -5.94265810e-02, -1.32230226e-03,  8.93797254e-05,\n",
       "         2.47992354e-02,  2.90008044e-02, -2.26466677e-01,\n",
       "        -6.07461648e-02,  3.47099359e-02,  3.46862490e-02,\n",
       "        -2.94529814e-03]])"
      ]
     },
     "execution_count": 44,
     "metadata": {},
     "output_type": "execute_result"
    }
   ],
   "source": [
    "pca.components_.shape  #(10, 64)\n",
    "pca.components_"
   ]
  },
  {
   "cell_type": "code",
   "execution_count": 62,
   "metadata": {},
   "outputs": [
    {
     "name": "stdout",
     "output_type": "stream",
     "text": [
      "0 [-4.20158827e-17 -1.73094765e-02 -2.23428824e-01 -1.35913282e-01\n",
      " -3.30322855e-02 -9.66340336e-02 -8.32945069e-03  2.26899616e-03\n",
      " -3.20517469e-04 -1.19308999e-01 -2.44451651e-01  1.48512723e-01\n",
      " -4.67319661e-02 -2.17740750e-01 -1.48137132e-02  4.47779015e-03\n",
      " -4.94142076e-05 -7.95420615e-02  8.33952286e-02  2.15915338e-01\n",
      " -1.72126729e-01 -1.63712137e-01  2.86444360e-02  4.23251753e-03\n",
      "  9.85486676e-05  6.42318842e-02  2.54093308e-01 -3.56771405e-02\n",
      " -2.09462603e-01 -4.31311410e-02  5.13119306e-02  2.13422721e-04\n",
      " -0.00000000e+00  1.59950900e-01  3.68690776e-01  1.64406843e-01\n",
      "  8.52007990e-02  3.72982799e-02  2.15867445e-02 -0.00000000e+00\n",
      "  1.28865588e-03  1.06945285e-01  3.03067400e-01  2.47813077e-01\n",
      "  2.09637313e-01  1.22324844e-02 -3.69458778e-02  1.61484970e-03\n",
      "  6.93023879e-04 -8.35143722e-03 -5.58598934e-02  9.30534008e-02\n",
      "  1.07387687e-01 -1.37734508e-01 -6.32879924e-02  9.61667751e-04\n",
      "  9.55083626e-06 -1.40786903e-02 -2.35675476e-01 -1.41225597e-01\n",
      " -9.15962914e-03 -8.94184222e-02 -3.65977290e-02 -1.14684925e-02]\n",
      "1 [-6.91029642e-18 -1.01064766e-02 -4.90848096e-02 -9.43326226e-03\n",
      " -5.36015968e-02 -1.17755126e-01 -6.21281686e-02 -7.93575830e-03\n",
      " -1.63219089e-04 -2.10170118e-02  6.03485614e-02 -5.33770126e-03\n",
      " -9.19769125e-02 -5.19210297e-02 -5.89355771e-02 -3.33285701e-03\n",
      " -4.22885728e-05  3.62454326e-02  1.98257499e-01 -4.86386036e-02\n",
      " -2.25574772e-01 -4.50554566e-03  2.67695018e-02 -2.08753898e-04\n",
      " -5.66236342e-05  7.71234530e-02  1.88447181e-01 -1.37952772e-01\n",
      " -2.61042861e-01  4.98352079e-02  6.51112586e-02  4.03189784e-05\n",
      "  0.00000000e+00  8.81559795e-02  8.71738288e-02 -2.70860204e-01\n",
      " -2.85291824e-01  1.66461698e-01  1.27860449e-01  0.00000000e+00\n",
      "  2.89438393e-04  5.08303655e-02  1.30274354e-01 -2.68906254e-01\n",
      " -3.01575639e-01  2.40258890e-01  2.17555344e-01  1.32725597e-03\n",
      "  2.86740616e-04  1.05548212e-02  1.53370641e-01 -1.19535289e-01\n",
      " -9.72509340e-02  2.85869637e-01  1.48776170e-01  5.42259340e-04\n",
      " -3.34025578e-05 -1.00791194e-02 -7.02723035e-02  1.71108878e-02\n",
      "  1.94296620e-01  1.76697324e-01  1.94546125e-02 -6.69694506e-03]\n",
      "2 [-9.60066751e-17  1.83420986e-02  1.26475591e-01  1.32154807e-01\n",
      " -1.34015733e-01 -2.64939053e-01 -1.16643860e-01 -1.68423077e-02\n",
      "  3.93972986e-04  7.94373344e-02  8.74385510e-02  6.55910093e-02\n",
      " -7.89716325e-04 -2.80101779e-01 -1.59704289e-01 -1.51615426e-02\n",
      "  2.12612375e-04  4.24414711e-02  4.72704480e-03  7.38150809e-02\n",
      "  9.65405584e-02 -3.07581160e-01 -1.48011284e-01 -6.33136457e-03\n",
      "  5.01581928e-05 -4.41789148e-02 -7.25662241e-02  7.13385134e-02\n",
      " -8.05259120e-03 -3.53008253e-01 -1.48326912e-01 -2.18495195e-04\n",
      " -0.00000000e+00 -5.45018081e-02 -3.36021161e-02  1.41335059e-01\n",
      "  1.50105863e-02 -2.57974028e-01 -9.38406614e-02 -0.00000000e+00\n",
      " -3.19973586e-04 -2.41496994e-02  1.21723440e-01  1.71361692e-01\n",
      " -8.57777586e-02 -1.44627728e-01  7.01064669e-02  2.92248174e-03\n",
      " -1.29038558e-04  1.86136912e-02  2.34991436e-01  1.69857992e-01\n",
      " -5.39963287e-02  8.48974830e-02  2.22787396e-01  2.18621358e-02\n",
      " -1.39801782e-05  1.75833216e-02  1.23158374e-01  9.83530328e-02\n",
      "  1.38485154e-01  2.32084096e-01  1.67026473e-01  3.48042940e-02]\n",
      "3 [-3.02850450e-17  2.00128011e-02  1.77425914e-01  1.95679926e-01\n",
      "  3.20892075e-02  9.51338785e-02  7.18347535e-02  9.20573522e-03\n",
      "  5.96144356e-05  7.48800996e-02  3.07557796e-01  3.70441383e-02\n",
      " -1.53700295e-01  2.71640261e-02  4.54379414e-02  2.41691246e-03\n",
      "  1.12280505e-04  1.23904434e-01  2.19811414e-01 -2.75644751e-01\n",
      " -2.78362524e-01 -5.73540739e-02  2.24824179e-02 -1.50751060e-03\n",
      "  8.94428618e-05  9.83632246e-02  1.16326350e-01 -1.92183171e-01\n",
      " -2.15996934e-01 -8.19895051e-02  5.52871438e-02 -5.87216027e-05\n",
      " -0.00000000e+00  5.23200167e-02  9.79136138e-02  1.04812103e-02\n",
      " -1.32053835e-01 -1.60844026e-01  9.95958712e-03 -0.00000000e+00\n",
      " -4.99071914e-04  6.27281746e-03  5.21394984e-02  5.89644779e-02\n",
      " -2.56236022e-02 -1.94298607e-01 -8.43545297e-02 -2.28962887e-03\n",
      " -4.06689070e-04  1.06455433e-02  1.07331844e-01  1.32073353e-01\n",
      " -3.17379420e-02 -2.25620552e-01 -1.39552328e-01 -1.59984176e-02\n",
      " -1.20716627e-05  2.10068066e-02  2.03250720e-01  2.08230972e-01\n",
      " -2.24550362e-01 -3.07659378e-01 -9.93883950e-02 -2.44734050e-02]\n",
      "4 [ 8.92183164e-18  1.40798987e-02  8.28304066e-02 -6.56051724e-02\n",
      " -1.53894374e-02  1.66983249e-01  9.48826150e-02  4.39294165e-03\n",
      "  9.68793937e-05  5.23099096e-02  4.44263231e-02 -4.56700788e-03\n",
      " -1.33898380e-01 -2.15372434e-01  3.54001800e-02  9.41554889e-03\n",
      "  1.81465120e-04  9.86935087e-02  2.18719405e-01  1.46359439e-01\n",
      " -1.31936067e-01 -3.62161212e-01 -1.77444455e-02  5.91908480e-03\n",
      "  1.57259155e-04  1.12925580e-01  3.14997504e-01  3.07677550e-01\n",
      "  2.76318491e-02 -1.68645576e-01 -9.77610388e-02  1.76623731e-04\n",
      "  0.00000000e+00 -3.89451979e-02 -7.45849184e-02  4.64733680e-03\n",
      "  7.29083359e-02  1.68480817e-02 -1.05790306e-01  0.00000000e+00\n",
      " -4.06250191e-04 -9.92272489e-02 -3.99403108e-01 -2.30084114e-01\n",
      "  1.02589855e-01  1.19984226e-01 -4.12331763e-02 -5.31711990e-04\n",
      " -7.50733545e-04 -2.54603421e-02 -2.60680842e-01 -1.95895280e-01\n",
      "  1.23528458e-01  4.59197507e-02 -1.76839911e-02  7.18081064e-03\n",
      " -9.38617185e-05  1.24619283e-02  7.09077394e-02  2.21423999e-02\n",
      "  5.05596158e-02 -3.56147482e-02 -1.59290742e-02  2.24353004e-02]\n",
      "5 [-5.34935380e-17 -9.63198850e-03 -8.09373772e-02  1.27331151e-02\n",
      " -1.47690182e-02  3.14145879e-02  5.29787117e-02  1.36588343e-02\n",
      " -2.53941768e-04 -1.25118237e-02 -4.97928221e-02 -9.44094628e-02\n",
      " -2.84595532e-01 -1.36720241e-01  4.21703448e-02  8.34595344e-03\n",
      " -2.95679340e-05 -3.26265693e-02 -1.38244267e-01 -3.02198532e-01\n",
      " -2.53837165e-01 -1.16099969e-01 -3.78337291e-03  3.57311864e-03\n",
      " -4.49862417e-05 -3.82880522e-02 -1.04884517e-01 -1.62791595e-01\n",
      "  2.74972066e-02  5.08064302e-02 -1.28936353e-02  2.33217368e-06\n",
      " -0.00000000e+00 -3.39436988e-02  3.39247251e-02  1.92610885e-01\n",
      "  2.84572710e-01  2.54845729e-01  5.24989751e-02 -0.00000000e+00\n",
      " -9.22204810e-04 -6.43686645e-02 -1.34078224e-01  5.09332115e-02\n",
      " -1.00719636e-01 -9.81224748e-02  1.82181710e-01  5.87657128e-03\n",
      " -1.41152502e-03 -5.74835004e-02 -2.38099720e-01 -2.36401742e-02\n",
      " -3.87875129e-01 -1.77000705e-01  2.65523241e-01  1.80022361e-02\n",
      " -9.46257710e-05 -1.16159192e-02 -7.07063978e-02 -2.07842735e-02\n",
      " -1.07017146e-01  1.64505414e-01  1.43995906e-01  1.50538124e-02]\n",
      "6 [ 7.09496166e-17 -2.48331946e-03 -3.69959937e-02 -2.23127898e-02\n",
      " -1.13291984e-01 -1.19676949e-01  1.70860398e-03  1.10547011e-02\n",
      " -3.07788041e-04 -1.09534606e-03 -4.36713541e-02  1.03827033e-01\n",
      "  3.31451462e-03 -1.19233099e-01  1.50391472e-02  1.03790233e-02\n",
      "  9.94528829e-05  3.56948692e-02  2.14444287e-02 -2.21141939e-02\n",
      " -7.24047056e-02 -1.85328192e-02  4.49817402e-02  1.78142936e-03\n",
      " -2.22458293e-06  3.37059089e-02 -1.77054808e-01 -4.70571197e-01\n",
      " -2.06284525e-01  1.79187462e-02 -3.33842666e-03 -1.83230786e-06\n",
      "  0.00000000e+00  1.30404618e-02 -2.97280302e-01 -3.86150638e-01\n",
      "  3.21164517e-02 -2.89122351e-02 -3.52888845e-02  0.00000000e+00\n",
      "  8.34894417e-04  1.20997827e-02 -2.11581516e-01  2.67670011e-02\n",
      "  3.30722585e-01 -4.65878256e-02 -8.96702601e-02 -1.82878414e-03\n",
      "  4.58770993e-04 -2.19341779e-02 -1.60771573e-01  1.46207152e-01\n",
      "  3.20731679e-01 -7.11676590e-03  8.13221412e-02  3.76681775e-02\n",
      "  7.87003546e-05 -9.27005869e-04 -7.01050733e-02  3.59547269e-02\n",
      "  4.23682938e-02  7.18482527e-02  2.17555007e-01  1.08656113e-01]\n",
      "7 [ 5.27036687e-17  2.26189946e-02  2.06904729e-01  1.00451102e-01\n",
      " -1.22700976e-01 -3.16293944e-01 -9.19486787e-02 -5.35568198e-03\n",
      " -5.22832868e-04  5.02485783e-02 -3.66074747e-02 -7.65034291e-02\n",
      "  7.64881069e-02 -3.70280381e-01 -1.43201829e-01  1.69947790e-03\n",
      " -1.55528208e-04 -7.85269658e-02 -2.60730593e-01  7.71256007e-03\n",
      "  1.94674008e-01 -2.23398863e-01 -2.07682857e-02  5.91083123e-03\n",
      " -1.09033161e-05 -1.51741224e-02 -1.09819329e-01 -3.19129348e-02\n",
      "  5.55548869e-02  1.19003152e-01  1.39558031e-01  2.88796057e-04\n",
      " -0.00000000e+00  1.36213122e-01  8.26269265e-02 -1.17022004e-01\n",
      " -8.20512508e-02  3.13777440e-01  1.73421562e-01 -0.00000000e+00\n",
      "  1.67604930e-03  9.71354283e-02 -5.72958702e-02 -3.72078275e-02\n",
      " -7.47949245e-02  6.01607212e-02  4.34013274e-02 -8.00709406e-04\n",
      "  7.01610582e-04  2.62640944e-02 -1.00894438e-01 -1.30643819e-01\n",
      "  6.23686474e-02 -8.51804364e-02 -1.08708798e-01 -1.02912030e-02\n",
      " -1.80933993e-04  2.00748207e-02  2.25791667e-01  3.88394162e-02\n",
      " -1.23400481e-01 -3.11522022e-01 -1.46127571e-01 -1.55305235e-02]\n",
      "8 [ 2.03508031e-17 -1.70398953e-02 -9.86511103e-02 -4.01100351e-02\n",
      " -1.88323628e-01 -2.06434819e-01 -3.03804498e-02  5.64861778e-03\n",
      " -2.36577820e-04 -2.42202466e-02 -5.50473901e-03  3.69390881e-02\n",
      "  3.69019023e-02 -9.16784553e-02 -5.07461448e-02  4.44532986e-03\n",
      "  4.87269683e-04  9.40767263e-02  2.49699687e-01  1.44190677e-01\n",
      "  1.37195981e-01  1.41401187e-01  2.41871390e-02  1.83861880e-03\n",
      "  3.44840126e-04  7.14153284e-02  2.48312156e-01  1.64273851e-01\n",
      "  1.46405475e-01  2.91272811e-01  1.18145606e-01  2.93992190e-04\n",
      "  0.00000000e+00 -3.49805318e-02 -8.09898917e-02 -1.24179578e-01\n",
      " -2.91512063e-01 -1.00112743e-01  8.59586373e-02  0.00000000e+00\n",
      " -9.29363342e-04 -8.43056861e-02 -1.85461027e-01  5.42639297e-02\n",
      " -1.33426162e-01 -4.14611828e-01  2.25786367e-02  4.01788442e-03\n",
      " -5.27658717e-04 -3.76251300e-02 -9.12719654e-02  7.92958011e-02\n",
      " -1.85417752e-01 -2.92779398e-01  5.95706770e-02  1.54269072e-02\n",
      "  2.55028449e-06 -1.73975163e-02 -1.27265348e-01 -8.18922123e-02\n",
      " -9.01839426e-02  5.84809237e-02  1.17713299e-01  2.83679899e-02]\n",
      "9 [-4.39124806e-17  2.48607305e-02  4.78813220e-03 -2.21519184e-01\n",
      "  3.01989353e-02  2.19180021e-01  1.16695714e-01  1.80996395e-02\n",
      " -1.40919676e-05  4.84043006e-03 -2.62639792e-01 -1.65050675e-01\n",
      " -4.18593569e-02 -1.80650895e-02  1.02183043e-01  1.58538788e-02\n",
      "  1.17189800e-04 -7.43465356e-02 -3.54603796e-01  7.13590081e-02\n",
      " -6.19393757e-02 -2.09806313e-01  5.20570650e-02  3.38072541e-03\n",
      " -5.54418966e-05 -7.20405933e-02 -1.47577877e-01  2.40208717e-02\n",
      " -2.83666656e-01 -2.12161860e-01  6.34005100e-02  4.87842826e-05\n",
      " -0.00000000e+00 -2.66318733e-02 -2.48462544e-02 -1.65576127e-01\n",
      " -3.65387361e-01 -2.63652146e-01 -3.67031024e-02 -0.00000000e+00\n",
      "  1.05338168e-03  4.22352702e-02 -1.72497592e-04 -9.12076406e-02\n",
      " -1.24688673e-01 -2.08983939e-01 -5.79761868e-02 -1.36389483e-03\n",
      "  1.69679304e-03  4.52635040e-02  3.65770325e-02 -1.73052805e-01\n",
      " -1.24942025e-01 -1.31382268e-01 -5.94265810e-02 -1.32230226e-03\n",
      "  8.93797254e-05  2.47992354e-02  2.90008044e-02 -2.26466677e-01\n",
      " -6.07461648e-02  3.47099359e-02  3.46862490e-02 -2.94529814e-03]\n"
     ]
    }
   ],
   "source": [
    "for i,comp in enumerate(pca.components_):\n",
    "    print(i,comp)"
   ]
  },
  {
   "cell_type": "code",
   "execution_count": 48,
   "metadata": {},
   "outputs": [
    {
     "data": {
      "image/png": "[encoded data removed]",
      "text/plain": [
       "<Figure size 720x325.44 with 10 Axes>"
      ]
     },
     "metadata": {},
     "output_type": "display_data"
    }
   ],
   "source": [
    "#comp为（64，）类型的数组，可转成（8,8）,pca.components_对应images中的前10个图，每个图也是（8,8）\n",
    "n_row, n_col = 2, 5\n",
    "n_components=10 \n",
    "def print_pca_components(images, n_col, n_row):\n",
    "    plt.figure(figsize=(2. * n_col, 2.26 * n_row))\n",
    "    for i, comp in enumerate(images):   \n",
    "        plt.subplot(n_row, n_col, i + 1)\n",
    "        plt.imshow(comp.reshape((8, 8)), interpolation='nearest')  \n",
    "        plt.text(0, -1, str(i + 1) + '-component')\n",
    "        plt.xticks(())\n",
    "        plt.yticks(())      \n",
    "print_pca_components(pca.components_, n_col, n_row)"
   ]
  },
  {
   "cell_type": "code",
   "execution_count": null,
   "metadata": {},
   "outputs": [],
   "source": []
  }
 ],
 "metadata": {
  "kernelspec": {
   "display_name": "Python 3",
   "language": "python",
   "name": "python3"
  },
  "language_info": {
   "codemirror_mode": {
    "name": "ipython",
    "version": 3
   },
   "file_extension": ".py",
   "mimetype": "text/x-python",
   "name": "python",
   "nbconvert_exporter": "python",
   "pygments_lexer": "ipython3",
   "version": "3.7.3"
  },
  "toc": {
   "base_numbering": 1,
   "nav_menu": {},
   "number_sections": true,
   "sideBar": true,
   "skip_h1_title": false,
   "title_cell": "Table of Contents",
   "title_sidebar": "Contents",
   "toc_cell": false,
   "toc_position": {
    "height": "calc(100% - 180px)",
    "left": "10px",
    "top": "150px",
    "width": "303.542px"
   },
   "toc_section_display": true,
   "toc_window_display": true
  }
 },
 "nbformat": 4,
 "nbformat_minor": 2
}
