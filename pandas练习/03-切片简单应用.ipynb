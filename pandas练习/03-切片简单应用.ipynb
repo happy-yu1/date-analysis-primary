{
 "cells": [
  {
   "cell_type": "code",
   "execution_count": 2,
   "metadata": {},
   "outputs": [],
   "source": [
    "import tushare as ts\n",
    "import numpy as np\n",
    "import pandas as pd\n",
    "import matplotlib.pyplot as plt"
   ]
  },
  {
   "cell_type": "code",
   "execution_count": 4,
   "metadata": {},
   "outputs": [
    {
     "data": {
      "text/html": [
       "<div>\n",
       "<style scoped>\n",
       "    .dataframe tbody tr th:only-of-type {\n",
       "        vertical-align: middle;\n",
       "    }\n",
       "\n",
       "    .dataframe tbody tr th {\n",
       "        vertical-align: top;\n",
       "    }\n",
       "\n",
       "    .dataframe thead th {\n",
       "        text-align: right;\n",
       "    }\n",
       "</style>\n",
       "<table border=\"1\" class=\"dataframe\">\n",
       "  <thead>\n",
       "    <tr style=\"text-align: right;\">\n",
       "      <th></th>\n",
       "      <th>year</th>\n",
       "      <th>gdp</th>\n",
       "      <th>pc_gdp</th>\n",
       "      <th>gnp</th>\n",
       "      <th>pi</th>\n",
       "      <th>si</th>\n",
       "      <th>industry</th>\n",
       "      <th>cons_industry</th>\n",
       "      <th>ti</th>\n",
       "      <th>trans_industry</th>\n",
       "      <th>lbdy</th>\n",
       "    </tr>\n",
       "  </thead>\n",
       "  <tbody>\n",
       "    <tr>\n",
       "      <th>0</th>\n",
       "      <td>2018</td>\n",
       "      <td>919281.0</td>\n",
       "      <td>64644.0</td>\n",
       "      <td>NaN</td>\n",
       "      <td>64745.0</td>\n",
       "      <td>364835.0</td>\n",
       "      <td>305160.2</td>\n",
       "      <td>61808.0</td>\n",
       "      <td>489701.0</td>\n",
       "      <td>40550.2</td>\n",
       "      <td>100223.8</td>\n",
       "    </tr>\n",
       "    <tr>\n",
       "      <th>1</th>\n",
       "      <td>2017</td>\n",
       "      <td>820754.3</td>\n",
       "      <td>59201.0</td>\n",
       "      <td>NaN</td>\n",
       "      <td>62099.5</td>\n",
       "      <td>332742.7</td>\n",
       "      <td>278328.2</td>\n",
       "      <td>55313.8</td>\n",
       "      <td>425912.1</td>\n",
       "      <td>37172.6</td>\n",
       "      <td>92348.2</td>\n",
       "    </tr>\n",
       "    <tr>\n",
       "      <th>2</th>\n",
       "      <td>2016</td>\n",
       "      <td>740060.8</td>\n",
       "      <td>53680.0</td>\n",
       "      <td>NaN</td>\n",
       "      <td>60139.2</td>\n",
       "      <td>296547.7</td>\n",
       "      <td>247877.7</td>\n",
       "      <td>49702.9</td>\n",
       "      <td>383373.9</td>\n",
       "      <td>33058.8</td>\n",
       "      <td>84648.8</td>\n",
       "    </tr>\n",
       "    <tr>\n",
       "      <th>3</th>\n",
       "      <td>2015</td>\n",
       "      <td>685992.9</td>\n",
       "      <td>50028.0</td>\n",
       "      <td>NaN</td>\n",
       "      <td>57774.6</td>\n",
       "      <td>282040.3</td>\n",
       "      <td>236506.3</td>\n",
       "      <td>46626.7</td>\n",
       "      <td>346178.0</td>\n",
       "      <td>30487.8</td>\n",
       "      <td>78340.4</td>\n",
       "    </tr>\n",
       "    <tr>\n",
       "      <th>4</th>\n",
       "      <td>2014</td>\n",
       "      <td>641280.6</td>\n",
       "      <td>47005.0</td>\n",
       "      <td>NaN</td>\n",
       "      <td>55626.3</td>\n",
       "      <td>277571.8</td>\n",
       "      <td>233856.4</td>\n",
       "      <td>44880.5</td>\n",
       "      <td>308082.5</td>\n",
       "      <td>28500.9</td>\n",
       "      <td>73582.0</td>\n",
       "    </tr>\n",
       "  </tbody>\n",
       "</table>\n",
       "</div>"
      ],
      "text/plain": [
       "   year       gdp   pc_gdp  gnp       pi        si  industry  cons_industry  \\\n",
       "0  2018  919281.0  64644.0  NaN  64745.0  364835.0  305160.2        61808.0   \n",
       "1  2017  820754.3  59201.0  NaN  62099.5  332742.7  278328.2        55313.8   \n",
       "2  2016  740060.8  53680.0  NaN  60139.2  296547.7  247877.7        49702.9   \n",
       "3  2015  685992.9  50028.0  NaN  57774.6  282040.3  236506.3        46626.7   \n",
       "4  2014  641280.6  47005.0  NaN  55626.3  277571.8  233856.4        44880.5   \n",
       "\n",
       "         ti  trans_industry      lbdy  \n",
       "0  489701.0         40550.2  100223.8  \n",
       "1  425912.1         37172.6   92348.2  \n",
       "2  383373.9         33058.8   84648.8  \n",
       "3  346178.0         30487.8   78340.4  \n",
       "4  308082.5         28500.9   73582.0  "
      ]
     },
     "execution_count": 4,
     "metadata": {},
     "output_type": "execute_result"
    }
   ],
   "source": [
    "pro=ts.get_gdp_year()\n",
    "t=pro.head()\n",
    "t"
   ]
  },
  {
   "cell_type": "code",
   "execution_count": 5,
   "metadata": {},
   "outputs": [
    {
     "data": {
      "text/plain": [
       "pandas.core.frame.DataFrame"
      ]
     },
     "execution_count": 5,
     "metadata": {},
     "output_type": "execute_result"
    }
   ],
   "source": [
    "type(t)"
   ]
  },
  {
   "cell_type": "code",
   "execution_count": 6,
   "metadata": {},
   "outputs": [
    {
     "data": {
      "text/html": [
       "<div>\n",
       "<style scoped>\n",
       "    .dataframe tbody tr th:only-of-type {\n",
       "        vertical-align: middle;\n",
       "    }\n",
       "\n",
       "    .dataframe tbody tr th {\n",
       "        vertical-align: top;\n",
       "    }\n",
       "\n",
       "    .dataframe thead th {\n",
       "        text-align: right;\n",
       "    }\n",
       "</style>\n",
       "<table border=\"1\" class=\"dataframe\">\n",
       "  <thead>\n",
       "    <tr style=\"text-align: right;\">\n",
       "      <th></th>\n",
       "      <th>year</th>\n",
       "      <th>gdp</th>\n",
       "      <th>pc_gdp</th>\n",
       "      <th>gnp</th>\n",
       "      <th>pi</th>\n",
       "      <th>si</th>\n",
       "      <th>industry</th>\n",
       "      <th>cons_industry</th>\n",
       "      <th>ti</th>\n",
       "      <th>trans_industry</th>\n",
       "      <th>lbdy</th>\n",
       "    </tr>\n",
       "  </thead>\n",
       "  <tbody>\n",
       "    <tr>\n",
       "      <th>1</th>\n",
       "      <td>2017</td>\n",
       "      <td>820754.3</td>\n",
       "      <td>59201.0</td>\n",
       "      <td>NaN</td>\n",
       "      <td>62099.5</td>\n",
       "      <td>332742.7</td>\n",
       "      <td>278328.2</td>\n",
       "      <td>55313.8</td>\n",
       "      <td>425912.1</td>\n",
       "      <td>37172.6</td>\n",
       "      <td>92348.2</td>\n",
       "    </tr>\n",
       "    <tr>\n",
       "      <th>2</th>\n",
       "      <td>2016</td>\n",
       "      <td>740060.8</td>\n",
       "      <td>53680.0</td>\n",
       "      <td>NaN</td>\n",
       "      <td>60139.2</td>\n",
       "      <td>296547.7</td>\n",
       "      <td>247877.7</td>\n",
       "      <td>49702.9</td>\n",
       "      <td>383373.9</td>\n",
       "      <td>33058.8</td>\n",
       "      <td>84648.8</td>\n",
       "    </tr>\n",
       "  </tbody>\n",
       "</table>\n",
       "</div>"
      ],
      "text/plain": [
       "   year       gdp   pc_gdp  gnp       pi        si  industry  cons_industry  \\\n",
       "1  2017  820754.3  59201.0  NaN  62099.5  332742.7  278328.2        55313.8   \n",
       "2  2016  740060.8  53680.0  NaN  60139.2  296547.7  247877.7        49702.9   \n",
       "\n",
       "         ti  trans_industry     lbdy  \n",
       "1  425912.1         37172.6  92348.2  \n",
       "2  383373.9         33058.8  84648.8  "
      ]
     },
     "execution_count": 6,
     "metadata": {},
     "output_type": "execute_result"
    }
   ],
   "source": [
    "t[1:3]   #只能通过行索引，获得行，其中1,3为索引"
   ]
  },
  {
   "cell_type": "code",
   "execution_count": 7,
   "metadata": {},
   "outputs": [
    {
     "data": {
      "text/html": [
       "<div>\n",
       "<style scoped>\n",
       "    .dataframe tbody tr th:only-of-type {\n",
       "        vertical-align: middle;\n",
       "    }\n",
       "\n",
       "    .dataframe tbody tr th {\n",
       "        vertical-align: top;\n",
       "    }\n",
       "\n",
       "    .dataframe thead th {\n",
       "        text-align: right;\n",
       "    }\n",
       "</style>\n",
       "<table border=\"1\" class=\"dataframe\">\n",
       "  <thead>\n",
       "    <tr style=\"text-align: right;\">\n",
       "      <th></th>\n",
       "      <th>year</th>\n",
       "      <th>gdp</th>\n",
       "      <th>pc_gdp</th>\n",
       "      <th>gnp</th>\n",
       "      <th>pi</th>\n",
       "      <th>si</th>\n",
       "      <th>industry</th>\n",
       "      <th>cons_industry</th>\n",
       "      <th>ti</th>\n",
       "      <th>trans_industry</th>\n",
       "      <th>lbdy</th>\n",
       "    </tr>\n",
       "  </thead>\n",
       "  <tbody>\n",
       "    <tr>\n",
       "      <th>1</th>\n",
       "      <td>2017</td>\n",
       "      <td>820754.3</td>\n",
       "      <td>59201.0</td>\n",
       "      <td>NaN</td>\n",
       "      <td>62099.5</td>\n",
       "      <td>332742.7</td>\n",
       "      <td>278328.2</td>\n",
       "      <td>55313.8</td>\n",
       "      <td>425912.1</td>\n",
       "      <td>37172.6</td>\n",
       "      <td>92348.2</td>\n",
       "    </tr>\n",
       "    <tr>\n",
       "      <th>2</th>\n",
       "      <td>2016</td>\n",
       "      <td>740060.8</td>\n",
       "      <td>53680.0</td>\n",
       "      <td>NaN</td>\n",
       "      <td>60139.2</td>\n",
       "      <td>296547.7</td>\n",
       "      <td>247877.7</td>\n",
       "      <td>49702.9</td>\n",
       "      <td>383373.9</td>\n",
       "      <td>33058.8</td>\n",
       "      <td>84648.8</td>\n",
       "    </tr>\n",
       "    <tr>\n",
       "      <th>3</th>\n",
       "      <td>2015</td>\n",
       "      <td>685992.9</td>\n",
       "      <td>50028.0</td>\n",
       "      <td>NaN</td>\n",
       "      <td>57774.6</td>\n",
       "      <td>282040.3</td>\n",
       "      <td>236506.3</td>\n",
       "      <td>46626.7</td>\n",
       "      <td>346178.0</td>\n",
       "      <td>30487.8</td>\n",
       "      <td>78340.4</td>\n",
       "    </tr>\n",
       "  </tbody>\n",
       "</table>\n",
       "</div>"
      ],
      "text/plain": [
       "   year       gdp   pc_gdp  gnp       pi        si  industry  cons_industry  \\\n",
       "1  2017  820754.3  59201.0  NaN  62099.5  332742.7  278328.2        55313.8   \n",
       "2  2016  740060.8  53680.0  NaN  60139.2  296547.7  247877.7        49702.9   \n",
       "3  2015  685992.9  50028.0  NaN  57774.6  282040.3  236506.3        46626.7   \n",
       "\n",
       "         ti  trans_industry     lbdy  \n",
       "1  425912.1         37172.6  92348.2  \n",
       "2  383373.9         33058.8  84648.8  \n",
       "3  346178.0         30487.8  78340.4  "
      ]
     },
     "execution_count": 7,
     "metadata": {},
     "output_type": "execute_result"
    }
   ],
   "source": [
    "t.loc[1:3]  #通过标签获得行或者列，其中1,3为行标签"
   ]
  },
  {
   "cell_type": "code",
   "execution_count": 16,
   "metadata": {},
   "outputs": [
    {
     "data": {
      "text/html": [
       "<div>\n",
       "<style scoped>\n",
       "    .dataframe tbody tr th:only-of-type {\n",
       "        vertical-align: middle;\n",
       "    }\n",
       "\n",
       "    .dataframe tbody tr th {\n",
       "        vertical-align: top;\n",
       "    }\n",
       "\n",
       "    .dataframe thead th {\n",
       "        text-align: right;\n",
       "    }\n",
       "</style>\n",
       "<table border=\"1\" class=\"dataframe\">\n",
       "  <thead>\n",
       "    <tr style=\"text-align: right;\">\n",
       "      <th></th>\n",
       "      <th>pi</th>\n",
       "      <th>si</th>\n",
       "      <th>ti</th>\n",
       "    </tr>\n",
       "  </thead>\n",
       "  <tbody>\n",
       "    <tr>\n",
       "      <th>1</th>\n",
       "      <td>62099.5</td>\n",
       "      <td>332742.7</td>\n",
       "      <td>425912.1</td>\n",
       "    </tr>\n",
       "    <tr>\n",
       "      <th>3</th>\n",
       "      <td>57774.6</td>\n",
       "      <td>282040.3</td>\n",
       "      <td>346178.0</td>\n",
       "    </tr>\n",
       "  </tbody>\n",
       "</table>\n",
       "</div>"
      ],
      "text/plain": [
       "        pi        si        ti\n",
       "1  62099.5  332742.7  425912.1\n",
       "3  57774.6  282040.3  346178.0"
      ]
     },
     "execution_count": 16,
     "metadata": {},
     "output_type": "execute_result"
    }
   ],
   "source": [
    "t.loc[[1,3],['pi','si','ti']]"
   ]
  },
  {
   "cell_type": "code",
   "execution_count": 22,
   "metadata": {},
   "outputs": [
    {
     "data": {
      "text/html": [
       "<div>\n",
       "<style scoped>\n",
       "    .dataframe tbody tr th:only-of-type {\n",
       "        vertical-align: middle;\n",
       "    }\n",
       "\n",
       "    .dataframe tbody tr th {\n",
       "        vertical-align: top;\n",
       "    }\n",
       "\n",
       "    .dataframe thead th {\n",
       "        text-align: right;\n",
       "    }\n",
       "</style>\n",
       "<table border=\"1\" class=\"dataframe\">\n",
       "  <thead>\n",
       "    <tr style=\"text-align: right;\">\n",
       "      <th></th>\n",
       "      <th>pi</th>\n",
       "      <th>si</th>\n",
       "    </tr>\n",
       "  </thead>\n",
       "  <tbody>\n",
       "    <tr>\n",
       "      <th>1</th>\n",
       "      <td>62099.5</td>\n",
       "      <td>332742.7</td>\n",
       "    </tr>\n",
       "    <tr>\n",
       "      <th>2</th>\n",
       "      <td>60139.2</td>\n",
       "      <td>296547.7</td>\n",
       "    </tr>\n",
       "    <tr>\n",
       "      <th>3</th>\n",
       "      <td>57774.6</td>\n",
       "      <td>282040.3</td>\n",
       "    </tr>\n",
       "    <tr>\n",
       "      <th>4</th>\n",
       "      <td>55626.3</td>\n",
       "      <td>277571.8</td>\n",
       "    </tr>\n",
       "  </tbody>\n",
       "</table>\n",
       "</div>"
      ],
      "text/plain": [
       "        pi        si\n",
       "1  62099.5  332742.7\n",
       "2  60139.2  296547.7\n",
       "3  57774.6  282040.3\n",
       "4  55626.3  277571.8"
      ]
     },
     "execution_count": 22,
     "metadata": {},
     "output_type": "execute_result"
    }
   ],
   "source": [
    "t.loc[1:,['pi','si']]"
   ]
  },
  {
   "cell_type": "code",
   "execution_count": 26,
   "metadata": {},
   "outputs": [
    {
     "data": {
      "text/html": [
       "<div>\n",
       "<style scoped>\n",
       "    .dataframe tbody tr th:only-of-type {\n",
       "        vertical-align: middle;\n",
       "    }\n",
       "\n",
       "    .dataframe tbody tr th {\n",
       "        vertical-align: top;\n",
       "    }\n",
       "\n",
       "    .dataframe thead th {\n",
       "        text-align: right;\n",
       "    }\n",
       "</style>\n",
       "<table border=\"1\" class=\"dataframe\">\n",
       "  <thead>\n",
       "    <tr style=\"text-align: right;\">\n",
       "      <th></th>\n",
       "      <th>pi</th>\n",
       "      <th>si</th>\n",
       "    </tr>\n",
       "  </thead>\n",
       "  <tbody>\n",
       "    <tr>\n",
       "      <th>1</th>\n",
       "      <td>62099.5</td>\n",
       "      <td>332742.7</td>\n",
       "    </tr>\n",
       "    <tr>\n",
       "      <th>2</th>\n",
       "      <td>60139.2</td>\n",
       "      <td>296547.7</td>\n",
       "    </tr>\n",
       "  </tbody>\n",
       "</table>\n",
       "</div>"
      ],
      "text/plain": [
       "        pi        si\n",
       "1  62099.5  332742.7\n",
       "2  60139.2  296547.7"
      ]
     },
     "execution_count": 26,
     "metadata": {},
     "output_type": "execute_result"
    }
   ],
   "source": [
    "t[1:3][['pi','si']]"
   ]
  },
  {
   "cell_type": "markdown",
   "metadata": {},
   "source": [
    "### 无论是loc还是iloc均不可以通过  [ [x:y],['a','n'] ]的方式进行连续行、列的切片"
   ]
  },
  {
   "cell_type": "code",
   "execution_count": 28,
   "metadata": {},
   "outputs": [
    {
     "ename": "SyntaxError",
     "evalue": "invalid syntax (<ipython-input-28-72fb1d53bc5d>, line 1)",
     "output_type": "error",
     "traceback": [
      "\u001b[1;36m  File \u001b[1;32m\"<ipython-input-28-72fb1d53bc5d>\"\u001b[1;36m, line \u001b[1;32m1\u001b[0m\n\u001b[1;33m    t.loc[[1:3]][['pi','si']]\u001b[0m\n\u001b[1;37m            ^\u001b[0m\n\u001b[1;31mSyntaxError\u001b[0m\u001b[1;31m:\u001b[0m invalid syntax\n"
     ]
    }
   ],
   "source": [
    "t.loc[[1:3]][['pi','si']]  "
   ]
  },
  {
   "cell_type": "code",
   "execution_count": 35,
   "metadata": {},
   "outputs": [
    {
     "data": {
      "text/html": [
       "<div>\n",
       "<style scoped>\n",
       "    .dataframe tbody tr th:only-of-type {\n",
       "        vertical-align: middle;\n",
       "    }\n",
       "\n",
       "    .dataframe tbody tr th {\n",
       "        vertical-align: top;\n",
       "    }\n",
       "\n",
       "    .dataframe thead th {\n",
       "        text-align: right;\n",
       "    }\n",
       "</style>\n",
       "<table border=\"1\" class=\"dataframe\">\n",
       "  <thead>\n",
       "    <tr style=\"text-align: right;\">\n",
       "      <th></th>\n",
       "      <th>gdp</th>\n",
       "      <th>gnp</th>\n",
       "    </tr>\n",
       "  </thead>\n",
       "  <tbody>\n",
       "    <tr>\n",
       "      <th>2</th>\n",
       "      <td>740060.8</td>\n",
       "      <td>NaN</td>\n",
       "    </tr>\n",
       "    <tr>\n",
       "      <th>3</th>\n",
       "      <td>685992.9</td>\n",
       "      <td>NaN</td>\n",
       "    </tr>\n",
       "    <tr>\n",
       "      <th>4</th>\n",
       "      <td>641280.6</td>\n",
       "      <td>NaN</td>\n",
       "    </tr>\n",
       "  </tbody>\n",
       "</table>\n",
       "</div>"
      ],
      "text/plain": [
       "        gdp  gnp\n",
       "2  740060.8  NaN\n",
       "3  685992.9  NaN\n",
       "4  641280.6  NaN"
      ]
     },
     "execution_count": 35,
     "metadata": {},
     "output_type": "execute_result"
    }
   ],
   "source": [
    "t.iloc[2:,[1,3]]"
   ]
  },
  {
   "cell_type": "code",
   "execution_count": 36,
   "metadata": {},
   "outputs": [
    {
     "data": {
      "text/html": [
       "<div>\n",
       "<style scoped>\n",
       "    .dataframe tbody tr th:only-of-type {\n",
       "        vertical-align: middle;\n",
       "    }\n",
       "\n",
       "    .dataframe tbody tr th {\n",
       "        vertical-align: top;\n",
       "    }\n",
       "\n",
       "    .dataframe thead th {\n",
       "        text-align: right;\n",
       "    }\n",
       "</style>\n",
       "<table border=\"1\" class=\"dataframe\">\n",
       "  <thead>\n",
       "    <tr style=\"text-align: right;\">\n",
       "      <th></th>\n",
       "      <th>year</th>\n",
       "      <th>gdp</th>\n",
       "      <th>pc_gdp</th>\n",
       "      <th>gnp</th>\n",
       "      <th>pi</th>\n",
       "      <th>si</th>\n",
       "      <th>industry</th>\n",
       "      <th>cons_industry</th>\n",
       "      <th>ti</th>\n",
       "      <th>trans_industry</th>\n",
       "      <th>lbdy</th>\n",
       "    </tr>\n",
       "  </thead>\n",
       "  <tbody>\n",
       "    <tr>\n",
       "      <th>2</th>\n",
       "      <td>2016</td>\n",
       "      <td>740060.8</td>\n",
       "      <td>53680.0</td>\n",
       "      <td>NaN</td>\n",
       "      <td>60139.2</td>\n",
       "      <td>296547.7</td>\n",
       "      <td>247877.7</td>\n",
       "      <td>49702.9</td>\n",
       "      <td>383373.9</td>\n",
       "      <td>33058.8</td>\n",
       "      <td>84648.8</td>\n",
       "    </tr>\n",
       "    <tr>\n",
       "      <th>3</th>\n",
       "      <td>2015</td>\n",
       "      <td>685992.9</td>\n",
       "      <td>50028.0</td>\n",
       "      <td>NaN</td>\n",
       "      <td>57774.6</td>\n",
       "      <td>282040.3</td>\n",
       "      <td>236506.3</td>\n",
       "      <td>46626.7</td>\n",
       "      <td>346178.0</td>\n",
       "      <td>30487.8</td>\n",
       "      <td>78340.4</td>\n",
       "    </tr>\n",
       "  </tbody>\n",
       "</table>\n",
       "</div>"
      ],
      "text/plain": [
       "   year       gdp   pc_gdp  gnp       pi        si  industry  cons_industry  \\\n",
       "2  2016  740060.8  53680.0  NaN  60139.2  296547.7  247877.7        49702.9   \n",
       "3  2015  685992.9  50028.0  NaN  57774.6  282040.3  236506.3        46626.7   \n",
       "\n",
       "         ti  trans_industry     lbdy  \n",
       "2  383373.9         33058.8  84648.8  \n",
       "3  346178.0         30487.8  78340.4  "
      ]
     },
     "execution_count": 36,
     "metadata": {},
     "output_type": "execute_result"
    }
   ],
   "source": [
    "t.iloc[2:4]"
   ]
  },
  {
   "cell_type": "code",
   "execution_count": null,
   "metadata": {},
   "outputs": [],
   "source": []
  }
 ],
 "metadata": {
  "kernelspec": {
   "display_name": "Python 3",
   "language": "python",
   "name": "python3"
  },
  "language_info": {
   "codemirror_mode": {
    "name": "ipython",
    "version": 3
   },
   "file_extension": ".py",
   "mimetype": "text/x-python",
   "name": "python",
   "nbconvert_exporter": "python",
   "pygments_lexer": "ipython3",
   "version": "3.7.3"
  }
 },
 "nbformat": 4,
 "nbformat_minor": 2
}
