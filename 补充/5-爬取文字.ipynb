{
 "cells": [
  {
   "cell_type": "markdown",
   "metadata": {},
   "source": [
    "爬取红海行动的电影短评"
   ]
  },
  {
   "cell_type": "code",
   "execution_count": 61,
   "metadata": {},
   "outputs": [],
   "source": [
    "import requests\n",
    "from bs4 import BeautifulSoup as bs\n",
    "import re\n",
    "import pandas as pd\n",
    "import numpy as np"
   ]
  },
  {
   "cell_type": "markdown",
   "metadata": {},
   "source": [
    "# 单页信息爬取"
   ]
  },
  {
   "cell_type": "markdown",
   "metadata": {},
   "source": [
    "## 请求与响应"
   ]
  },
  {
   "cell_type": "code",
   "execution_count": 62,
   "metadata": {},
   "outputs": [],
   "source": [
    "url='https://movie.douban.com/subject/26861685/comments'\n",
    "header={'User-Agent':'Mozilla/5.0 (Windows NT 6.1; Win64; x64) AppleWebKit/537.36 (KHTML, like Gecko) Chrome/78.0.3904.70 Safari/537.36'}\n",
    "res=requests.get(url,headers=header)\n",
    "html=res.text   "
   ]
  },
  {
   "cell_type": "markdown",
   "metadata": {},
   "source": [
    "目标内容所在位置\n",
    "\n",
    "<span class=\"short\">本来对这类电影不感兴趣，陪着男朋友去看的，很意外，还不错，一部很燃的片子，俩个多小时的电影，至少一个半小时的高潮，全程无尿点，据说是根据真实事件改编的，海陆空作战，超级帅。算是春节档电影的一股清流，大家真的要感受一下中国军人的风采，只想说威武！！佟莉炸飞机还有狙击手对战那段太帅了</span>"
   ]
  },
  {
   "cell_type": "markdown",
   "metadata": {},
   "source": [
    "## 解析并提取目标标签"
   ]
  },
  {
   "cell_type": "code",
   "execution_count": 63,
   "metadata": {},
   "outputs": [
    {
     "data": {
      "text/plain": [
       "[<span class=\"short\">春节档最好！最好不是战狼而是战争，有点类似黑鹰坠落，主旋律色彩下，真实又残酷的战争渲染。故事性不强，文戏不超20分钟，从头打到尾，林超贤场面调度极佳，巷战、偷袭、突击有条不紊，军械武器展示效果不错。尺度超大，钢锯岭式血肉横飞，还给你看特写！敌人如丧尸一般打不完，双方的狙击手都是亮点</span>,\n",
       " <span class=\"short\">国产类型片的里程碑，2个多小时节奏全程紧绷清晰，真热血真刺激。叙事，人物，情感，动作，制作都几乎无可挑剔。该有的都有，演员群像都比想象中出色，但最出色的还是导演。这个格局，超越某狼N倍。</span>,\n",
       " <span class=\"short\">本来对这类电影不感兴趣，陪着男朋友去看的，很意外，还不错，一部很燃的片子，俩个多小时的电影，至少一个半小时的高潮，全程无尿点，据说是根据真实事件改编的，海陆空作战，超级帅。算是春节档电影的一股清流，大家真的要感受一下中国军人的风采，只想说威武！！佟莉炸飞机还有狙击手对战那段太帅了</span>]"
      ]
     },
     "execution_count": 63,
     "metadata": {},
     "output_type": "execute_result"
    }
   ],
   "source": [
    "soup=bs(html,'lxml')\n",
    "pattern=soup.find_all('span',attrs={'class':\"short\"})\n",
    "pattern[:3]"
   ]
  },
  {
   "cell_type": "markdown",
   "metadata": {},
   "source": [
    "## 从目标标签中获得文本信息"
   ]
  },
  {
   "cell_type": "code",
   "execution_count": 64,
   "metadata": {},
   "outputs": [
    {
     "data": {
      "text/plain": [
       "20"
      ]
     },
     "execution_count": 64,
     "metadata": {},
     "output_type": "execute_result"
    }
   ],
   "source": [
    "texts=[]\n",
    "for i in pattern:\n",
    "    content=i.text\n",
    "    texts.append(content)\n",
    "len(texts)"
   ]
  },
  {
   "cell_type": "markdown",
   "metadata": {},
   "source": [
    "## 利用pandas进行数据存储"
   ]
  },
  {
   "cell_type": "code",
   "execution_count": 65,
   "metadata": {},
   "outputs": [
    {
     "data": {
      "text/html": [
       "<div>\n",
       "<style scoped>\n",
       "    .dataframe tbody tr th:only-of-type {\n",
       "        vertical-align: middle;\n",
       "    }\n",
       "\n",
       "    .dataframe tbody tr th {\n",
       "        vertical-align: top;\n",
       "    }\n",
       "\n",
       "    .dataframe thead th {\n",
       "        text-align: right;\n",
       "    }\n",
       "</style>\n",
       "<table border=\"1\" class=\"dataframe\">\n",
       "  <thead>\n",
       "    <tr style=\"text-align: right;\">\n",
       "      <th></th>\n",
       "      <th>短评内容</th>\n",
       "    </tr>\n",
       "  </thead>\n",
       "  <tbody>\n",
       "    <tr>\n",
       "      <th>0</th>\n",
       "      <td>春节档最好！最好不是战狼而是战争，有点类似黑鹰坠落，主旋律色彩下，真实又残酷的战争渲染。故事...</td>\n",
       "    </tr>\n",
       "    <tr>\n",
       "      <th>1</th>\n",
       "      <td>国产类型片的里程碑，2个多小时节奏全程紧绷清晰，真热血真刺激。叙事，人物，情感，动作，制作都...</td>\n",
       "    </tr>\n",
       "    <tr>\n",
       "      <th>2</th>\n",
       "      <td>本来对这类电影不感兴趣，陪着男朋友去看的，很意外，还不错，一部很燃的片子，俩个多小时的电影，...</td>\n",
       "    </tr>\n",
       "  </tbody>\n",
       "</table>\n",
       "</div>"
      ],
      "text/plain": [
       "                                                短评内容\n",
       "0  春节档最好！最好不是战狼而是战争，有点类似黑鹰坠落，主旋律色彩下，真实又残酷的战争渲染。故事...\n",
       "1  国产类型片的里程碑，2个多小时节奏全程紧绷清晰，真热血真刺激。叙事，人物，情感，动作，制作都...\n",
       "2  本来对这类电影不感兴趣，陪着男朋友去看的，很意外，还不错，一部很燃的片子，俩个多小时的电影，..."
      ]
     },
     "execution_count": 65,
     "metadata": {},
     "output_type": "execute_result"
    }
   ],
   "source": [
    "df=pd.DataFrame()\n",
    "df['短评内容']=texts  #添加内容\n",
    "df.head(3)"
   ]
  },
  {
   "cell_type": "markdown",
   "metadata": {},
   "source": [
    "## 保存到excel中"
   ]
  },
  {
   "cell_type": "code",
   "execution_count": 66,
   "metadata": {},
   "outputs": [],
   "source": [
    "df.to_excel('a.xlsx',sheet_name='short_comment1')"
   ]
  },
  {
   "cell_type": "markdown",
   "metadata": {},
   "source": [
    "# 多页爬取\n",
    "https://movie.douban.com/subject/26861685/comments?start=0&limit=20&sort=new_score&status=P\n",
    "\n",
    "https://movie.douban.com/subject/26861685/comments?start=20&limit=20&sort=new_score&status=P\n",
    "\n",
    "https://movie.douban.com/subject/26861685/comments?start=40&limit=20&sort=new_score&status=P"
   ]
  },
  {
   "cell_type": "code",
   "execution_count": 68,
   "metadata": {},
   "outputs": [],
   "source": [
    "basic_url='https://movie.douban.com/subject/26861685/comments?start={}&limit=20&sort=new_score&status=P'\n",
    "all_text=[]\n",
    "for i in range(0,60,20):\n",
    "    url=basic_url.format(i)\n",
    "    header={'User-Agent':'Mozilla/5.0 (Windows NT 6.1; Win64; x64) AppleWebKit/537.36 (KHTML, like Gecko) Chrome/78.0.3904.70 Safari/537.36'}\n",
    "    res=requests.get(url,headers=header)\n",
    "    html=res.text\n",
    "\n",
    "    soup=bs(html,'lxml')\n",
    "    tags=soup.find_all('span',attrs={'class':\"short\"})\n",
    "    \n",
    "    for i in tags:\n",
    "        content=i.text\n",
    "        all_text.append(content)"
   ]
  },
  {
   "cell_type": "code",
   "execution_count": 69,
   "metadata": {},
   "outputs": [],
   "source": [
    "df=pd.DataFrame()\n",
    "df['短评内容']=all_text\n",
    "df.to_excel('a.xlsx',sheet_name='short_comment2')\n",
    "    "
   ]
  },
  {
   "cell_type": "code",
   "execution_count": null,
   "metadata": {},
   "outputs": [],
   "source": []
  }
 ],
 "metadata": {
  "kernelspec": {
   "display_name": "Python 3",
   "language": "python",
   "name": "python3"
  },
  "language_info": {
   "codemirror_mode": {
    "name": "ipython",
    "version": 3
   },
   "file_extension": ".py",
   "mimetype": "text/x-python",
   "name": "python",
   "nbconvert_exporter": "python",
   "pygments_lexer": "ipython3",
   "version": "3.7.3"
  },
  "toc": {
   "base_numbering": 1,
   "nav_menu": {},
   "number_sections": true,
   "sideBar": true,
   "skip_h1_title": false,
   "title_cell": "Table of Contents",
   "title_sidebar": "Contents",
   "toc_cell": false,
   "toc_position": {},
   "toc_section_display": true,
   "toc_window_display": true
  }
 },
 "nbformat": 4,
 "nbformat_minor": 2
}
