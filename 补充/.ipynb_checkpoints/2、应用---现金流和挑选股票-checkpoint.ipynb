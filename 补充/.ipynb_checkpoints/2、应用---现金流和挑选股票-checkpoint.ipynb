{
 "cells": [
  {
   "cell_type": "markdown",
   "metadata": {},
   "source": [
    "# 求现金流"
   ]
  },
  {
   "cell_type": "markdown",
   "metadata": {},
   "source": [
    "## 固定收益的现金流\n",
    "假设有10年，每年固定收益是1000元，利率为0.05"
   ]
  },
  {
   "cell_type": "code",
   "execution_count": 1,
   "metadata": {},
   "outputs": [
    {
     "name": "stdout",
     "output_type": "stream",
     "text": [
      "7721.734929184811\n"
     ]
    }
   ],
   "source": [
    "total=0\n",
    "for i in range(10):\n",
    "    cashflow=1000/(1+0.05)**(i+1)\n",
    "    total+=cashflow\n",
    "print(total)"
   ]
  },
  {
   "cell_type": "markdown",
   "metadata": {},
   "source": [
    "## 封装成函数"
   ]
  },
  {
   "cell_type": "code",
   "execution_count": 4,
   "metadata": {},
   "outputs": [],
   "source": [
    "def discount(n,cp,r):\n",
    "    total=0\n",
    "    for i in range(n):\n",
    "        cashflow=cp/(1+r)**(i+1)\n",
    "        total+=cashflow\n",
    "    return(total)"
   ]
  },
  {
   "cell_type": "code",
   "execution_count": 5,
   "metadata": {},
   "outputs": [
    {
     "name": "stdout",
     "output_type": "stream",
     "text": [
      "7721.734929184811\n"
     ]
    }
   ],
   "source": [
    "result=discount(10,1000,0.05)   #用一个变量接受return返回的值\n",
    "result"
   ]
  },
  {
   "cell_type": "markdown",
   "metadata": {},
   "source": [
    "## 现金流不固定\n",
    "第一年投资120万，第二年收益10万，……"
   ]
  },
  {
   "cell_type": "markdown",
   "metadata": {},
   "source": [
    "### 用到enumerate函数（注意和zip函数的对比）"
   ]
  },
  {
   "cell_type": "code",
   "execution_count": 13,
   "metadata": {},
   "outputs": [
    {
     "data": {
      "text/plain": [
       "array([[-120,   10],\n",
       "       [  30,   50],\n",
       "       [  40,   10]])"
      ]
     },
     "execution_count": 13,
     "metadata": {},
     "output_type": "execute_result"
    }
   ],
   "source": [
    "import numpy  as np\n",
    "cash_flow=[-120,10,30,50,40,10]\n",
    "x=np.array([-120,10,30,50,40,10]).reshape(3,2)\n",
    "x"
   ]
  },
  {
   "cell_type": "code",
   "execution_count": 22,
   "metadata": {},
   "outputs": [
    {
     "data": {
      "text/plain": [
       "array([-120,   30,   40])"
      ]
     },
     "execution_count": 22,
     "metadata": {},
     "output_type": "execute_result"
    },
    {
     "data": {
      "text/plain": [
       "array([10, 50, 10])"
      ]
     },
     "execution_count": 22,
     "metadata": {},
     "output_type": "execute_result"
    }
   ],
   "source": [
    "x[:,0] #第一列\n",
    "x[:,1] #取第二列"
   ]
  },
  {
   "cell_type": "code",
   "execution_count": 14,
   "metadata": {},
   "outputs": [
    {
     "name": "stdout",
     "output_type": "stream",
     "text": [
      "0 [-120   10]\n",
      "1 [30 50]\n",
      "2 [40 10]\n"
     ]
    }
   ],
   "source": [
    "for i,j in enumerate(x):\n",
    "    print(i,j)"
   ]
  },
  {
   "cell_type": "code",
   "execution_count": 23,
   "metadata": {},
   "outputs": [
    {
     "name": "stdout",
     "output_type": "stream",
     "text": [
      "-120 10\n",
      "30 50\n",
      "40 10\n"
     ]
    }
   ],
   "source": [
    "for i,j in zip(x[:,0],x[:,1]):\n",
    "    print(i,j)"
   ]
  },
  {
   "cell_type": "code",
   "execution_count": 7,
   "metadata": {},
   "outputs": [
    {
     "name": "stdout",
     "output_type": "stream",
     "text": [
      "0 -120\n",
      "1 10\n",
      "2 30\n",
      "3 50\n",
      "4 40\n",
      "5 10\n"
     ]
    }
   ],
   "source": [
    "cash_flow=[-120,10,30,50,40,10]\n",
    "for i,cashflow1 in enumerate(cash_flow):\n",
    "    print(i,cashflow1)"
   ]
  },
  {
   "cell_type": "markdown",
   "metadata": {},
   "source": [
    "### 应用"
   ]
  },
  {
   "cell_type": "code",
   "execution_count": 26,
   "metadata": {},
   "outputs": [
    {
     "name": "stdout",
     "output_type": "stream",
     "text": [
      "0.6699344604846695\n"
     ]
    }
   ],
   "source": [
    "cash_flow=[-120,10,30,50,40,10]\n",
    "count1=0\n",
    "for i,cashflow1 in enumerate(cash_flow):\n",
    "    count1+=cashflow1/(1+0.05)**i\n",
    "print(count1)\n",
    "    "
   ]
  },
  {
   "cell_type": "code",
   "execution_count": 27,
   "metadata": {},
   "outputs": [],
   "source": [
    "def now_cash(rate,cashflows):\n",
    "    count1=0\n",
    "    for i,cashflow in enumerate(cashflows):\n",
    "        count1+=cashflow/(1+rate)**i\n",
    "    return(count1)\n",
    "    "
   ]
  },
  {
   "cell_type": "code",
   "execution_count": 28,
   "metadata": {},
   "outputs": [
    {
     "data": {
      "text/plain": [
       "0.6699344604846695"
      ]
     },
     "execution_count": 28,
     "metadata": {},
     "output_type": "execute_result"
    }
   ],
   "source": [
    "result1=now_cash(0.05,cash_flow)\n",
    "result1"
   ]
  },
  {
   "cell_type": "markdown",
   "metadata": {},
   "source": [
    "# 神奇公式挑选股票\n",
    "神奇公式在中国的应用，按照扣非PE（市盈率）和ROIC（资本回报率）的排名加总进行排序，同时限制个股市值高于50亿，过去两年的PE和ROIC都是正直，以确保稳定经营，最终选取30支股票出来\n",
    "pe从低到高排名，ROIC从高到低排名"
   ]
  },
  {
   "cell_type": "code",
   "execution_count": null,
   "metadata": {},
   "outputs": [],
   "source": []
  }
 ],
 "metadata": {
  "kernelspec": {
   "display_name": "Python 3",
   "language": "python",
   "name": "python3"
  },
  "language_info": {
   "codemirror_mode": {
    "name": "ipython",
    "version": 3
   },
   "file_extension": ".py",
   "mimetype": "text/x-python",
   "name": "python",
   "nbconvert_exporter": "python",
   "pygments_lexer": "ipython3",
   "version": "3.7.3"
  },
  "toc": {
   "base_numbering": 1,
   "nav_menu": {},
   "number_sections": true,
   "sideBar": true,
   "skip_h1_title": false,
   "title_cell": "Table of Contents",
   "title_sidebar": "Contents",
   "toc_cell": false,
   "toc_position": {},
   "toc_section_display": true,
   "toc_window_display": true
  }
 },
 "nbformat": 4,
 "nbformat_minor": 2
}
