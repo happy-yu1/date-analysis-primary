{
 "cells": [
  {
   "cell_type": "code",
   "execution_count": 15,
   "metadata": {},
   "outputs": [],
   "source": [
    "import requests\n",
    "from bs4 import BeautifulSoup as bs\n",
    "import pandas as pd\n",
    "from lxml import etree\n",
    "header={'User-Agent':'Mozilla/5.0 (Windows NT 6.1; Win64; x64) AppleWebKit/537.36 (KHTML, like Gecko) Chrome/78.0.3904.70 Safari/537.36'}"
   ]
  },
  {
   "cell_type": "markdown",
   "metadata": {},
   "source": [
    "2018年统计用区划代码和城乡划分代码(截止2018年10月31日)\n",
    "\n",
    "http://www.stats.gov.cn/tjsj/tjbz/tjyqhdmhcxhfdm/2018/index.html\n",
    "\n",
    "为了后续拼接中不出现问题，需要将index.html去掉，同样可以访问到刚刚的网站\n",
    "\n",
    "http://www.stats.gov.cn/tjsj/tjbz/tjyqhdmhcxhfdm/2018/"
   ]
  },
  {
   "cell_type": "code",
   "execution_count": 4,
   "metadata": {},
   "outputs": [],
   "source": [
    "url='http://www.stats.gov.cn/tjsj/tjbz/tjyqhdmhcxhfdm/2018/index.html'\n",
    "header={'User-Agent':'Mozilla/5.0 (Windows NT 6.1; Win64; x64) AppleWebKit/537.36 (KHTML, like Gecko) Chrome/78.0.3904.70 Safari/537.36'}"
   ]
  },
  {
   "cell_type": "markdown",
   "metadata": {},
   "source": [
    "# 获取一级目录--l1\n",
    "省名和一级url"
   ]
  },
  {
   "cell_type": "markdown",
   "metadata": {},
   "source": [
    "## 请求和响应\n",
    "因为网页的特殊性，需要对返回的内容进行编码和解码，最终可以得到网页源代码，有两种方法"
   ]
  },
  {
   "cell_type": "markdown",
   "metadata": {},
   "source": [
    "### 法一："
   ]
  },
  {
   "cell_type": "code",
   "execution_count": 38,
   "metadata": {},
   "outputs": [],
   "source": [
    "def get_html(url):\n",
    "    header={'User-Agent':'Mozilla/5.0 (Windows NT 6.1; Win64; x64) AppleWebKit/537.36 (KHTML, like Gecko) Chrome/78.0.3904.70 Safari/537.36'}\n",
    "    res=requests.get(url,headers=header)\n",
    "    res.encoding='gbk'   #编码\n",
    "    h=res.content.decode('gbk') #解码 \n",
    "    return h\n"
   ]
  },
  {
   "cell_type": "code",
   "execution_count": 40,
   "metadata": {
    "scrolled": true
   },
   "outputs": [
    {
     "data": {
      "text/plain": [
       "'<!DOCTYPE HTML PUBLIC \"-//W3C//DTD HTML 4.01 Transitional//EN\" \"http://www.w3c.org/TR/1999/REC-html401-19991224/loose.dtd\">\\r\\n<HTML>\\r\\n<HEAD>\\r\\n<META content=\"text/html; charset=gb2312\" http-equiv=Content-Type>\\r\\n<TITLE>2018年统计用区划代码和城乡划分代码</TITLE>\\r\\n<STYLE type=text/css>\\r\\n\\tBODY {MARGIN: 0px}BODY {FONT-SIZE: 12px}\\r\\n\\tTD {FONT-SIZE: 12px}\\r\\n\\tTH {FONT-SIZE: 12px}\\r\\n\\t.redBig {COLOR: #d00018; FONT-SIZE: 18px; FONT-WEIGHT: bold}\\r\\n\\t.STYLE3 a{COLOR: #fff; text-decoration:none;}\\r\\n\\t.STYLE5 {COLOR: #236fbe; FONT-WEIGHT: bold}\\r\\n\\t.content {LINE-HEIGHT: 1.5; FONT-SIZE: 10.4pt}\\r\\n\\t.tdPading {PADDING-LEFT: 30px}.blue {COLOR: #0000ff}\\r\\n\\t.STYLE6 {COLOR: #ffffff}\\r\\n\\t.a2 {LINE-HEIGHT: 1.5; COLOR: #2a6fbd; FONT-SIZE: 12px}\\r\\n\\ta2:link {LINE-HEIGHT: 1.5; COLOR: #2a6fbd; FONT-SIZE: 12px}\\r\\n\\ta2:hover {LINE-HEIGHT: 1.5; COLOR: #2a6fbd; FONT-SIZE: 12px; TEXT-DECORATION: underline}\\r\\n\\ta2:visited {LINE-HEIGHT: 1.5; COLOR: #2a6fbd; FONT-SIZE: 12px}\\r\\n</STYLE>\\r\\n<SCRIPT language=javascript>\\r\\nfunction doZoom(size){document.getElementById(\\'zoom\\').style.fontSize=size+\\'px\\';}\\r\\n</SCRIPT>\\r\\n<META name=GENERATOR content=\"MSHTML 8.00.7600.16700\">\\r\\n</HEAD>\\r\\n<BODY>\\r\\n<TABLE border=0 cellSpacing=0 cellPadding=0 width=778 align=center>\\r\\n<TBODY>\\r\\n<TR><TD colSpan=2><IMG src=\"http://www.stats.gov.cn/images/banner.jpg\" width=778 height=135></TD></TR></TBODY></TABLE><MAP id=Map name=Map><AREA href=\"http://www.stats.gov.cn/english/\" shape=rect coords=277,4,328,18><AREA href=\"http://www.stats.gov.cn:82/\" shape=rect coords=181,4,236,18><AREA href=\"http://www.stats.gov.cn/\" shape=rect coords=85,4,140,17></MAP><TABLE border=0 cellSpacing=0 cellPadding=0 width=778 align=center><TBODY><TR><TD vAlign=top><TABLE style=\"MARGIN-TOP: 15px; MARGIN-BOTTOM: 18px\" border=0 cellSpacing=0 cellPadding=0 width=\"100%\" align=center><TBODY><TR><TD style=\" BACKGROUND-REPEAT: repeat-x; BACKGROUND-POSITION: 50% top\" background=images/topLine.gif align=right></TD></TR><TR><TD style=\" BACKGROUND-REPEAT: repeat-y; BACKGROUND-POSITION: right 50%\" vAlign=top background=images/rightBorder.gif><TABLE border=0 cellSpacing=0 cellPadding=0 width=\"100%\"><TBODY><TR><TD width=\"1%\" height=\"200\" vAlign=top>\\r\\n<table class=\\'provincetable\\' width=775 ><tr ><td colspan=8  height=1 style=\\'FONT-SIZE: 5px\\' >&nbsp;</td></tr>\\r\\n<tr class=\\'provincehead\\'><td  colspan=8 align=\\'center\\' style=\\'FONT-SIZE: 16px\\' height=39 vAlign=\\'center\\' background=\\'images/tiao.jpg\\'>\\r\\n<strong>2018年统计用区划代码和城乡划分代码(截止2018年10月31日)</strong></td>\\r\\n</tr>\\t<tr >\\r\\n  <td colspan=8  height=50 style=\\'FONT-SIZE: 12px\\' > \\u3000\\u3000统计用区划代码和城乡划分代码发布说明：<br>一、编制依据<br>\\r\\n2008年7月，国务院批复同意国家统计局与民政部、住建部、公安部、财政部、国土部、农业部共同制定的《关于统计上划分城乡的规定》（国函〔2008〕60号），自2008年8月1日实施，正式奠定了统计上划分城乡的理论依据和方法基础。随后，国家统计局印发《统计用区划代码和城乡划分代码编制规则》（国统字〔2009〕91号）。\\r\\n<br>二、区划范围<br>\\r\\n统计用区划代码和城乡划分代码的区划范围，是国家统计局开展统计调查的区划范围。未包括我国台湾省、香港特别行政区、澳门特别行政区。\\r\\n<br>三、发布内容<br>\\r\\n12位统计用区划代码和3位城乡分类代码。\\r\\n<br>四、适用领域<br>\\r\\n《国务院关于统计上划分城乡规定的批复》（国函〔2008〕60号）明确指出：“本规定作为统计上划分城乡的依据，不改变现有的行政区划、隶属关系、管理权限和机构编制，以及土地规划、城乡规划等有关规定”。各级各部门在使用统计用区划代码和城乡划分代码时，请务必结合实际情况。\\r\\n<br>五、几个具体问题的说明<br>\\r\\n（一）补充编制开发区统计汇总识别码情况。为满足统计调查工作组织和数据汇总的需要，国家统计局对一些符合条件的开发区编制了统计汇总识别码。统计汇总识别码在统计用区划代码的县级码段上编制，其码段为71～80。\\r\\n<br>（二）关于河北省沧州市任丘市的苟各庄镇、鄚州镇、七间房乡、保定市高阳县的龙化乡统计用区划代码临时调整情况的说明。按照河北省委、省政府关于对雄安新区周边部分区域实施托管的通知要求，沧州市任丘市的苟各庄镇、鄚州镇、七间房乡划归雄县实施统计上托管,保定市高阳县的龙化乡划归安新县实施统计上托管。为确保统计调查工作的顺利开展, 国家统计局对苟各庄镇、鄚州镇、七间房乡、龙化乡的统计用十二位区划代码进行了临时调整，具体调整为：鄚州镇代码由130982104000变更为130638106000；苟各庄镇代码由130982105000变更为130638107000；七间房乡代码由130982206000变更为130638205000；龙化乡代码由130628204000变更为130632203000。上述变更后的统计用区划代码为临时代码，待民政部门对雄安新区上述4个乡镇区划调整确认后,再将临时代码变更为正式统计用区划代码。\\r\\n<br>（三）关于黑龙江省大兴安岭地区县级单位统计用区划代码调整情况说明。民政部民函〔2018〕50号文件撤销黑龙江省大兴安岭地区漠河县（六位区划代码为232723），设立漠河市（六位区划代码为232701）。为执行国家标准，保证统计部门与民政部门名称相同的县级单位六位区划代码的一致性，国家统计局根据《统计用区划代码和城乡划分代码编制规则》（国统字〔2009〕91号），调整黑龙江省大兴安岭地区所辖的加格达奇区、松岭区、新林区和呼中区的六位统计用区划代码，具体调整为：加格达奇区代码由232701变更为232761；松岭区代码由232702变更为232762；新林区代码由232703变更为232763；呼中区代码由232704变更为232764。\\r\\n<br>（四）此版本区划代码与第四次全国经济普查区划代码的相关说明。此版本区划代码是调查截止日期为2018年10月31日的统计用区划代码。由于第四次全国经济普查清查工作于2018年8月开始，四经普的清查和登记工作中采用2018年6月15日的统计用区划代码。第四次全国经济普查数据处理使用2018年10月31日的统计用区划代码。\\r\\n<br></td>\\r\\n</tr>\\r\\n<tr class=\\'provincetr\\'><td><a href=\\'11.html\\'>北京市<br/></a></td><td><a href=\\'12.html\\'>天津市<br/></a></td><td><a href=\\'13.html\\'>河北省<br/></a></td><td><a href=\\'14.html\\'>山西省<br/></a></td><td><a href=\\'15.html\\'>内蒙古自治区<br/></a></td><td><a href=\\'21.html\\'>辽宁省<br/></a></td><td><a href=\\'22.html\\'>吉林省<br/></a></td><td><a href=\\'23.html\\'>黑龙江省<br/></a></td></tr><tr class=\\'provincetr\\'><td><a href=\\'31.html\\'>上海市<br/></a></td><td><a href=\\'32.html\\'>江苏省<br/></a></td><td><a href=\\'33.html\\'>浙江省<br/></a></td><td><a href=\\'34.html\\'>安徽省<br/></a></td><td><a href=\\'35.html\\'>福建省<br/></a></td><td><a href=\\'36.html\\'>江西省<br/></a></td><td><a href=\\'37.html\\'>山东省<br/></a></td><td><a href=\\'41.html\\'>河南省<br/></a></td></tr><tr class=\\'provincetr\\'><td><a href=\\'42.html\\'>湖北省<br/></a></td><td><a href=\\'43.html\\'>湖南省<br/></a></td><td><a href=\\'44.html\\'>广东省<br/></a></td><td><a href=\\'45.html\\'>广西壮族自治区<br/></a></td><td><a href=\\'46.html\\'>海南省<br/></a></td><td><a href=\\'50.html\\'>重庆市<br/></a></td><td><a href=\\'51.html\\'>四川省<br/></a></td><td><a href=\\'52.html\\'>贵州省<br/></a></td></tr><tr class=\\'provincetr\\'><td><a href=\\'53.html\\'>云南省<br/></a></td><td><a href=\\'54.html\\'>西藏自治区<br/></a></td><td><a href=\\'61.html\\'>陕西省<br/></a></td><td><a href=\\'62.html\\'>甘肃省<br/></a></td><td><a href=\\'63.html\\'>青海省<br/></a></td><td><a href=\\'64.html\\'>宁夏回族自治区<br/></a></td><td><a href=\\'65.html\\'>新疆维吾尔自治区<br/></a></td></tr>\\r\\n</table>\\r\\n</TD>\\r\\n</TR>\\r\\n</TBODY>\\r\\n</TABLE>\\r\\n</TD>\\r\\n</TR>\\r\\n<TR>\\r\\n<TD style=\"BACKGROUND-REPEAT: repeat-x; BACKGROUND-POSITION: 50% top\"          background=images/borderBottom.gif>\\r\\n</TD></TR></TBODY>\\r\\n</TABLE></TD></TR>  <TR>    <TD bgColor=#e2eefc height=2></TD></TR>  <TR>\\r\\n<TD class=STYLE3 height=60>\\r\\n<DIV align=center style=\"background-color:#1E67A7; height:75px; color:#fff;\"><br/>\\r\\n版权所有：中华人民共和国国家统计局\\u3000\\u3000<A class=STYLE3       href=\"http://www.miibeian.gov.cn/\"       target=_blank>京ICP备05034670号</A><BR><BR>地址：北京市西城区月坛南街57号（100826）<BR></DIV></TD></TR></TBODY></TABLE></BODY></HTML>\\r\\n'"
      ]
     },
     "execution_count": 40,
     "metadata": {},
     "output_type": "execute_result"
    }
   ],
   "source": [
    "html=get_html(url)\n",
    "html"
   ]
  },
  {
   "cell_type": "markdown",
   "metadata": {},
   "source": [
    "### 法二：\n",
    "转码的方式不同而已"
   ]
  },
  {
   "cell_type": "code",
   "execution_count": null,
   "metadata": {},
   "outputs": [],
   "source": [
    "def request_html(url):\n",
    "    header={'User-Agent':'Mozilla/5.0 (Windows NT 6.1; Win64; x64) AppleWebKit/537.36 (KHTML, like Gecko) Chrome/78.0.3904.70 Safari/537.36'}\n",
    "    res=requests.get(url,headers=header)\n",
    "    res.encoding=res.apparent_encoding \n",
    "    return res.text\n",
    "html=request_html(url)\n",
    "html\n"
   ]
  },
  {
   "cell_type": "markdown",
   "metadata": {},
   "source": [
    "## 解析\n",
    "html源代码中，如下样式的a标签的href属性中    存在每个省的url链接：\n",
    "<a href='11.html'>北京市<br/></a></td><td><a href='12.html'>天津市<br/></a></td><td>\n",
    "    \n",
    "1、首先，我们要得到 北京市 11.html， 天津市 12.html 这样的信息\n",
    "\n",
    "2、其次，进行拼接。拼接的方法中，除了format（），还有+\n",
    "\n",
    "因为每个省最终的链接并不是11.html，还有一个公共的部分http://www.stats.gov.cn/tjsj/tjbz/tjyqhdmhcxhfdm/2018/"
   ]
  },
  {
   "cell_type": "markdown",
   "metadata": {},
   "source": [
    "### re进行解析\n",
    "set（）方法的作用是将获得的信息转化成一个集合，实现去重的作用，爬虫中常用"
   ]
  },
  {
   "cell_type": "code",
   "execution_count": null,
   "metadata": {},
   "outputs": [],
   "source": [
    "def parse_re(html,addr=''):\n",
    "    pattern=re.compile(\"<a href='(.*?)'>(.*?)<\")\n",
    "    ls.extend(list(set(re.findall(pattern,html))))\n",
    "    for i in ls:\n",
    "        ls[i]+=addr"
   ]
  },
  {
   "cell_type": "code",
   "execution_count": null,
   "metadata": {},
   "outputs": [],
   "source": []
  },
  {
   "cell_type": "markdown",
   "metadata": {},
   "source": [
    "### bs进行解析"
   ]
  },
  {
   "cell_type": "markdown",
   "metadata": {},
   "source": [
    "#### 基本描述\n",
    "通过该方法可以获得所有的url，['11.html','12.html',……，'http://www.miibeian.gov.cn/']\n",
    "\n",
    "最后一项不是所要的内容，需要去除"
   ]
  },
  {
   "cell_type": "code",
   "execution_count": 65,
   "metadata": {},
   "outputs": [
    {
     "data": {
      "text/plain": [
       "[{'province': '北京市',\n",
       "  'url': 'http://www.stats.gov.cn/tjsj/tjbz/tjyqhdmhcxhfdm/2018/11.html'},\n",
       " {'province': '天津市',\n",
       "  'url': 'http://www.stats.gov.cn/tjsj/tjbz/tjyqhdmhcxhfdm/2018/12.html'}]"
      ]
     },
     "execution_count": 65,
     "metadata": {},
     "output_type": "execute_result"
    }
   ],
   "source": [
    "soup=bs(html,'lxml')\n",
    "tags=soup.find_all('a')\n",
    "total_data=[]\n",
    "URL='http://www.stats.gov.cn/tjsj/tjbz/tjyqhdmhcxhfdm/2018/'\n",
    "for tag in tags[:-1]:   #剔除掉最后一行的内容\n",
    "    province=tag.get_text()\n",
    "    url=tag.get('href')\n",
    "    data={\"province\":province,\"url\":URL+url}\n",
    "    total_data.append(data)\n",
    "total_data[:2]"
   ]
  },
  {
   "cell_type": "markdown",
   "metadata": {},
   "source": [
    "#### 用列表生成式进行简化"
   ]
  },
  {
   "cell_type": "code",
   "execution_count": 73,
   "metadata": {},
   "outputs": [
    {
     "data": {
      "text/plain": [
       "[('http://www.stats.gov.cn/tjsj/tjbz/tjyqhdmhcxhfdm/2018/11.html', '北京市'),\n",
       " ('http://www.stats.gov.cn/tjsj/tjbz/tjyqhdmhcxhfdm/2018/12.html', '天津市')]"
      ]
     },
     "execution_count": 73,
     "metadata": {},
     "output_type": "execute_result"
    }
   ],
   "source": [
    "soup=bs(html,'lxml')\n",
    "tags=soup.find_all('a')\n",
    "addr=''\n",
    "URL='http://www.stats.gov.cn/tjsj/tjbz/tjyqhdmhcxhfdm/2018/'\n",
    "ls=[(URL+i.get('href'),i.get_text()) for i in tags[:-1]]\n",
    "ls[:2]"
   ]
  },
  {
   "cell_type": "markdown",
   "metadata": {},
   "source": [
    "用if判断，删除掉后面步骤中不需要的信息\n",
    "('http://www.stats.gov.cn/tjsj/tjbz/tjyqhdmhcxhfdm/2018/13/1301.html',\n",
    "  '河北省130100000000'),"
   ]
  },
  {
   "cell_type": "code",
   "execution_count": 118,
   "metadata": {},
   "outputs": [],
   "source": [
    "#定义函数，此时addr=''还没有用，目前可有可无\n",
    "def parse_bs(html,addr=''):  \n",
    "    URL='http://www.stats.gov.cn/tjsj/tjbz/tjyqhdmhcxhfdm/2018/'\n",
    "    soup=bs(html,'lxml')\n",
    "    tags=soup.find_all('a')\n",
    "    l1=[(URL+i.get('href'),addr+i.get_text()) for i in tags[:-1]]\n",
    "    for i in l1:\n",
    "        if i[1][-1]=='0':  #如果返回的结果以字符串0结尾，则删除掉，此处没用，后面有用\n",
    "            l1.remove(i)\n",
    "    return l1"
   ]
  },
  {
   "cell_type": "code",
   "execution_count": 188,
   "metadata": {},
   "outputs": [
    {
     "data": {
      "text/plain": [
       "[('http://www.stats.gov.cn/tjsj/tjbz/tjyqhdmhcxhfdm/2018/11.html', '北京市'),\n",
       " ('http://www.stats.gov.cn/tjsj/tjbz/tjyqhdmhcxhfdm/2018/12.html', '天津市'),\n",
       " ('http://www.stats.gov.cn/tjsj/tjbz/tjyqhdmhcxhfdm/2018/13.html', '河北省'),\n",
       " ('http://www.stats.gov.cn/tjsj/tjbz/tjyqhdmhcxhfdm/2018/14.html', '山西省'),\n",
       " ('http://www.stats.gov.cn/tjsj/tjbz/tjyqhdmhcxhfdm/2018/15.html', '内蒙古自治区'),\n",
       " ('http://www.stats.gov.cn/tjsj/tjbz/tjyqhdmhcxhfdm/2018/21.html', '辽宁省'),\n",
       " ('http://www.stats.gov.cn/tjsj/tjbz/tjyqhdmhcxhfdm/2018/22.html', '吉林省'),\n",
       " ('http://www.stats.gov.cn/tjsj/tjbz/tjyqhdmhcxhfdm/2018/23.html', '黑龙江省'),\n",
       " ('http://www.stats.gov.cn/tjsj/tjbz/tjyqhdmhcxhfdm/2018/31.html', '上海市'),\n",
       " ('http://www.stats.gov.cn/tjsj/tjbz/tjyqhdmhcxhfdm/2018/32.html', '江苏省'),\n",
       " ('http://www.stats.gov.cn/tjsj/tjbz/tjyqhdmhcxhfdm/2018/33.html', '浙江省'),\n",
       " ('http://www.stats.gov.cn/tjsj/tjbz/tjyqhdmhcxhfdm/2018/34.html', '安徽省'),\n",
       " ('http://www.stats.gov.cn/tjsj/tjbz/tjyqhdmhcxhfdm/2018/35.html', '福建省'),\n",
       " ('http://www.stats.gov.cn/tjsj/tjbz/tjyqhdmhcxhfdm/2018/36.html', '江西省'),\n",
       " ('http://www.stats.gov.cn/tjsj/tjbz/tjyqhdmhcxhfdm/2018/37.html', '山东省'),\n",
       " ('http://www.stats.gov.cn/tjsj/tjbz/tjyqhdmhcxhfdm/2018/41.html', '河南省'),\n",
       " ('http://www.stats.gov.cn/tjsj/tjbz/tjyqhdmhcxhfdm/2018/42.html', '湖北省'),\n",
       " ('http://www.stats.gov.cn/tjsj/tjbz/tjyqhdmhcxhfdm/2018/43.html', '湖南省'),\n",
       " ('http://www.stats.gov.cn/tjsj/tjbz/tjyqhdmhcxhfdm/2018/44.html', '广东省'),\n",
       " ('http://www.stats.gov.cn/tjsj/tjbz/tjyqhdmhcxhfdm/2018/45.html', '广西壮族自治区'),\n",
       " ('http://www.stats.gov.cn/tjsj/tjbz/tjyqhdmhcxhfdm/2018/46.html', '海南省'),\n",
       " ('http://www.stats.gov.cn/tjsj/tjbz/tjyqhdmhcxhfdm/2018/50.html', '重庆市'),\n",
       " ('http://www.stats.gov.cn/tjsj/tjbz/tjyqhdmhcxhfdm/2018/51.html', '四川省'),\n",
       " ('http://www.stats.gov.cn/tjsj/tjbz/tjyqhdmhcxhfdm/2018/52.html', '贵州省'),\n",
       " ('http://www.stats.gov.cn/tjsj/tjbz/tjyqhdmhcxhfdm/2018/53.html', '云南省'),\n",
       " ('http://www.stats.gov.cn/tjsj/tjbz/tjyqhdmhcxhfdm/2018/54.html', '西藏自治区'),\n",
       " ('http://www.stats.gov.cn/tjsj/tjbz/tjyqhdmhcxhfdm/2018/61.html', '陕西省'),\n",
       " ('http://www.stats.gov.cn/tjsj/tjbz/tjyqhdmhcxhfdm/2018/62.html', '甘肃省'),\n",
       " ('http://www.stats.gov.cn/tjsj/tjbz/tjyqhdmhcxhfdm/2018/63.html', '青海省'),\n",
       " ('http://www.stats.gov.cn/tjsj/tjbz/tjyqhdmhcxhfdm/2018/64.html', '宁夏回族自治区'),\n",
       " ('http://www.stats.gov.cn/tjsj/tjbz/tjyqhdmhcxhfdm/2018/65.html', '新疆维吾尔自治区')]"
      ]
     },
     "execution_count": 188,
     "metadata": {},
     "output_type": "execute_result"
    }
   ],
   "source": [
    "l1=parse_bs(html)\n",
    "l1"
   ]
  },
  {
   "cell_type": "markdown",
   "metadata": {},
   "source": [
    "# 获取二级目录--l2\n",
    " #此时用到之前定义的addr变量\n",
    " \n",
    "<a href=\"13/1301.html\">石家庄市</a>\n",
    "得到的一级url为 http://www.stats.gov.cn/tjsj/tjbz/tjyqhdmhcxhfdm/2018/12.html'\n",
    "\n",
    "完整二级url为  http://www.stats.gov.cn/tjsj/tjbz/tjyqhdmhcxhfdm/2018/12/1201.html"
   ]
  },
  {
   "cell_type": "markdown",
   "metadata": {},
   "source": [
    "## 解析函数中没有if\n",
    "根据一级url获得二级url过程中，按上面的操作，一个一级url会得到两条数据：第一条数据使我们不需要的，需要在前面定义解析函数的时候，将不需要的数据删除掉\n",
    "\n",
    "('http://www.stats.gov.cn/tjsj/tjbz/tjyqhdmhcxhfdm/2018/13/1301.html',\n",
    "  '河北省130100000000'),\n",
    " ('http://www.stats.gov.cn/tjsj/tjbz/tjyqhdmhcxhfdm/2018/13/1301.html',\n",
    "  '河北省石家庄市'),"
   ]
  },
  {
   "cell_type": "markdown",
   "metadata": {},
   "source": [
    "def get_l2(l1):   \n",
    "    for url_2,addr in l1[:3]:\n",
    "        html=get_html(url_2)\n",
    "        l2=parse_bs(html,addr)\n",
    "    return l2\n",
    "    "
   ]
  },
  {
   "cell_type": "markdown",
   "metadata": {},
   "source": [
    "l2=get_l2(l1)\n",
    "l2[:5]\n",
    "\n",
    "[('http://www.stats.gov.cn/tjsj/tjbz/tjyqhdmhcxhfdm/2018/13/1301.html',\n",
    "  '河北省130100000000'),\n",
    " ('http://www.stats.gov.cn/tjsj/tjbz/tjyqhdmhcxhfdm/2018/13/1301.html',\n",
    "  '河北省石家庄市'),\n",
    " ('http://www.stats.gov.cn/tjsj/tjbz/tjyqhdmhcxhfdm/2018/13/1302.html',\n",
    "  '河北省130200000000'),\n",
    " ('http://www.stats.gov.cn/tjsj/tjbz/tjyqhdmhcxhfdm/2018/13/1302.html',\n",
    "  '河北省唐山市'),\n",
    " ('http://www.stats.gov.cn/tjsj/tjbz/tjyqhdmhcxhfdm/2018/13/1303.html',\n",
    "  '河北省130300000000')]"
   ]
  },
  {
   "cell_type": "markdown",
   "metadata": {},
   "source": [
    "## 添加if判断后\n",
    "注意l2.extend（）和l2.append（）的区别"
   ]
  },
  {
   "cell_type": "code",
   "execution_count": 198,
   "metadata": {},
   "outputs": [],
   "source": [
    "def get_l2(l1):   \n",
    "    l2=[]  #必须要有，否则只会保存最后一次循环的数据，一级目录获取时，可以不用，\n",
    "    for url_2,addr in l1[:3]:\n",
    "        html=get_html(url_2)\n",
    "        l2.extend(parse_bs(html,addr))\n",
    "    return l2"
   ]
  },
  {
   "cell_type": "code",
   "execution_count": 199,
   "metadata": {},
   "outputs": [
    {
     "data": {
      "text/plain": [
       "[('http://www.stats.gov.cn/tjsj/tjbz/tjyqhdmhcxhfdm/2018/11/1101.html',\n",
       "  '北京市市辖区'),\n",
       " ('http://www.stats.gov.cn/tjsj/tjbz/tjyqhdmhcxhfdm/2018/12/1201.html',\n",
       "  '天津市市辖区'),\n",
       " ('http://www.stats.gov.cn/tjsj/tjbz/tjyqhdmhcxhfdm/2018/13/1301.html',\n",
       "  '河北省石家庄市'),\n",
       " ('http://www.stats.gov.cn/tjsj/tjbz/tjyqhdmhcxhfdm/2018/13/1302.html',\n",
       "  '河北省唐山市'),\n",
       " ('http://www.stats.gov.cn/tjsj/tjbz/tjyqhdmhcxhfdm/2018/13/1303.html',\n",
       "  '河北省秦皇岛市')]"
      ]
     },
     "execution_count": 199,
     "metadata": {},
     "output_type": "execute_result"
    }
   ],
   "source": [
    "l2=get_l2(l1)\n",
    "l2[:5]"
   ]
  },
  {
   "cell_type": "markdown",
   "metadata": {},
   "source": [
    "# 获取三级目录--l3\n",
    "注意：：：三级目录的规律与y一二不同"
   ]
  },
  {
   "cell_type": "markdown",
   "metadata": {},
   "source": [
    "http://www.stats.gov.cn/tjsj/tjbz/tjyqhdmhcxhfdm/2018/       原始URL \n",
    "\n",
    "http://www.stats.gov.cn/tjsj/tjbz/tjyqhdmhcxhfdm/2018/11.html   一级\n",
    "\n",
    "http://www.stats.gov.cn/tjsj/tjbz/tjyqhdmhcxhfdm/2018/11/1101.html   二级\n",
    "\n",
    "http://www.stats.gov.cn/tjsj/tjbz/tjyqhdmhcxhfdm/2018/11/01/110101.html  三级\n",
    "\n",
    "对应的a标签信息为：<a href=\"01/110101.html\">东城区</a>"
   ]
  },
  {
   "cell_type": "markdown",
   "metadata": {},
   "source": [
    "## 重新定义l3的解析方法\n",
    "三级的url共同部分时二级url的前半部分（去掉后9位的部分），不再是之前统一的URL了，"
   ]
  },
  {
   "cell_type": "code",
   "execution_count": 132,
   "metadata": {},
   "outputs": [],
   "source": [
    "def parse_l3(html,url_3,addr):  \n",
    "    soup=bs(html,'lxml')\n",
    "    tags=soup.find_all('a')\n",
    "    \n",
    "    l3=[(url_3[:-9]+i.get('href'),addr+i.get_text()) for i in tags[:-1]]\n",
    "    for i in l3:\n",
    "        if i[1][-1]=='0':  #如果返回的结果以字符串0结尾，则删除掉，此处没用，后面有用\n",
    "            l3.remove(i)\n",
    "    return l3"
   ]
  },
  {
   "cell_type": "code",
   "execution_count": 131,
   "metadata": {},
   "outputs": [
    {
     "data": {
      "text/plain": [
       "[('http://www.stats.gov.cn/tjsj/tjbz/tjyqhdmhcxhfdm/2018/13/1301.html',\n",
       "  '河北省石家庄市'),\n",
       " ('http://www.stats.gov.cn/tjsj/tjbz/tjyqhdmhcxhfdm/2018/13/1302.html',\n",
       "  '河北省唐山市'),\n",
       " ('http://www.stats.gov.cn/tjsj/tjbz/tjyqhdmhcxhfdm/2018/13/1303.html',\n",
       "  '河北省秦皇岛市')]"
      ]
     },
     "execution_count": 131,
     "metadata": {},
     "output_type": "execute_result"
    }
   ],
   "source": [
    "l2[:3]"
   ]
  },
  {
   "cell_type": "markdown",
   "metadata": {},
   "source": [
    "## 获取数据"
   ]
  },
  {
   "cell_type": "code",
   "execution_count": 200,
   "metadata": {},
   "outputs": [],
   "source": [
    "def get_l3(l2):   \n",
    "    l3=[]\n",
    "    for url_3,addr in l2[:2]:\n",
    "        html=get_html(url_3)\n",
    "        l3.extend(parse_l3(html,url_3,addr))\n",
    "    return l3"
   ]
  },
  {
   "cell_type": "code",
   "execution_count": 210,
   "metadata": {},
   "outputs": [
    {
     "data": {
      "text/plain": [
       "[('http://www.stats.gov.cn/tjsj/tjbz/tjyqhdmhcxhfdm/2018/11/01/110101.html',\n",
       "  '北京市市辖区东城区'),\n",
       " ('http://www.stats.gov.cn/tjsj/tjbz/tjyqhdmhcxhfdm/2018/11/01/110102.html',\n",
       "  '北京市市辖区西城区'),\n",
       " ('http://www.stats.gov.cn/tjsj/tjbz/tjyqhdmhcxhfdm/2018/11/01/110105.html',\n",
       "  '北京市市辖区朝阳区'),\n",
       " ('http://www.stats.gov.cn/tjsj/tjbz/tjyqhdmhcxhfdm/2018/11/01/110106.html',\n",
       "  '北京市市辖区丰台区'),\n",
       " ('http://www.stats.gov.cn/tjsj/tjbz/tjyqhdmhcxhfdm/2018/11/01/110107.html',\n",
       "  '北京市市辖区石景山区'),\n",
       " ('http://www.stats.gov.cn/tjsj/tjbz/tjyqhdmhcxhfdm/2018/11/01/110108.html',\n",
       "  '北京市市辖区海淀区'),\n",
       " ('http://www.stats.gov.cn/tjsj/tjbz/tjyqhdmhcxhfdm/2018/11/01/110109.html',\n",
       "  '北京市市辖区门头沟区'),\n",
       " ('http://www.stats.gov.cn/tjsj/tjbz/tjyqhdmhcxhfdm/2018/11/01/110111.html',\n",
       "  '北京市市辖区房山区'),\n",
       " ('http://www.stats.gov.cn/tjsj/tjbz/tjyqhdmhcxhfdm/2018/11/01/110112.html',\n",
       "  '北京市市辖区通州区'),\n",
       " ('http://www.stats.gov.cn/tjsj/tjbz/tjyqhdmhcxhfdm/2018/11/01/110113.html',\n",
       "  '北京市市辖区顺义区'),\n",
       " ('http://www.stats.gov.cn/tjsj/tjbz/tjyqhdmhcxhfdm/2018/11/01/110114.html',\n",
       "  '北京市市辖区昌平区'),\n",
       " ('http://www.stats.gov.cn/tjsj/tjbz/tjyqhdmhcxhfdm/2018/11/01/110115.html',\n",
       "  '北京市市辖区大兴区'),\n",
       " ('http://www.stats.gov.cn/tjsj/tjbz/tjyqhdmhcxhfdm/2018/11/01/110116.html',\n",
       "  '北京市市辖区怀柔区'),\n",
       " ('http://www.stats.gov.cn/tjsj/tjbz/tjyqhdmhcxhfdm/2018/11/01/110117.html',\n",
       "  '北京市市辖区平谷区'),\n",
       " ('http://www.stats.gov.cn/tjsj/tjbz/tjyqhdmhcxhfdm/2018/11/01/110118.html',\n",
       "  '北京市市辖区密云区'),\n",
       " ('http://www.stats.gov.cn/tjsj/tjbz/tjyqhdmhcxhfdm/2018/11/01/110119.html',\n",
       "  '北京市市辖区延庆区'),\n",
       " ('http://www.stats.gov.cn/tjsj/tjbz/tjyqhdmhcxhfdm/2018/12/01/120101.html',\n",
       "  '天津市市辖区和平区'),\n",
       " ('http://www.stats.gov.cn/tjsj/tjbz/tjyqhdmhcxhfdm/2018/12/01/120102.html',\n",
       "  '天津市市辖区河东区'),\n",
       " ('http://www.stats.gov.cn/tjsj/tjbz/tjyqhdmhcxhfdm/2018/12/01/120103.html',\n",
       "  '天津市市辖区河西区'),\n",
       " ('http://www.stats.gov.cn/tjsj/tjbz/tjyqhdmhcxhfdm/2018/12/01/120104.html',\n",
       "  '天津市市辖区南开区'),\n",
       " ('http://www.stats.gov.cn/tjsj/tjbz/tjyqhdmhcxhfdm/2018/12/01/120105.html',\n",
       "  '天津市市辖区河北区'),\n",
       " ('http://www.stats.gov.cn/tjsj/tjbz/tjyqhdmhcxhfdm/2018/12/01/120106.html',\n",
       "  '天津市市辖区红桥区'),\n",
       " ('http://www.stats.gov.cn/tjsj/tjbz/tjyqhdmhcxhfdm/2018/12/01/120110.html',\n",
       "  '天津市市辖区东丽区'),\n",
       " ('http://www.stats.gov.cn/tjsj/tjbz/tjyqhdmhcxhfdm/2018/12/01/120111.html',\n",
       "  '天津市市辖区西青区'),\n",
       " ('http://www.stats.gov.cn/tjsj/tjbz/tjyqhdmhcxhfdm/2018/12/01/120112.html',\n",
       "  '天津市市辖区津南区'),\n",
       " ('http://www.stats.gov.cn/tjsj/tjbz/tjyqhdmhcxhfdm/2018/12/01/120113.html',\n",
       "  '天津市市辖区北辰区'),\n",
       " ('http://www.stats.gov.cn/tjsj/tjbz/tjyqhdmhcxhfdm/2018/12/01/120114.html',\n",
       "  '天津市市辖区武清区'),\n",
       " ('http://www.stats.gov.cn/tjsj/tjbz/tjyqhdmhcxhfdm/2018/12/01/120115.html',\n",
       "  '天津市市辖区宝坻区'),\n",
       " ('http://www.stats.gov.cn/tjsj/tjbz/tjyqhdmhcxhfdm/2018/12/01/120116.html',\n",
       "  '天津市市辖区滨海新区'),\n",
       " ('http://www.stats.gov.cn/tjsj/tjbz/tjyqhdmhcxhfdm/2018/12/01/120117.html',\n",
       "  '天津市市辖区宁河区'),\n",
       " ('http://www.stats.gov.cn/tjsj/tjbz/tjyqhdmhcxhfdm/2018/12/01/120118.html',\n",
       "  '天津市市辖区静海区'),\n",
       " ('http://www.stats.gov.cn/tjsj/tjbz/tjyqhdmhcxhfdm/2018/12/01/120119.html',\n",
       "  '天津市市辖区蓟州区')]"
      ]
     },
     "execution_count": 210,
     "metadata": {},
     "output_type": "execute_result"
    }
   ],
   "source": [
    "l3=get_l3(l2)\n",
    "l3"
   ]
  },
  {
   "cell_type": "markdown",
   "metadata": {},
   "source": [
    "# 四级目录-l4"
   ]
  },
  {
   "cell_type": "markdown",
   "metadata": {},
   "source": [
    "<a href=\"02/130202001.html\">学院南路街道办事处</a >\n",
    "\n",
    "'http://www.stats.gov.cn/tjsj/tjbz/tjyqhdmhcxhfdm/2018/13/02/130202.html'  三级\n",
    "\n",
    "http://www.stats.gov.cn/tjsj/tjbz/tjyqhdmhcxhfdm/2018/13/02/02/130202001.html 四级\n",
    "\n",
    "三级去掉后11位的部分+href中的内容"
   ]
  },
  {
   "cell_type": "code",
   "execution_count": 162,
   "metadata": {},
   "outputs": [],
   "source": [
    "def parse_l4(html,url_4,addr):  \n",
    "    soup=bs(html,'lxml')\n",
    "    tags=soup.find_all('a')\n",
    "    \n",
    "    l4=[(url_4[:-11]+i.get('href'),addr+i.get_text()) for i in tags[:-1]]\n",
    "    for i in l4:\n",
    "        if i[1][-1]=='0':  #如果返回的结果以字符串0结尾，则删除掉，此处没用，后面有用\n",
    "            l4.remove(i)\n",
    "    return l4\n"
   ]
  },
  {
   "cell_type": "code",
   "execution_count": 202,
   "metadata": {},
   "outputs": [],
   "source": [
    "def get_l4(l3):  \n",
    "    l4=[]\n",
    "    for url_4,addr in l3[:2]:\n",
    "        html=get_html(url_4)\n",
    "        l4.extend(parse_l4(html,url_4,addr))\n",
    "    return l4"
   ]
  },
  {
   "cell_type": "code",
   "execution_count": 209,
   "metadata": {},
   "outputs": [
    {
     "data": {
      "text/plain": [
       "[('http://www.stats.gov.cn/tjsj/tjbz/tjyqhdmhcxhfdm/2018/11/01/01/110101001.html',\n",
       "  '北京市市辖区东城区东华门街道办事处'),\n",
       " ('http://www.stats.gov.cn/tjsj/tjbz/tjyqhdmhcxhfdm/2018/11/01/01/110101002.html',\n",
       "  '北京市市辖区东城区景山街道办事处'),\n",
       " ('http://www.stats.gov.cn/tjsj/tjbz/tjyqhdmhcxhfdm/2018/11/01/01/110101003.html',\n",
       "  '北京市市辖区东城区交道口街道办事处'),\n",
       " ('http://www.stats.gov.cn/tjsj/tjbz/tjyqhdmhcxhfdm/2018/11/01/01/110101004.html',\n",
       "  '北京市市辖区东城区安定门街道办事处'),\n",
       " ('http://www.stats.gov.cn/tjsj/tjbz/tjyqhdmhcxhfdm/2018/11/01/01/110101005.html',\n",
       "  '北京市市辖区东城区北新桥街道办事处'),\n",
       " ('http://www.stats.gov.cn/tjsj/tjbz/tjyqhdmhcxhfdm/2018/11/01/01/110101006.html',\n",
       "  '北京市市辖区东城区东四街道办事处'),\n",
       " ('http://www.stats.gov.cn/tjsj/tjbz/tjyqhdmhcxhfdm/2018/11/01/01/110101007.html',\n",
       "  '北京市市辖区东城区朝阳门街道办事处'),\n",
       " ('http://www.stats.gov.cn/tjsj/tjbz/tjyqhdmhcxhfdm/2018/11/01/01/110101008.html',\n",
       "  '北京市市辖区东城区建国门街道办事处'),\n",
       " ('http://www.stats.gov.cn/tjsj/tjbz/tjyqhdmhcxhfdm/2018/11/01/01/110101009.html',\n",
       "  '北京市市辖区东城区东直门街道办事处'),\n",
       " ('http://www.stats.gov.cn/tjsj/tjbz/tjyqhdmhcxhfdm/2018/11/01/01/110101010.html',\n",
       "  '北京市市辖区东城区和平里街道办事处'),\n",
       " ('http://www.stats.gov.cn/tjsj/tjbz/tjyqhdmhcxhfdm/2018/11/01/01/110101011.html',\n",
       "  '北京市市辖区东城区前门街道办事处'),\n",
       " ('http://www.stats.gov.cn/tjsj/tjbz/tjyqhdmhcxhfdm/2018/11/01/01/110101012.html',\n",
       "  '北京市市辖区东城区崇文门外街道办事处'),\n",
       " ('http://www.stats.gov.cn/tjsj/tjbz/tjyqhdmhcxhfdm/2018/11/01/01/110101013.html',\n",
       "  '北京市市辖区东城区东花市街道办事处'),\n",
       " ('http://www.stats.gov.cn/tjsj/tjbz/tjyqhdmhcxhfdm/2018/11/01/01/110101014.html',\n",
       "  '北京市市辖区东城区龙潭街道办事处'),\n",
       " ('http://www.stats.gov.cn/tjsj/tjbz/tjyqhdmhcxhfdm/2018/11/01/01/110101015.html',\n",
       "  '北京市市辖区东城区体育馆路街道办事处'),\n",
       " ('http://www.stats.gov.cn/tjsj/tjbz/tjyqhdmhcxhfdm/2018/11/01/01/110101016.html',\n",
       "  '北京市市辖区东城区天坛街道办事处'),\n",
       " ('http://www.stats.gov.cn/tjsj/tjbz/tjyqhdmhcxhfdm/2018/11/01/01/110101017.html',\n",
       "  '北京市市辖区东城区永定门外街道办事处'),\n",
       " ('http://www.stats.gov.cn/tjsj/tjbz/tjyqhdmhcxhfdm/2018/11/01/02/110102001.html',\n",
       "  '北京市市辖区西城区西长安街街道办事处'),\n",
       " ('http://www.stats.gov.cn/tjsj/tjbz/tjyqhdmhcxhfdm/2018/11/01/02/110102003.html',\n",
       "  '北京市市辖区西城区新街口街道办事处'),\n",
       " ('http://www.stats.gov.cn/tjsj/tjbz/tjyqhdmhcxhfdm/2018/11/01/02/110102007.html',\n",
       "  '北京市市辖区西城区月坛街道办事处'),\n",
       " ('http://www.stats.gov.cn/tjsj/tjbz/tjyqhdmhcxhfdm/2018/11/01/02/110102009.html',\n",
       "  '北京市市辖区西城区展览路街道办事处'),\n",
       " ('http://www.stats.gov.cn/tjsj/tjbz/tjyqhdmhcxhfdm/2018/11/01/02/110102010.html',\n",
       "  '北京市市辖区西城区德胜街道办事处'),\n",
       " ('http://www.stats.gov.cn/tjsj/tjbz/tjyqhdmhcxhfdm/2018/11/01/02/110102011.html',\n",
       "  '北京市市辖区西城区金融街街道办事处'),\n",
       " ('http://www.stats.gov.cn/tjsj/tjbz/tjyqhdmhcxhfdm/2018/11/01/02/110102012.html',\n",
       "  '北京市市辖区西城区什刹海街道办事处'),\n",
       " ('http://www.stats.gov.cn/tjsj/tjbz/tjyqhdmhcxhfdm/2018/11/01/02/110102013.html',\n",
       "  '北京市市辖区西城区大栅栏街道办事处'),\n",
       " ('http://www.stats.gov.cn/tjsj/tjbz/tjyqhdmhcxhfdm/2018/11/01/02/110102014.html',\n",
       "  '北京市市辖区西城区天桥街道办事处'),\n",
       " ('http://www.stats.gov.cn/tjsj/tjbz/tjyqhdmhcxhfdm/2018/11/01/02/110102015.html',\n",
       "  '北京市市辖区西城区椿树街道办事处'),\n",
       " ('http://www.stats.gov.cn/tjsj/tjbz/tjyqhdmhcxhfdm/2018/11/01/02/110102016.html',\n",
       "  '北京市市辖区西城区陶然亭街道办事处'),\n",
       " ('http://www.stats.gov.cn/tjsj/tjbz/tjyqhdmhcxhfdm/2018/11/01/02/110102017.html',\n",
       "  '北京市市辖区西城区广安门内街道办事处'),\n",
       " ('http://www.stats.gov.cn/tjsj/tjbz/tjyqhdmhcxhfdm/2018/11/01/02/110102018.html',\n",
       "  '北京市市辖区西城区牛街街道办事处'),\n",
       " ('http://www.stats.gov.cn/tjsj/tjbz/tjyqhdmhcxhfdm/2018/11/01/02/110102019.html',\n",
       "  '北京市市辖区西城区白纸坊街道办事处'),\n",
       " ('http://www.stats.gov.cn/tjsj/tjbz/tjyqhdmhcxhfdm/2018/11/01/02/110102020.html',\n",
       "  '北京市市辖区西城区广安门外街道办事处')]"
      ]
     },
     "execution_count": 209,
     "metadata": {},
     "output_type": "execute_result"
    }
   ],
   "source": [
    "l4=get_l4(l3)\n",
    "l4"
   ]
  },
  {
   "cell_type": "markdown",
   "metadata": {},
   "source": [
    "# 最后一级目录--l5"
   ]
  },
  {
   "cell_type": "markdown",
   "metadata": {},
   "source": [
    "最后一级的内容和之前不太一样，下面没有连接了，只需要获取到地址便可，不需要连接，\n",
    "\n",
    "而且地址不在a标签中，而在tr标签里  \n",
    "<tr class=\"villagetr\"><td>130202001001</td><td>111</td><td>立新东楼社区居委会</td></tr>"
   ]
  },
  {
   "cell_type": "markdown",
   "metadata": {},
   "source": [
    "filter(str.isalpha,i.get_text())  \n",
    "\n",
    "filter的作用是过滤的目的，i.get_text()会得到所有的文本：130202001001立新东楼社区居委会 \n",
    "\n",
    "前面的数字不是所需要的，需要删除掉，str.isalpha表示匹配的是数字\n",
    "\n",
    "也可用re模块中的sub函数进行替换"
   ]
  },
  {
   "cell_type": "code",
   "execution_count": 165,
   "metadata": {},
   "outputs": [
    {
     "data": {
      "text/plain": [
       "<filter at 0x114e2cf8>"
      ]
     },
     "execution_count": 165,
     "metadata": {},
     "output_type": "execute_result"
    }
   ],
   "source": [
    "a='130202001001立新东楼社区居委会'\n",
    "b=filter(str.isalpha,a)\n",
    "b"
   ]
  },
  {
   "cell_type": "code",
   "execution_count": 166,
   "metadata": {},
   "outputs": [
    {
     "data": {
      "text/plain": [
       "['立', '新', '东', '楼', '社', '区', '居', '委', '会']"
      ]
     },
     "execution_count": 166,
     "metadata": {},
     "output_type": "execute_result"
    }
   ],
   "source": [
    "list(b)"
   ]
  },
  {
   "cell_type": "code",
   "execution_count": 172,
   "metadata": {},
   "outputs": [
    {
     "data": {
      "text/plain": [
       "'立新东楼社区居委会'"
      ]
     },
     "execution_count": 172,
     "metadata": {},
     "output_type": "execute_result"
    }
   ],
   "source": [
    "c=''.join(list(filter(str.isalpha,a)))\n",
    "c"
   ]
  },
  {
   "cell_type": "code",
   "execution_count": 207,
   "metadata": {},
   "outputs": [],
   "source": [
    "def parse_l5(html,addr):  \n",
    "    soup=bs(html,'lxml')\n",
    "    tags=soup.select('tr.villagetr')\n",
    "    addr_list=[]\n",
    "    for i in tags:\n",
    "        addr_l5=filter(str.isalpha,i.get_text())\n",
    "        addr_l5=''.join(list(addr_l5))\n",
    "        addr_list.append(addr+addr_l5)\n",
    "    return addr_list\n",
    "\n",
    "def get_l5(l4):   \n",
    "    l5=[]\n",
    "    for url_5,addr in l4[:5]:\n",
    "        html=get_html(url_5)\n",
    "        l5.extend(parse_l5(html,addr))\n",
    "    return l5"
   ]
  },
  {
   "cell_type": "code",
   "execution_count": 208,
   "metadata": {},
   "outputs": [
    {
     "data": {
      "text/plain": [
       "['北京市市辖区东城区东华门街道办事处多福巷社区居委会',\n",
       " '北京市市辖区东城区东华门街道办事处银闸社区居委会',\n",
       " '北京市市辖区东城区东华门街道办事处东厂社区居委会',\n",
       " '北京市市辖区东城区东华门街道办事处智德社区居委会',\n",
       " '北京市市辖区东城区东华门街道办事处南池子社区居委会',\n",
       " '北京市市辖区东城区东华门街道办事处黄图岗社区居委会',\n",
       " '北京市市辖区东城区东华门街道办事处灯市口社区居委会',\n",
       " '北京市市辖区东城区东华门街道办事处正义路社区居委会',\n",
       " '北京市市辖区东城区东华门街道办事处甘雨社区居委会',\n",
       " '北京市市辖区东城区东华门街道办事处台基厂社区居委会',\n",
       " '北京市市辖区东城区东华门街道办事处韶九社区居委会',\n",
       " '北京市市辖区东城区东华门街道办事处王府井社区居委会',\n",
       " '北京市市辖区东城区景山街道办事处隆福寺社区居委会',\n",
       " '北京市市辖区东城区景山街道办事处吉祥社区居委会',\n",
       " '北京市市辖区东城区景山街道办事处黄化门社区居委会',\n",
       " '北京市市辖区东城区景山街道办事处钟鼓社区居委会',\n",
       " '北京市市辖区东城区景山街道办事处魏家社区居委会',\n",
       " '北京市市辖区东城区景山街道办事处汪芝麻社区居委会',\n",
       " '北京市市辖区东城区景山街道办事处景山东街社区居委会',\n",
       " '北京市市辖区东城区景山街道办事处皇城根北街社区居委会',\n",
       " '北京市市辖区东城区交道口街道办事处交东社区居委会',\n",
       " '北京市市辖区东城区交道口街道办事处福祥社区居委会',\n",
       " '北京市市辖区东城区交道口街道办事处大兴社区居委会',\n",
       " '北京市市辖区东城区交道口街道办事处府学社区居委会',\n",
       " '北京市市辖区东城区交道口街道办事处鼓楼苑社区居委会',\n",
       " '北京市市辖区东城区交道口街道办事处菊儿社区居委会',\n",
       " '北京市市辖区东城区交道口街道办事处南锣鼓巷社区居委会',\n",
       " '北京市市辖区东城区安定门街道办事处交北头条社区居委会',\n",
       " '北京市市辖区东城区安定门街道办事处北锣鼓巷社区居委会',\n",
       " '北京市市辖区东城区安定门街道办事处国子监社区居委会',\n",
       " '北京市市辖区东城区安定门街道办事处钟楼湾社区居委会',\n",
       " '北京市市辖区东城区安定门街道办事处宝钞南社区居委会',\n",
       " '北京市市辖区东城区安定门街道办事处五道营社区居委会',\n",
       " '北京市市辖区东城区安定门街道办事处分司厅社区居委会',\n",
       " '北京市市辖区东城区安定门街道办事处国旺社区居委会',\n",
       " '北京市市辖区东城区安定门街道办事处花园社区居委会',\n",
       " '北京市市辖区东城区北新桥街道办事处海运仓社区居委会',\n",
       " '北京市市辖区东城区北新桥街道办事处北新仓社区居委会',\n",
       " '北京市市辖区东城区北新桥街道办事处门楼社区居委会',\n",
       " '北京市市辖区东城区北新桥街道办事处十三条社区居委会',\n",
       " '北京市市辖区东城区北新桥街道办事处民安社区居委会',\n",
       " '北京市市辖区东城区北新桥街道办事处九道湾社区居委会',\n",
       " '北京市市辖区东城区北新桥街道办事处北官厅社区居委会',\n",
       " '北京市市辖区东城区北新桥街道办事处青龙社区居委会',\n",
       " '北京市市辖区东城区北新桥街道办事处小菊社区居委会',\n",
       " '北京市市辖区东城区北新桥街道办事处藏经馆社区居委会',\n",
       " '北京市市辖区东城区北新桥街道办事处草园社区居委会',\n",
       " '北京市市辖区东城区北新桥街道办事处前永康社区居委会']"
      ]
     },
     "execution_count": 208,
     "metadata": {},
     "output_type": "execute_result"
    }
   ],
   "source": [
    "l5=get_l5(l4)\n",
    "l5"
   ]
  },
  {
   "cell_type": "code",
   "execution_count": null,
   "metadata": {},
   "outputs": [],
   "source": []
  }
 ],
 "metadata": {
  "kernelspec": {
   "display_name": "Python 3",
   "language": "python",
   "name": "python3"
  },
  "language_info": {
   "codemirror_mode": {
    "name": "ipython",
    "version": 3
   },
   "file_extension": ".py",
   "mimetype": "text/x-python",
   "name": "python",
   "nbconvert_exporter": "python",
   "pygments_lexer": "ipython3",
   "version": "3.7.3"
  },
  "toc": {
   "base_numbering": 1,
   "nav_menu": {},
   "number_sections": true,
   "sideBar": true,
   "skip_h1_title": false,
   "title_cell": "Table of Contents",
   "title_sidebar": "Contents",
   "toc_cell": false,
   "toc_position": {},
   "toc_section_display": true,
   "toc_window_display": true
  }
 },
 "nbformat": 4,
 "nbformat_minor": 2
}
