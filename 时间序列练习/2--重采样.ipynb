{
 "cells": [
  {
   "cell_type": "code",
   "execution_count": 6,
   "metadata": {},
   "outputs": [],
   "source": [
    "import numpy as np\n",
    "import pandas as pd\n",
    "import tushare as ts\n",
    "import datetime"
   ]
  },
  {
   "cell_type": "markdown",
   "metadata": {},
   "source": [
    "# 重采样--resample"
   ]
  },
  {
   "cell_type": "code",
   "execution_count": 11,
   "metadata": {},
   "outputs": [
    {
     "data": {
      "text/plain": [
       "2019-01-20    0.108407\n",
       "2019-01-21   -0.207059\n",
       "2019-01-22    0.059489\n",
       "2019-01-23    0.110114\n",
       "2019-01-24   -0.798554\n",
       "2019-01-25   -0.893206\n",
       "2019-01-26   -0.432704\n",
       "2019-01-27    0.295135\n",
       "2019-01-28   -0.959801\n",
       "2019-01-29   -0.384601\n",
       "2019-01-30   -0.576327\n",
       "2019-01-31   -0.307720\n",
       "2019-02-01   -0.539017\n",
       "2019-02-02   -1.855175\n",
       "2019-02-03   -0.191353\n",
       "2019-02-04   -0.518426\n",
       "2019-02-05    0.740790\n",
       "2019-02-06   -0.662326\n",
       "2019-02-07   -0.065361\n",
       "2019-02-08   -1.632426\n",
       "2019-02-09   -0.564452\n",
       "2019-02-10   -0.099890\n",
       "Freq: D, dtype: float64"
      ]
     },
     "execution_count": 11,
     "metadata": {},
     "output_type": "execute_result"
    }
   ],
   "source": [
    "dates=pd.date_range(start='2019-1-20',end='2019/2/10' ,freq='D')\n",
    "df=pd.Series(np.random.randn(len(dates)),index=dates)\n",
    "df"
   ]
  },
  {
   "cell_type": "markdown",
   "metadata": {},
   "source": [
    "## 统计每个月的数据总和"
   ]
  },
  {
   "cell_type": "code",
   "execution_count": 12,
   "metadata": {},
   "outputs": [
    {
     "data": {
      "text/plain": [
       "2019-01-31   -3.986828\n",
       "2019-02-28   -5.387635\n",
       "Freq: M, dtype: float64"
      ]
     },
     "execution_count": 12,
     "metadata": {},
     "output_type": "execute_result"
    }
   ],
   "source": [
    "df.resample('M').sum()"
   ]
  },
  {
   "cell_type": "markdown",
   "metadata": {},
   "source": [
    "# 降采样"
   ]
  },
  {
   "cell_type": "markdown",
   "metadata": {},
   "source": [
    "## ohlc()\n",
    "如果选择5D作为频率，则 open\thigh\tlow\tclose代表这五天中开始，最高，最低，结束时候的数据"
   ]
  },
  {
   "cell_type": "code",
   "execution_count": 13,
   "metadata": {},
   "outputs": [
    {
     "data": {
      "text/html": [
       "<div>\n",
       "<style scoped>\n",
       "    .dataframe tbody tr th:only-of-type {\n",
       "        vertical-align: middle;\n",
       "    }\n",
       "\n",
       "    .dataframe tbody tr th {\n",
       "        vertical-align: top;\n",
       "    }\n",
       "\n",
       "    .dataframe thead th {\n",
       "        text-align: right;\n",
       "    }\n",
       "</style>\n",
       "<table border=\"1\" class=\"dataframe\">\n",
       "  <thead>\n",
       "    <tr style=\"text-align: right;\">\n",
       "      <th></th>\n",
       "      <th>open</th>\n",
       "      <th>high</th>\n",
       "      <th>low</th>\n",
       "      <th>close</th>\n",
       "    </tr>\n",
       "  </thead>\n",
       "  <tbody>\n",
       "    <tr>\n",
       "      <th>2019-01-20</th>\n",
       "      <td>0.108407</td>\n",
       "      <td>0.110114</td>\n",
       "      <td>-0.798554</td>\n",
       "      <td>-0.798554</td>\n",
       "    </tr>\n",
       "    <tr>\n",
       "      <th>2019-01-25</th>\n",
       "      <td>-0.893206</td>\n",
       "      <td>0.295135</td>\n",
       "      <td>-0.959801</td>\n",
       "      <td>-0.384601</td>\n",
       "    </tr>\n",
       "    <tr>\n",
       "      <th>2019-01-30</th>\n",
       "      <td>-0.576327</td>\n",
       "      <td>-0.191353</td>\n",
       "      <td>-1.855175</td>\n",
       "      <td>-0.191353</td>\n",
       "    </tr>\n",
       "    <tr>\n",
       "      <th>2019-02-04</th>\n",
       "      <td>-0.518426</td>\n",
       "      <td>0.740790</td>\n",
       "      <td>-1.632426</td>\n",
       "      <td>-1.632426</td>\n",
       "    </tr>\n",
       "    <tr>\n",
       "      <th>2019-02-09</th>\n",
       "      <td>-0.564452</td>\n",
       "      <td>-0.099890</td>\n",
       "      <td>-0.564452</td>\n",
       "      <td>-0.099890</td>\n",
       "    </tr>\n",
       "  </tbody>\n",
       "</table>\n",
       "</div>"
      ],
      "text/plain": [
       "                open      high       low     close\n",
       "2019-01-20  0.108407  0.110114 -0.798554 -0.798554\n",
       "2019-01-25 -0.893206  0.295135 -0.959801 -0.384601\n",
       "2019-01-30 -0.576327 -0.191353 -1.855175 -0.191353\n",
       "2019-02-04 -0.518426  0.740790 -1.632426 -1.632426\n",
       "2019-02-09 -0.564452 -0.099890 -0.564452 -0.099890"
      ]
     },
     "execution_count": 13,
     "metadata": {},
     "output_type": "execute_result"
    }
   ],
   "source": [
    "df.resample('5D').ohlc()"
   ]
  },
  {
   "cell_type": "markdown",
   "metadata": {},
   "source": [
    "## groupby( )\n",
    "传入一个函数，进行分组，实现降采样：month week  weekday\n",
    "若频率不是常用的，需要自己自定义函数func（），通过groupby（func），注意，func（x）中的x必须为行或者列索引，"
   ]
  },
  {
   "cell_type": "code",
   "execution_count": 19,
   "metadata": {},
   "outputs": [
    {
     "data": {
      "text/plain": [
       "1   -3.986828\n",
       "2   -5.387635\n",
       "dtype: float64"
      ]
     },
     "execution_count": 19,
     "metadata": {},
     "output_type": "execute_result"
    }
   ],
   "source": [
    "df.groupby(lambda x : x.month).sum()   #按月份分组"
   ]
  },
  {
   "cell_type": "code",
   "execution_count": 20,
   "metadata": {},
   "outputs": [
    {
     "data": {
      "text/plain": [
       "3    0.108407\n",
       "4   -1.866786\n",
       "5   -4.813993\n",
       "6   -2.802090\n",
       "dtype: float64"
      ]
     },
     "execution_count": 20,
     "metadata": {},
     "output_type": "execute_result"
    }
   ],
   "source": [
    "df.groupby(lambda x : x.week).sum()     #按一周分组"
   ]
  },
  {
   "cell_type": "code",
   "execution_count": 21,
   "metadata": {},
   "outputs": [
    {
     "data": {
      "text/plain": [
       "0   -1.685286\n",
       "1    0.415678\n",
       "2   -1.128539\n",
       "3   -1.171635\n",
       "4   -3.064649\n",
       "5   -2.852331\n",
       "6    0.112299\n",
       "dtype: float64"
      ]
     },
     "execution_count": 21,
     "metadata": {},
     "output_type": "execute_result"
    }
   ],
   "source": [
    "df.groupby(lambda x : x.weekday).sum()    #周一到周五"
   ]
  },
  {
   "cell_type": "markdown",
   "metadata": {},
   "source": [
    "# 升采样"
   ]
  },
  {
   "cell_type": "code",
   "execution_count": 23,
   "metadata": {},
   "outputs": [
    {
     "data": {
      "text/plain": [
       "2019-01-20   -0.429505\n",
       "2019-01-27    0.102117\n",
       "2019-02-03    1.328110\n",
       "2019-02-10    2.008211\n",
       "Freq: W-SUN, dtype: float64"
      ]
     },
     "execution_count": 23,
     "metadata": {},
     "output_type": "execute_result"
    }
   ],
   "source": [
    "dates=pd.date_range(start='2019-1-20',end='2019/2/10' ,freq='W')\n",
    "df=pd.Series(np.random.randn(len(dates)),index=dates)\n",
    "df"
   ]
  },
  {
   "cell_type": "markdown",
   "metadata": {},
   "source": [
    "## asfreq（）--直接重采样会出现空值\n",
    "时间周期的频率转换，如年度周期到月度周期\n",
    " "
   ]
  },
  {
   "cell_type": "code",
   "execution_count": 25,
   "metadata": {},
   "outputs": [
    {
     "data": {
      "text/plain": [
       "2019-01-20   -0.429505\n",
       "2019-01-21         NaN\n",
       "2019-01-22         NaN\n",
       "2019-01-23         NaN\n",
       "2019-01-24         NaN\n",
       "2019-01-25         NaN\n",
       "2019-01-26         NaN\n",
       "Freq: D, dtype: float64"
      ]
     },
     "execution_count": 25,
     "metadata": {},
     "output_type": "execute_result"
    }
   ],
   "source": [
    "df.resample('D').asfreq().head(7)"
   ]
  },
  {
   "cell_type": "markdown",
   "metadata": {},
   "source": [
    "## ffill( n )---从前往后填充空值\n",
    "表示向后填充n个数据--"
   ]
  },
  {
   "cell_type": "code",
   "execution_count": 28,
   "metadata": {},
   "outputs": [
    {
     "data": {
      "text/plain": [
       "2019-01-20   -0.429505\n",
       "2019-01-21   -0.429505\n",
       "2019-01-22   -0.429505\n",
       "2019-01-23         NaN\n",
       "2019-01-24         NaN\n",
       "2019-01-25         NaN\n",
       "2019-01-26         NaN\n",
       "Freq: D, dtype: float64"
      ]
     },
     "execution_count": 28,
     "metadata": {},
     "output_type": "execute_result"
    }
   ],
   "source": [
    "df.resample('D').ffill(2).head(7)"
   ]
  },
  {
   "cell_type": "markdown",
   "metadata": {},
   "source": [
    "## bfill( n )---从后往前填充空值"
   ]
  },
  {
   "cell_type": "code",
   "execution_count": 29,
   "metadata": {},
   "outputs": [
    {
     "data": {
      "text/plain": [
       "2019-01-20   -0.429505\n",
       "2019-01-21         NaN\n",
       "2019-01-22         NaN\n",
       "2019-01-23         NaN\n",
       "2019-01-24         NaN\n",
       "2019-01-25    0.102117\n",
       "2019-01-26    0.102117\n",
       "Freq: D, dtype: float64"
      ]
     },
     "execution_count": 29,
     "metadata": {},
     "output_type": "execute_result"
    }
   ],
   "source": [
    "df.resample('D').bfill(2).head(7)"
   ]
  },
  {
   "cell_type": "markdown",
   "metadata": {},
   "source": [
    "## fillna( )---传入相关参数\n",
    "如：bfill  ffill"
   ]
  },
  {
   "cell_type": "code",
   "execution_count": 31,
   "metadata": {},
   "outputs": [
    {
     "data": {
      "text/plain": [
       "2019-01-20   -0.429505\n",
       "2019-01-21    0.102117\n",
       "2019-01-22    0.102117\n",
       "2019-01-23    0.102117\n",
       "2019-01-24    0.102117\n",
       "2019-01-25    0.102117\n",
       "2019-01-26    0.102117\n",
       "Freq: D, dtype: float64"
      ]
     },
     "execution_count": 31,
     "metadata": {},
     "output_type": "execute_result"
    }
   ],
   "source": [
    "df.resample('D').fillna('bfill').head(7)"
   ]
  },
  {
   "cell_type": "markdown",
   "metadata": {},
   "source": [
    "## interpolate()--插值法填充\n",
    "常用线性'linear'"
   ]
  },
  {
   "cell_type": "code",
   "execution_count": 34,
   "metadata": {},
   "outputs": [
    {
     "data": {
      "text/plain": [
       "2019-01-20   -0.429505\n",
       "2019-01-21   -0.353559\n",
       "2019-01-22   -0.277613\n",
       "2019-01-23   -0.201667\n",
       "2019-01-24   -0.125721\n",
       "Freq: D, dtype: float64"
      ]
     },
     "execution_count": 34,
     "metadata": {},
     "output_type": "execute_result"
    }
   ],
   "source": [
    "df.resample('D').interpolate( 'linear').head()"
   ]
  },
  {
   "cell_type": "code",
   "execution_count": null,
   "metadata": {},
   "outputs": [],
   "source": []
  }
 ],
 "metadata": {
  "kernelspec": {
   "display_name": "Python 3",
   "language": "python",
   "name": "python3"
  },
  "language_info": {
   "codemirror_mode": {
    "name": "ipython",
    "version": 3
   },
   "file_extension": ".py",
   "mimetype": "text/x-python",
   "name": "python",
   "nbconvert_exporter": "python",
   "pygments_lexer": "ipython3",
   "version": "3.7.3"
  },
  "toc": {
   "base_numbering": 1,
   "nav_menu": {},
   "number_sections": true,
   "sideBar": true,
   "skip_h1_title": false,
   "title_cell": "Table of Contents",
   "title_sidebar": "Contents",
   "toc_cell": false,
   "toc_position": {},
   "toc_section_display": true,
   "toc_window_display": true
  }
 },
 "nbformat": 4,
 "nbformat_minor": 2
}
